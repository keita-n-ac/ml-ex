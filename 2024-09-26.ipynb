{
 "cells": [
  {
   "cell_type": "markdown",
   "id": "65a395e1cea9c1aa",
   "metadata": {},
   "source": [
    "# プログラミング言語 Python\n",
    "- プログラムがシンプルで，読みやすさ・書きやすさを重視した設計\n",
    "- 様々なOSに対応 (Windows, macOS, Unix, Linuxなど)\n",
    "- 人工知能(AI)，ロボット，データサイエンスなど，幅広い開発分野で利用\n",
    "  - 機械学習で利用されている\n",
    "- 本講義が対象とするPythonのバージョンは3系\n",
    "\n",
    "### 簡単な数式を入力し実行することで，数式の計算結果が表示される\n",
    "- Pythonでは # 以降は説明コメントとなる\n",
    "  - プログラムとして扱われない\n",
    "- プログラムは半角英数字で書く（全角はコメントや文字を扱う場合にしか使用しない）\n",
    "  - アルファベットの大文字と小文字は違うものとして扱う\n",
    "    - abcとABCは別物として扱われる \n",
    "  - 一文字違うだけでプログラムは正常に動かない\n",
    "    - 半角スペースだけ無視される\n",
    "  - 全角スペースによるエラーが起きやすいので注意"
   ]
  },
  {
   "cell_type": "code",
   "id": "d905427200c2df2a",
   "metadata": {
    "ExecuteTime": {
     "end_time": "2024-09-25T07:25:52.799196Z",
     "start_time": "2024-09-25T07:25:52.795843Z"
    }
   },
   "source": [
    "4 + 3 # 足し算（加算）"
   ],
   "outputs": [
    {
     "data": {
      "text/plain": [
       "7"
      ]
     },
     "execution_count": 1,
     "metadata": {},
     "output_type": "execute_result"
    }
   ],
   "execution_count": 1
  },
  {
   "cell_type": "code",
   "id": "97cdd4df8ed620aa",
   "metadata": {
    "ExecuteTime": {
     "end_time": "2024-09-25T07:25:52.872892Z",
     "start_time": "2024-09-25T07:25:52.870640Z"
    }
   },
   "source": [
    "5 - 3 # 引き算（減算）"
   ],
   "outputs": [
    {
     "data": {
      "text/plain": [
       "2"
      ]
     },
     "execution_count": 2,
     "metadata": {},
     "output_type": "execute_result"
    }
   ],
   "execution_count": 2
  },
  {
   "cell_type": "code",
   "id": "9062a023d540d818",
   "metadata": {
    "ExecuteTime": {
     "end_time": "2024-09-25T07:25:53.581129Z",
     "start_time": "2024-09-25T07:25:53.578180Z"
    }
   },
   "source": [
    "7 * 2 # 掛け算（乗算）"
   ],
   "outputs": [
    {
     "data": {
      "text/plain": [
       "14"
      ]
     },
     "execution_count": 3,
     "metadata": {},
     "output_type": "execute_result"
    }
   ],
   "execution_count": 3
  },
  {
   "cell_type": "code",
   "id": "12f0d8534abbe9c8",
   "metadata": {
    "ExecuteTime": {
     "end_time": "2024-09-25T07:25:54.147928Z",
     "start_time": "2024-09-25T07:25:54.145238Z"
    }
   },
   "source": [
    "8 / 2 # 割り算（除算）\n",
    "# 整数同⼠の結果が⼩数になることに注意"
   ],
   "outputs": [
    {
     "data": {
      "text/plain": [
       "4.0"
      ]
     },
     "execution_count": 4,
     "metadata": {},
     "output_type": "execute_result"
    }
   ],
   "execution_count": 4
  },
  {
   "cell_type": "code",
   "id": "49b2041d97bb3678",
   "metadata": {
    "ExecuteTime": {
     "end_time": "2024-09-25T07:25:54.552476Z",
     "start_time": "2024-09-25T07:25:54.550009Z"
    }
   },
   "source": [
    "3 + 4.0 # 整数と⼩数の計算結果は⼩数となることに注意"
   ],
   "outputs": [
    {
     "data": {
      "text/plain": [
       "7.0"
      ]
     },
     "execution_count": 5,
     "metadata": {},
     "output_type": "execute_result"
    }
   ],
   "execution_count": 5
  },
  {
   "cell_type": "markdown",
   "id": "4a89d30e7dcb7b16",
   "metadata": {},
   "source": [
    "### 計算の順番は，数学の数式と同様\n",
    "- 丸括弧( ) → 乗除計算 → 加減計算の順序で行う\n",
    "- 計算順番さえ分かれば，対話モードを簡易電卓として使用可能\n",
    "  - 自由に試してみてください"
   ]
  },
  {
   "cell_type": "code",
   "id": "f7cd05498c4d6c43",
   "metadata": {
    "ExecuteTime": {
     "end_time": "2024-09-25T07:25:55.460039Z",
     "start_time": "2024-09-25T07:25:55.457730Z"
    }
   },
   "source": [
    "(3 + 4) / (2 + 3) # 7 / 5 = 1.4"
   ],
   "outputs": [
    {
     "data": {
      "text/plain": [
       "1.4"
      ]
     },
     "execution_count": 6,
     "metadata": {},
     "output_type": "execute_result"
    }
   ],
   "execution_count": 6
  },
  {
   "cell_type": "code",
   "id": "768e298fc2351f0b",
   "metadata": {
    "ExecuteTime": {
     "end_time": "2024-09-25T07:25:55.859177Z",
     "start_time": "2024-09-25T07:25:55.856123Z"
    }
   },
   "source": [
    "3 + 4 / 2 + 3 # 3 + 2.0 + 3 = 8.0"
   ],
   "outputs": [
    {
     "data": {
      "text/plain": [
       "8.0"
      ]
     },
     "execution_count": 7,
     "metadata": {},
     "output_type": "execute_result"
    }
   ],
   "execution_count": 7
  },
  {
   "cell_type": "markdown",
   "id": "71542bfd3d24cf3f",
   "metadata": {},
   "source": [
    "### 算術演算子\n",
    "- 計算（加算，減算，乗算，除算など）に関する演算子\n",
    "  - 演算子: 各種の演算（計算，比較，代入など）を表す記号\n",
    "\n",
    "| 演算子 | 意味           | 使用例    | 使用結果 | \n",
    "|---|--------------|--------|------| \n",
    "| + | 加算           | 6 + 4  | 10   | \n",
    "| - | 減算           | 6 - 4  | 2    | \n",
    "| * | 乗算           | 6 * 4  | 24   | \n",
    "| / | 除算           | 6 / 4  | 1.5  | \n",
    "| % | 剰余（余り）       | 6 % 4  | 2    | \n",
    "| ** | 累乗           | 6 ** 4 | 1296 | \n",
    "| // | 切り捨て除算（整数結果） | 6 // 4 | 1    | "
   ]
  },
  {
   "cell_type": "markdown",
   "id": "afb5563b814323a3",
   "metadata": {},
   "source": [
    "### Pythonで文字列を扱う場合\n",
    "- シングルクォーテーション ' か，ダブルクォーテーション \" を使用して，扱う文字列を囲む\n",
    "  - どちらの記号を使っても問題ないが，前後の囲む記号を統一すること"
   ]
  },
  {
   "cell_type": "code",
   "id": "e372756086d5521c",
   "metadata": {
    "ExecuteTime": {
     "end_time": "2024-09-25T07:25:57.135715Z",
     "start_time": "2024-09-25T07:25:57.131733Z"
    }
   },
   "source": [
    "'abc123' # ⽂字列の場合，シングルクォーテーションが両端に表⽰される"
   ],
   "outputs": [
    {
     "data": {
      "text/plain": [
       "'abc123'"
      ]
     },
     "execution_count": 8,
     "metadata": {},
     "output_type": "execute_result"
    }
   ],
   "execution_count": 8
  },
  {
   "cell_type": "code",
   "id": "7ce6aec23d5df31a",
   "metadata": {
    "ExecuteTime": {
     "end_time": "2024-09-25T07:25:57.590537Z",
     "start_time": "2024-09-25T07:25:57.587577Z"
    }
   },
   "source": [
    "\"abc123\" # ⽂字列の場合，シングルクォーテーションが両端に表⽰される"
   ],
   "outputs": [
    {
     "data": {
      "text/plain": [
       "'abc123'"
      ]
     },
     "execution_count": 9,
     "metadata": {},
     "output_type": "execute_result"
    }
   ],
   "execution_count": 9
  },
  {
   "cell_type": "markdown",
   "id": "414c4a704a15be92",
   "metadata": {},
   "source": [
    "- 文字列同士は，+演算子で繋げることができる\n",
    "- ⽂字列 * ⾃然数にした場合，文字列を繰り返して連結した文字列となる"
   ]
  },
  {
   "cell_type": "code",
   "id": "9c519e522e6a9d8a",
   "metadata": {
    "ExecuteTime": {
     "end_time": "2024-09-25T07:25:58.126515Z",
     "start_time": "2024-09-25T07:25:58.124368Z"
    }
   },
   "source": [
    "\"abc\" + \"xyz\""
   ],
   "outputs": [
    {
     "data": {
      "text/plain": [
       "'abcxyz'"
      ]
     },
     "execution_count": 10,
     "metadata": {},
     "output_type": "execute_result"
    }
   ],
   "execution_count": 10
  },
  {
   "cell_type": "code",
   "id": "3acc6d693d360082",
   "metadata": {
    "ExecuteTime": {
     "end_time": "2024-09-25T07:25:58.345961Z",
     "start_time": "2024-09-25T07:25:58.343536Z"
    }
   },
   "source": [
    "'a' * 4 # ⽂字列aを4回繰り返した⽂字列"
   ],
   "outputs": [
    {
     "data": {
      "text/plain": [
       "'aaaa'"
      ]
     },
     "execution_count": 11,
     "metadata": {},
     "output_type": "execute_result"
    }
   ],
   "execution_count": 11
  },
  {
   "cell_type": "code",
   "id": "aca37575e9c8319",
   "metadata": {
    "ExecuteTime": {
     "end_time": "2024-09-25T07:25:58.617815Z",
     "start_time": "2024-09-25T07:25:58.615035Z"
    }
   },
   "source": [
    "'abc' * 3 # ⽂字列abcを3回繰り返した⽂字列"
   ],
   "outputs": [
    {
     "data": {
      "text/plain": [
       "'abcabcabc'"
      ]
     },
     "execution_count": 12,
     "metadata": {},
     "output_type": "execute_result"
    }
   ],
   "execution_count": 12
  },
  {
   "cell_type": "code",
   "id": "c115efa73962cd2",
   "metadata": {
    "ExecuteTime": {
     "end_time": "2024-09-25T07:25:58.752389Z",
     "start_time": "2024-09-25T07:25:58.750126Z"
    }
   },
   "source": [
    "'123' * 2 # ⽂字列123を2回繰り返した⽂字列"
   ],
   "outputs": [
    {
     "data": {
      "text/plain": [
       "'123123'"
      ]
     },
     "execution_count": 13,
     "metadata": {},
     "output_type": "execute_result"
    }
   ],
   "execution_count": 13
  },
  {
   "cell_type": "code",
   "id": "b0c8d46b29528aca",
   "metadata": {
    "ExecuteTime": {
     "end_time": "2024-09-25T07:25:58.945702Z",
     "start_time": "2024-09-25T07:25:58.943156Z"
    }
   },
   "source": [
    "'a' * 8 + 'b' * 4\n",
    "# ⽂字列aを8回繰り返した⽂字列と⽂字列bを4回繰り返した⽂字列との連結\n",
    "# つまり，⽂字列'aaaaaaaa'と⽂字列'bbbb'を連結"
   ],
   "outputs": [
    {
     "data": {
      "text/plain": [
       "'aaaaaaaabbbb'"
      ]
     },
     "execution_count": 14,
     "metadata": {},
     "output_type": "execute_result"
    }
   ],
   "execution_count": 14
  },
  {
   "cell_type": "markdown",
   "id": "5331a4fb9705e82",
   "metadata": {},
   "source": [
    "### 標準出力\n",
    "- 数値，文字列，計算結果を標準出力（画面出力）するには，print()を使用する\n",
    "  - print(⽂字列)とした場合，シングルクォーテーションが付かないことに注意"
   ]
  },
  {
   "cell_type": "code",
   "id": "a1f81366574e7380",
   "metadata": {
    "ExecuteTime": {
     "end_time": "2024-09-25T07:25:59.587143Z",
     "start_time": "2024-09-25T07:25:59.584975Z"
    }
   },
   "source": [
    "# print()を使わない場合は最後の結果しか出力しない\n",
    "1 + 3\n",
    "2 - 4"
   ],
   "outputs": [
    {
     "data": {
      "text/plain": [
       "-2"
      ]
     },
     "execution_count": 15,
     "metadata": {},
     "output_type": "execute_result"
    }
   ],
   "execution_count": 15
  },
  {
   "cell_type": "code",
   "id": "4fd904bf72e7322",
   "metadata": {
    "ExecuteTime": {
     "end_time": "2024-09-25T07:26:00.050516Z",
     "start_time": "2024-09-25T07:26:00.048523Z"
    }
   },
   "source": [
    "# print()を使った場合は，print()を使用した行の結果を出力する\n",
    "print(1 + 3)\n",
    "print(2 - 4)"
   ],
   "outputs": [
    {
     "name": "stdout",
     "output_type": "stream",
     "text": [
      "4\n",
      "-2\n"
     ]
    }
   ],
   "execution_count": 16
  },
  {
   "cell_type": "code",
   "id": "af25dc41a2a632d4",
   "metadata": {
    "ExecuteTime": {
     "end_time": "2024-09-25T07:26:00.441795Z",
     "start_time": "2024-09-25T07:26:00.439552Z"
    }
   },
   "source": [
    "print(987)       # 数字の出⼒\n",
    "print(2 ** 6)    # 計算結果の出⼒\n",
    "print('qwerty')  # ⽂字列の出⼒（出力時にシングルクォーテーションが付かないことに注意）"
   ],
   "outputs": [
    {
     "name": "stdout",
     "output_type": "stream",
     "text": [
      "987\n",
      "64\n",
      "qwerty\n"
     ]
    }
   ],
   "execution_count": 17
  },
  {
   "metadata": {},
   "cell_type": "markdown",
   "source": [
    "### 標準入力\n",
    "- キーボードから標準入力するには，input()を使用する\n",
    "  - 標準入力した値は文字列データとして扱われるため，数値として使用したい場合，適切にキャストを行う\n",
    "  - 数値と文字列の足し算はエラーになるので注意\n",
    "  - input('文字列')とすると，入力を促すメッセージを書くことができる"
   ],
   "id": "b4adb13461c34931"
  },
  {
   "cell_type": "code",
   "id": "1b51af7bfb9db03d",
   "metadata": {
    "ExecuteTime": {
     "end_time": "2024-09-25T07:26:06.683910Z",
     "start_time": "2024-09-25T07:26:03.176188Z"
    }
   },
   "source": [
    "print(input() + '456') # キーボードで⼊⼒した値は⽂字列\n",
    "# 123と入力してください\n",
    "# この場合は文字列同士の連結となる"
   ],
   "outputs": [
    {
     "name": "stdout",
     "output_type": "stream",
     "text": [
      "123456\n"
     ]
    }
   ],
   "execution_count": 20
  },
  {
   "cell_type": "code",
   "id": "8bac5e7e19092ce",
   "metadata": {
    "ExecuteTime": {
     "end_time": "2024-09-25T07:26:11.591857Z",
     "start_time": "2024-09-25T07:26:08.410649Z"
    }
   },
   "source": [
    "print(int(input()) + 456) # キーボードで⼊⼒した値を整数にキャスト\n",
    "# 123と入力してください\n",
    "# この場合は足し算を行う"
   ],
   "outputs": [
    {
     "name": "stdout",
     "output_type": "stream",
     "text": [
      "579\n"
     ]
    }
   ],
   "execution_count": 21
  },
  {
   "cell_type": "markdown",
   "id": "7249e2dbad9a30a3",
   "metadata": {},
   "source": [
    "### 演習1\n",
    "1. print()を使って，自分の名前を表示しなさい\n",
    "2. print()を使って，Hello World と表示しなさい\n",
    "3. print()を使って，2の10乗の値を表示しなさい"
   ]
  },
  {
   "cell_type": "code",
   "execution_count": null,
   "id": "947be5427062ed8b",
   "metadata": {},
   "outputs": [],
   "source": []
  }
 ],
 "metadata": {
  "kernelspec": {
   "display_name": "Python 3 (ipykernel)",
   "language": "python",
   "name": "python3"
  },
  "language_info": {
   "codemirror_mode": {
    "name": "ipython",
    "version": 3
   },
   "file_extension": ".py",
   "mimetype": "text/x-python",
   "name": "python",
   "nbconvert_exporter": "python",
   "pygments_lexer": "ipython3",
   "version": "3.8.10"
  }
 },
 "nbformat": 4,
 "nbformat_minor": 5
}
