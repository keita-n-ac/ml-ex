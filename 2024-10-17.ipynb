{
 "cells": [
  {
   "cell_type": "markdown",
   "id": "df9f7c05f35d6582",
   "metadata": {
    "collapsed": false
   },
   "source": [
    "### 条件分岐\n",
    "- 条件によって処理が異なるプログラムを作成する\n",
    "  - 例1:「700円以上なら，くじを引く」\n",
    "  - 例2:「80点以上なら，スコアAと表示する」\n",
    "  - 例3:「20km以上40km未満なら，中距離である」\n",
    "- 条件を「満たしている場合」，「満たしていない場合」を，真偽値(True/False)を使用して，プログラムを作成する\n",
    "  - 条件を満たしている場合: True， 条件を満たしていない場合: False とする\n",
    "\n",
    "### 比較演算子\n",
    "- 2つの数字や文字列の比較を行うときに使用する演算子\n",
    "  - 加算や減算などの代数演算子よりも後に計算する\n",
    "- この比較演算子を使用して条件分岐を行う\n",
    "\n",
    "| 演算子 | 数学記号 | 意味 | \n",
    "|-----|------|----| \n",
    "| ==  | =    | 等しい | \n",
    "| !=  | ≠    | 等しくない | \n",
    "| <   | ＜    | より小さい | \n",
    "| >   | ＞    | より大きい | \n",
    "| <=  | ≦    | 以下 | \n",
    "| >=  | ≧    | 以上 | "
   ]
  },
  {
   "cell_type": "markdown",
   "id": "f475677f665f1db4",
   "metadata": {
    "collapsed": false
   },
   "source": [
    "### 条件分岐\n",
    "- 「700円以上なら，くじを引く」の条件をプログラムで表現する\n",
    "- 以下の例のように，変数と比較演算子を使用して『条件式』を記述する\n",
    "  - 条件式を満たしている場合: True\n",
    "  - 条件式を満たしていない場合: False"
   ]
  },
  {
   "cell_type": "code",
   "execution_count": 1,
   "id": "e41c42433a949579",
   "metadata": {
    "ExecuteTime": {
     "end_time": "2023-09-20T04:13:59.151644079Z",
     "start_time": "2023-09-20T04:13:59.151056427Z"
    },
    "collapsed": false
   },
   "outputs": [
    {
     "data": {
      "text/plain": [
       "True"
      ]
     },
     "execution_count": 1,
     "metadata": {},
     "output_type": "execute_result"
    }
   ],
   "source": [
    "# 条件式がTrueの場合\n",
    "cost = 800\n",
    "cost >= 700 # costは800であるので，700以上となる\n",
    "# つまり，条件式を満たすのでTrue"
   ]
  },
  {
   "cell_type": "code",
   "execution_count": 2,
   "id": "2df615b921b6a5a9",
   "metadata": {
    "ExecuteTime": {
     "end_time": "2023-09-20T04:14:00.095932449Z",
     "start_time": "2023-09-20T04:14:00.093007547Z"
    },
    "collapsed": false
   },
   "outputs": [
    {
     "data": {
      "text/plain": [
       "False"
      ]
     },
     "execution_count": 2,
     "metadata": {},
     "output_type": "execute_result"
    }
   ],
   "source": [
    "# 条件式がFalseの場合\n",
    "cost = 100\n",
    "cost >= 700 # costは100であるので，700以上とはならない\n",
    "# つまり，条件式を満たさないのでFalse"
   ]
  },
  {
   "cell_type": "code",
   "execution_count": 3,
   "id": "dc678c85f8ec7484",
   "metadata": {
    "ExecuteTime": {
     "end_time": "2023-09-20T04:14:01.010614347Z",
     "start_time": "2023-09-20T04:14:01.004507349Z"
    },
    "collapsed": false
   },
   "outputs": [
    {
     "data": {
      "text/plain": [
       "True"
      ]
     },
     "execution_count": 3,
     "metadata": {},
     "output_type": "execute_result"
    }
   ],
   "source": [
    "# 『スコアが80点以上なら』の条件式の書き方\n",
    "# Trueの場合\n",
    "score = 90\n",
    "score >= 80"
   ]
  },
  {
   "cell_type": "code",
   "execution_count": 4,
   "id": "16c08a129cd284c",
   "metadata": {
    "ExecuteTime": {
     "end_time": "2023-09-20T04:14:01.704994943Z",
     "start_time": "2023-09-20T04:14:01.700494346Z"
    },
    "collapsed": false
   },
   "outputs": [
    {
     "data": {
      "text/plain": [
       "False"
      ]
     },
     "execution_count": 4,
     "metadata": {},
     "output_type": "execute_result"
    }
   ],
   "source": [
    "# 『スコアが60点未満なら』の条件式の書き方\n",
    "# Falseの場合\n",
    "score = 90\n",
    "score < 60"
   ]
  },
  {
   "cell_type": "markdown",
   "id": "7123ae435f09c347",
   "metadata": {
    "collapsed": false
   },
   "source": [
    "### if文\n",
    "- 条件分岐を行うためにはif文を記述する\n",
    "  - if文で記述されている条件式を満たしている(True)の場合，if文の直後のコードブロックの処理が実行される\n",
    "    - コードブロック: 字下げされている部分\n",
    "  - 条件を満たしていない(False)の場合，コードブロックの処理が実行されない\n",
    "\n",
    "```python\n",
    "if 条件式:\n",
    "    # Trueの場合の処理を\n",
    "    # コードブロック内に書く\n",
    "```\n",
    "- 条件式の後に，コロン : を忘れずに，記述する"
   ]
  },
  {
   "cell_type": "code",
   "execution_count": 5,
   "id": "733889828af3ea1d",
   "metadata": {
    "ExecuteTime": {
     "end_time": "2023-09-20T04:14:06.333781801Z",
     "start_time": "2023-09-20T04:14:03.306488307Z"
    },
    "collapsed": false
   },
   "outputs": [
    {
     "name": "stdout",
     "output_type": "stream",
     "text": [
      "12 は偶数です\n"
     ]
    }
   ],
   "source": [
    "# 偶数判定プログラム例\n",
    "x = int(input('整数を入力してください'))\n",
    "if x % 2 == 0:\n",
    "    print(x, 'は偶数です')"
   ]
  },
  {
   "cell_type": "markdown",
   "id": "97196b8261ba93e7",
   "metadata": {
    "collapsed": false
   },
   "source": [
    "- print()箇所がコードブロック"
   ]
  },
  {
   "cell_type": "markdown",
   "id": "9cd982052b07c7c5",
   "metadata": {
    "collapsed": false
   },
   "source": [
    "### コードブロック\n",
    "- 条件分岐は1行以上のひとまとまりのコードブロックで表現\n",
    "- Pythonでは，コードを字下げ（インデント）することで，コードブロックを作成可能\n",
    "  - 字下げ: 行の先頭に決まった数の半角スペースを入力する\n",
    "  - Pythonは字下げを判断して，プログラムを実行するため，ブロック化がきちんとできていない場合，プログラムが意図した動作をしない（エラーとなることもある）\n",
    "- 日本語の全角スペースを入力しないように注意\n",
    "  - 全角スペースは見つかりづらいエラーの原因の1つ"
   ]
  },
  {
   "cell_type": "code",
   "execution_count": 6,
   "id": "818da49d9631f24b",
   "metadata": {
    "ExecuteTime": {
     "end_time": "2023-09-20T04:14:14.743644918Z",
     "start_time": "2023-09-20T04:14:14.739263010Z"
    },
    "collapsed": false
   },
   "outputs": [
    {
     "name": "stdout",
     "output_type": "stream",
     "text": [
      "AA\n"
     ]
    }
   ],
   "source": [
    "x = 0\n",
    "if x == 1:\n",
    "    # if文のコードブロック開始\n",
    "    print('A')\n",
    "    # if文のコードブロック終了\n",
    "print('AA')"
   ]
  },
  {
   "cell_type": "code",
   "execution_count": 7,
   "id": "37c3386a24d4609f",
   "metadata": {
    "ExecuteTime": {
     "end_time": "2023-09-20T04:14:15.466277906Z",
     "start_time": "2023-09-20T04:14:15.459363040Z"
    },
    "collapsed": false
   },
   "outputs": [],
   "source": [
    "x = 0\n",
    "if x == 1:\n",
    "    # if文のコードブロック開始\n",
    "    print('A')\n",
    "    print('AA')\n",
    "    # if文のコードブロック終了\n",
    "# 何も表示されない"
   ]
  },
  {
   "cell_type": "markdown",
   "id": "1722a64785cad2b7",
   "metadata": {
    "collapsed": false
   },
   "source": [
    "### if-else文\n",
    "- if-else文は，if文の条件式に応じて実行される処理が異なる\n",
    "  - 条件式を満たす(True)場合\n",
    "    - if文に続くコードブロックの処理が実行\n",
    "  - 条件を満たさない(False)の場合\n",
    "    - else文に続くコードブロックの処理が実行\n",
    "\n",
    "```python\n",
    "if 条件式:\n",
    "    # Trueのときの処理\n",
    "else:\n",
    "    # Falseのときの処理\n",
    "```\n",
    "- 条件式の後に，コロン : を忘れずに，記述する\n",
    "- else文を書く際には，条件式は不要となる"
   ]
  },
  {
   "cell_type": "code",
   "execution_count": 8,
   "id": "21163ea4644cf4f2",
   "metadata": {
    "ExecuteTime": {
     "end_time": "2023-09-20T04:14:23.244226002Z",
     "start_time": "2023-09-20T04:14:19.890443665Z"
    },
    "collapsed": false
   },
   "outputs": [
    {
     "name": "stdout",
     "output_type": "stream",
     "text": [
      "奇数です\n"
     ]
    }
   ],
   "source": [
    "# 偶数奇数判定プログラムの例\n",
    "x = int(input())\n",
    "if x % 2 == 0:\n",
    "    print('偶数です')\n",
    "else:\n",
    "    print('奇数です')"
   ]
  },
  {
   "cell_type": "markdown",
   "id": "854a651fa29c1c9a",
   "metadata": {
    "collapsed": false
   },
   "source": [
    "### if-elif-else文\n",
    "- 3つ以上の条件分岐（多分岐）に使用したい場合，elif文を使用する\n",
    "  - if文や他のelif文に続けて記述する\n",
    "  - elif文はif文と同様に条件式が必要\n",
    "  - 上から条件式チェックを行い，Trueになったときの処理を行う\n",
    "    - 下にある条件式チェックは，上に書かれている条件式がFalseのときに行われる\n",
    "  - どの条件式をFalseの場合，else文の処理を行う\n",
    "    - この場合，else文が無い場合は，何も処理を行わない\n",
    "\n",
    "```python\n",
    "if 条件式1:\n",
    "    # 条件式1がTrueのときの処理\n",
    "elif 条件式2:\n",
    "    # 条件式1がfalseで，条件式2がTrueのときの処理\n",
    "elif 条件式3:\n",
    "    # 条件式1〜2がfalseで，条件式3がTrueのときの処理\n",
    "else:\n",
    "    # 条件式1〜3が全てFalseのときの処理\n",
    "```\n",
    "- 条件式の後に，コロン : を忘れずに，記述する\n",
    "- else文を書く際には，条件式は不要となる\n",
    "  - if文，elif文は条件式が必要となる "
   ]
  },
  {
   "cell_type": "markdown",
   "id": "e9d9ee6dda5b862",
   "metadata": {
    "collapsed": false
   },
   "source": [
    "### 論理演算子\n",
    "- 2つ以上の条件を組み合わせ，真偽を判定する演算子\n",
    "  - and : 論理積（使い方例: 条件式A and 条件式B）\n",
    "    - 2つの条件を満たしている場合: True\n",
    "    - どちらか一方の条件式が満たしていない場合: False\n",
    "  - or : 論理和（使い方例: 条件式A  or 条件式B）\n",
    "    - どちらか一方の条件を満たしている場合: True\n",
    "    - 2つの条件を満たしていない場合: False\n",
    "\n",
    "| 論理演算子 | 日本語意味 | \n",
    "|-------|-------|\n",
    "| and   | かつ    |\n",
    "| or    | または   |"
   ]
  },
  {
   "cell_type": "code",
   "execution_count": 9,
   "id": "80cef2938c37391b",
   "metadata": {
    "ExecuteTime": {
     "end_time": "2023-09-20T04:14:31.682703927Z",
     "start_time": "2023-09-20T04:14:29.678467483Z"
    },
    "collapsed": false
   },
   "outputs": [
    {
     "name": "stdout",
     "output_type": "stream",
     "text": [
      "中距離です．\n"
     ]
    }
   ],
   "source": [
    "# 例: 「20km以上40km未満なら，中距離である」の条件式を表現したい場合\n",
    "d = int(input('距離を入力してください'))\n",
    "if d >= 20 and d < 40:\n",
    "    print('中距離です．')\n",
    "else:\n",
    "    print('中距離でないです．')"
   ]
  },
  {
   "cell_type": "code",
   "execution_count": 10,
   "id": "e661df7bd09139a9",
   "metadata": {
    "ExecuteTime": {
     "end_time": "2023-09-20T04:14:35.959198295Z",
     "start_time": "2023-09-20T04:14:32.768299762Z"
    },
    "collapsed": false
   },
   "outputs": [
    {
     "name": "stdout",
     "output_type": "stream",
     "text": [
      "3の倍数ではありません\n"
     ]
    }
   ],
   "source": [
    "# サンプルプログラム1: 3の倍数かどうかをチェックする\n",
    "\n",
    "n = int(input('正の整数を入力してください'))\n",
    "\n",
    "# 倍数チェックは余りが0であるかどうかを調べる\n",
    "if n % 3 == 0:\n",
    "    print('3の倍数です')\n",
    "else:\n",
    "    print('3の倍数ではありません')"
   ]
  },
  {
   "cell_type": "code",
   "execution_count": 11,
   "id": "6d80865861f22f22",
   "metadata": {
    "ExecuteTime": {
     "end_time": "2023-09-20T04:14:40.257798527Z",
     "start_time": "2023-09-20T04:14:37.647117017Z"
    },
    "collapsed": false
   },
   "outputs": [
    {
     "name": "stdout",
     "output_type": "stream",
     "text": [
      "1 2 3 4 の中で，\n",
      "最大値は 4 です\n"
     ]
    }
   ],
   "source": [
    "# サンプルプログラム2: 4つの整数の中で最大値を求める\n",
    "# 暫定最大値を保存する変数を用意して，勝ち抜き戦を行う\n",
    "\n",
    "num1 = int(input('1つ目の整数を入力してください'))\n",
    "num2 = int(input('2つ目の整数を入力してください'))\n",
    "num3 = int(input('3つ目の整数を入力してください'))\n",
    "num4 = int(input('4つ目の整数を入力してください'))\n",
    "\n",
    "ans = num1 # num1を仮に暫定最大値とする\n",
    "\n",
    "# 勝ち抜き戦を行う\n",
    "if num2 > ans:\n",
    "    ans = num2 # num2の方が大きい場合，暫定最大値を更新する\n",
    "\n",
    "if num3 > ans:\n",
    "    ans = num3 # num3の方が大きい場合，暫定最大値を更新する\n",
    "\n",
    "if num4 > ans:\n",
    "    ans = num4 # num4の方が大きい場合，暫定最大値を更新する\n",
    "\n",
    "print(num1, num2, num3, num4, 'の中で，')\n",
    "print('最大値は', ans, 'です')"
   ]
  },
  {
   "cell_type": "code",
   "execution_count": 12,
   "id": "f14b29ea990e8d8b",
   "metadata": {
    "ExecuteTime": {
     "end_time": "2023-09-20T04:14:43.616788174Z",
     "start_time": "2023-09-20T04:14:41.330658983Z"
    },
    "collapsed": false
   },
   "outputs": [
    {
     "name": "stdout",
     "output_type": "stream",
     "text": [
      "3つの整数は同じ値ではありません\n"
     ]
    }
   ],
   "source": [
    "# サンプルプログラム3: 3つの整数が同じ値かどうかをチェックする\n",
    "num1 = int(input('1つ目の整数を入力してください'))\n",
    "num2 = int(input('2つ目の整数を入力してください'))\n",
    "num3 = int(input('3つ目の整数を入力してください'))\n",
    "\n",
    "# andを使って条件式を作成する\n",
    "if num1 == num2 and num2 == num3:\n",
    "    print('3つの整数は同じ値です')\n",
    "else:\n",
    "    print('3つの整数は同じ値ではありません')"
   ]
  },
  {
   "cell_type": "code",
   "execution_count": 13,
   "id": "7d6df5486459daa6",
   "metadata": {
    "ExecuteTime": {
     "end_time": "2023-09-20T04:14:46.800751705Z",
     "start_time": "2023-09-20T04:14:44.954857004Z"
    },
    "collapsed": false
   },
   "outputs": [
    {
     "name": "stdout",
     "output_type": "stream",
     "text": [
      "2の倍数でも5の倍数でもありません\n"
     ]
    }
   ],
   "source": [
    "# サンプルプログラム4: 2の倍数であるか，5の倍数であるかどうかをチェックする\n",
    "num = int(input('整数を入力してください'))\n",
    "\n",
    "# orを使って条件式を作成する\n",
    "if num % 2 == 0 or num % 5 == 0:\n",
    "    print('2の倍数か5の倍数です')\n",
    "else:\n",
    "    print('2の倍数でも5の倍数でもありません')"
   ]
  },
  {
   "cell_type": "code",
   "execution_count": 14,
   "id": "60806f5876a0e07e",
   "metadata": {
    "ExecuteTime": {
     "end_time": "2023-09-20T04:14:48.806083378Z",
     "start_time": "2023-09-20T04:14:47.914891671Z"
    },
    "collapsed": false
   },
   "outputs": [
    {
     "name": "stdout",
     "output_type": "stream",
     "text": [
      "2の倍数でない，または，6の倍数である整数です\n"
     ]
    }
   ],
   "source": [
    "# サンプルプログラム5: 2の倍数であり，かつ3の倍数でないをチェックする\n",
    "num = int(input('整数を入力してください'))\n",
    "\n",
    "# orを使って条件式を作成する\n",
    "if num % 2 == 0 and num % 3 != 0:\n",
    "    print('2の倍数であり，かつ，3の倍数でない整数です')\n",
    "else:\n",
    "    print('2の倍数でない，または，6の倍数である整数です')"
   ]
  },
  {
   "cell_type": "code",
   "execution_count": 15,
   "id": "f1421aafa526bddc",
   "metadata": {
    "ExecuteTime": {
     "end_time": "2023-09-20T04:14:54.676690709Z",
     "start_time": "2023-09-20T04:14:50.124522695Z"
    },
    "collapsed": false
   },
   "outputs": [
    {
     "name": "stdout",
     "output_type": "stream",
     "text": [
      "11 月は30日あります\n"
     ]
    }
   ],
   "source": [
    "# サンプルプログラム6: 月を入力すると，その月の日数を出力する\n",
    "m = int(input('何月であるかを整数で入力してください'))\n",
    "\n",
    "# 例外的な入力に対する処理を書くことで，より良いプログラムとなります\n",
    "if m == 2:\n",
    "    print(m, '月は28日か29日あります')\n",
    "elif m == 1 or m == 3 or m == 5 or m == 7 or m == 8 or m == 10 or m == 12:\n",
    "    print(m, '月は31日あります')\n",
    "elif m == 4 or m == 6 or m == 9 or m == 11:\n",
    "    print(m, '月は30日あります')\n",
    "else:\n",
    "    print(m, '月は存在しません')\n"
   ]
  },
  {
   "cell_type": "markdown",
   "id": "d07c31e3266d42c5",
   "metadata": {
    "collapsed": false
   },
   "source": [
    "### 演習1\n",
    "1. 整数を入力して，その値が「正の値」，「0」， 「負の値」かどうかを判定するプログラムを作成せよ\n",
    "    - 例1: 3を入力すると，「正の値」と出力\n",
    "    - 例2: 0を入力すると，「0」と出力\n",
    "    - 例3: -3を入力すると，「負の値」と出力\n",
    "1. 2つの整数（変数名a, b）を読み込んで，大小関係を出力するプログラムを作成せよ\n",
    "1. 3つの整数（変数名a, b, c）を読み込んで，「a < b < c」の条件を満たす場合には『Yes』を，満たさない場合には『No』を出力するプログラムを作成せよ"
   ]
  },
  {
   "cell_type": "markdown",
   "id": "3c7231377876b03a",
   "metadata": {
    "collapsed": false
   },
   "source": [
    "### 演習2\n",
    "1. 3つの整数を読み込み，値を小さい順に並べて出力するプログラムを作成せよ\n",
    "  - ヒント: どのような場合でも，3回の比較で実現できます\n",
    "2. 3つの正の整数を入力し，それぞれの長さを3辺とする三角形が直角三角形である場合には『Yes』を，違う場合には『No』を出力するプログラムを作成せよ\n",
    "  - ヒント: ピタゴラスの定理\n",
    "3. 点数（整数）を入力して，以下のように出力するプログラムを作成せよ\n",
    "  - 60~100の場合: Pass!\n",
    "  - 0~59の場合: Do not give up!\n",
    "  - それ以外の場合: Error\n",
    "    - 例: 負の値，100を越えた値の対応\n",
    "4. 西暦（整数）を入力して，その西暦がうるう年かどうかを判定するプログラムを作成せよ\n",
    " - 例1: 2000を入力すると「うるう年です」と出力\n",
    " - 例2: 2100を入力すると「うるう年ではない」と出力\n",
    "   - 『400で割り切れる年』，\"または\"，『4で割り切れて，\"かつ\"，100で割り切れない年」がうるう年となる"
   ]
  },
  {
   "cell_type": "code",
   "execution_count": null,
   "id": "523f7528e27a817e",
   "metadata": {
    "collapsed": false
   },
   "outputs": [],
   "source": []
  }
 ],
 "metadata": {
  "kernelspec": {
   "display_name": "Python 3",
   "language": "python",
   "name": "python3"
  },
  "language_info": {
   "codemirror_mode": {
    "name": "ipython",
    "version": 2
   },
   "file_extension": ".py",
   "mimetype": "text/x-python",
   "name": "python",
   "nbconvert_exporter": "python",
   "pygments_lexer": "ipython2",
   "version": "2.7.6"
  }
 },
 "nbformat": 4,
 "nbformat_minor": 5
}
