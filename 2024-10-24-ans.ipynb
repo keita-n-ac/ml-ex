{
 "cells": [
  {
   "cell_type": "markdown",
   "source": [
    "### 演習1\n",
    "1. 繰り返し処理を用いて，以下のように出力するプログラムを作成せよ\n",
    "```\n",
    "Hello World\n",
    "Hello World\n",
    "Hello World\n",
    "Hello World\n",
    "Hello World\n",
    "Hello World\n",
    "Hello World\n",
    "Hello World\n",
    "Hello World\n",
    "Hello World\n",
    "```\n"
   ],
   "metadata": {
    "collapsed": false
   },
   "id": "9f282fadb3186ade"
  },
  {
   "cell_type": "code",
   "source": [
    "# Hello Wordと出力することを10回繰り返す\n",
    "for i in range(10):\n",
    "    print('Hello World')"
   ],
   "metadata": {
    "collapsed": false,
    "ExecuteTime": {
     "end_time": "2024-10-27T00:54:09.841370Z",
     "start_time": "2024-10-27T00:54:09.838592Z"
    }
   },
   "id": "c0a309c5c05ec02b",
   "outputs": [
    {
     "name": "stdout",
     "output_type": "stream",
     "text": [
      "Hello World\n",
      "Hello World\n",
      "Hello World\n",
      "Hello World\n",
      "Hello World\n",
      "Hello World\n",
      "Hello World\n",
      "Hello World\n",
      "Hello World\n",
      "Hello World\n"
     ]
    }
   ],
   "execution_count": 1
  },
  {
   "cell_type": "markdown",
   "source": [
    "2. $1^3 + 2^3 + 3^3 + \\cdots + 50^3$を， 繰り返し処理を利用したプログラムで求めよ"
   ],
   "metadata": {
    "collapsed": false
   },
   "id": "7e5a902c309cf3bd"
  },
  {
   "cell_type": "code",
   "source": [
    "sum = 0 # 答えを保存する変数\n",
    "# 1から50まで繰り返す\n",
    "for i in range(1, 51):\n",
    "    sum += i ** 3\n",
    "\n",
    "print(sum) # 答えを出力"
   ],
   "metadata": {
    "collapsed": false,
    "ExecuteTime": {
     "end_time": "2024-10-27T00:54:10.414134Z",
     "start_time": "2024-10-27T00:54:10.412089Z"
    }
   },
   "id": "fa688f2c42946096",
   "outputs": [
    {
     "name": "stdout",
     "output_type": "stream",
     "text": [
      "1625625\n"
     ]
    }
   ],
   "execution_count": 2
  },
  {
   "cell_type": "markdown",
   "source": [
    "3. 「0を入力するまでおうむ返しする」プログラムを作成せよ"
   ],
   "metadata": {
    "collapsed": false
   },
   "id": "99b1f8150051e6c0"
  },
  {
   "cell_type": "code",
   "source": [
    "# 無限ループを使用する\n",
    "while True:\n",
    "    num = int(input('整数を入力してください'))\n",
    "    if num == 0:\n",
    "        break # 0が入力されたときに，breakする\n",
    "    print(num) # おうむ返しを行う"
   ],
   "metadata": {
    "collapsed": false,
    "ExecuteTime": {
     "end_time": "2024-10-27T00:54:21.560536Z",
     "start_time": "2024-10-27T00:54:12.163832Z"
    }
   },
   "id": "71f1f0a0b37ea8e7",
   "outputs": [
    {
     "name": "stdout",
     "output_type": "stream",
     "text": [
      "12\n"
     ]
    }
   ],
   "execution_count": 3
  },
  {
   "cell_type": "markdown",
   "source": [
    "4. 整数を入力して，その値を累積する（足し算する）ことを行い，累積値が30を超えたら，累積値と入力した回数を出力して終了するプログラムを作成せよ"
   ],
   "metadata": {
    "collapsed": false
   },
   "id": "8ef22f3b524b647"
  },
  {
   "cell_type": "code",
   "source": [
    "# 無限ループを使用する\n",
    "sum = 0   # 累積値を保存する\n",
    "count = 0 # カウント数を保存する\n",
    "while True:\n",
    "    num = int(input('整数を入力してください'))\n",
    "    count += 1 # カウント数を増やす\n",
    "    sum += num # 累積する\n",
    "    if sum > 30:\n",
    "        break # 累積値が30を越えたら，breakする\n",
    "\n",
    "print('累積値:', sum)\n",
    "print('入力した回数:', count)"
   ],
   "metadata": {
    "collapsed": false,
    "ExecuteTime": {
     "end_time": "2024-10-27T00:54:34.703904Z",
     "start_time": "2024-10-27T00:54:24.311523Z"
    }
   },
   "id": "7d08cdb8c0519c32",
   "outputs": [
    {
     "name": "stdout",
     "output_type": "stream",
     "text": [
      "累積値: 31\n",
      "入力した回数: 3\n"
     ]
    }
   ],
   "execution_count": 4
  },
  {
   "cell_type": "markdown",
   "source": [
    "### 演習2\n",
    "1. 3つの自然数（1以上の整数）a, b, cを読み込み，a から b までの自然数の中に，cの約数がいくつあるかを求めるプログラムを作成せよ"
   ],
   "metadata": {
    "collapsed": false
   },
   "id": "f5c0ee3e495cfe4f"
  },
  {
   "cell_type": "code",
   "source": [
    "a = int(input('1つ目の整数を入力してください'))\n",
    "b = int(input('2つ目の整数を入力してください'))\n",
    "c = int(input('3つ目の整数を入力してください'))\n",
    "count = 0 # 約数の数をカウントする変数\n",
    "for i in range(a, b + 1):\n",
    "    if c % i == 0:\n",
    "        count += 1\n",
    "print(a, 'から', b, 'までの自然数の中で', c, 'の約数は', count, '個ある')"
   ],
   "metadata": {
    "collapsed": false,
    "ExecuteTime": {
     "end_time": "2024-10-27T00:54:45.425293Z",
     "start_time": "2024-10-27T00:54:39.128422Z"
    }
   },
   "id": "a74ca434f282dd4e",
   "outputs": [
    {
     "name": "stdout",
     "output_type": "stream",
     "text": [
      "2 から 12 までの自然数の中で 3 の約数は 1 個ある\n"
     ]
    }
   ],
   "execution_count": 5
  },
  {
   "cell_type": "markdown",
   "source": [
    "2. 5個の整数を入力し，それらの最小値，最大値，合計値を求めるプログラムを作成せよ"
   ],
   "metadata": {
    "collapsed": false
   },
   "id": "6ba8773bc7a4619"
  },
  {
   "cell_type": "code",
   "source": [
    "sum = 0 # 合計値を格納する変数\n",
    "for i in range(5):\n",
    "    num = int(input('整数を入力してください'))\n",
    "    # 初回入力値をチャンピオンデータにする\n",
    "    if i == 0:\n",
    "        min = num\n",
    "        max = num\n",
    "    else:\n",
    "        # 最小値更新チェック\n",
    "        if min > num:\n",
    "            min = num\n",
    "        # 最大値更新チェック\n",
    "        if max < num:\n",
    "            max = num\n",
    "    sum += num # 合計値更新\n",
    "\n",
    "print('最小値:', min)\n",
    "print('最大値:', max)\n",
    "print('合計値:', sum)"
   ],
   "metadata": {
    "collapsed": false,
    "ExecuteTime": {
     "end_time": "2024-10-27T00:55:14.068498Z",
     "start_time": "2024-10-27T00:55:01.833581Z"
    }
   },
   "id": "9bdf881e2ec94188",
   "outputs": [
    {
     "name": "stdout",
     "output_type": "stream",
     "text": [
      "最小値: 10\n",
      "最大値: 50\n",
      "合計値: 150\n"
     ]
    }
   ],
   "execution_count": 6
  },
  {
   "cell_type": "markdown",
   "source": [
    "3. 入力した自然数が，「121」のように逆から数字を並べても同じ数になる回文数である場合には， Yes を， 違う場合には No と出力するプログラムを作成せよ"
   ],
   "metadata": {
    "collapsed": false
   },
   "id": "27149cca4dab78d5"
  },
  {
   "cell_type": "code",
   "source": [
    "n = int(input('正の整数を入力してください'))\n",
    "before = n # 並び替える前の数値を保存\n",
    "after = 0  # 逆さにした数を格納する変数（0で初期化）\n",
    "\n",
    "while n // 10 > 0:\n",
    "    after = after * 10 + (n % 10)\n",
    "    n = n // 10\n",
    "after = after * 10 + n\n",
    "\n",
    "if before == after:\n",
    "    print('Yes')\n",
    "else:\n",
    "    print('No')"
   ],
   "metadata": {
    "collapsed": false,
    "ExecuteTime": {
     "end_time": "2024-10-27T00:55:22.594378Z",
     "start_time": "2024-10-27T00:55:17.765867Z"
    }
   },
   "id": "e1e4dc90740919d6",
   "outputs": [
    {
     "name": "stdout",
     "output_type": "stream",
     "text": [
      "Yes\n"
     ]
    }
   ],
   "execution_count": 7
  },
  {
   "cell_type": "code",
   "execution_count": null,
   "outputs": [],
   "source": [],
   "metadata": {
    "collapsed": false
   },
   "id": "90441ee7a47ee44d"
  }
 ],
 "metadata": {
  "kernelspec": {
   "display_name": "Python 3",
   "language": "python",
   "name": "python3"
  },
  "language_info": {
   "codemirror_mode": {
    "name": "ipython",
    "version": 2
   },
   "file_extension": ".py",
   "mimetype": "text/x-python",
   "name": "python",
   "nbconvert_exporter": "python",
   "pygments_lexer": "ipython2",
   "version": "2.7.6"
  }
 },
 "nbformat": 4,
 "nbformat_minor": 5
}
