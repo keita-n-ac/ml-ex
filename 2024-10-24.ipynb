{
 "cells": [
  {
   "cell_type": "markdown",
   "source": [
    "### 繰り返し処理\n",
    "- 条件を満たしている間ずっと，コードブロックにあるプログラムを繰り返し行うことができる\n",
    "    - 例1: サイコロの目で1が出るまで，サイコロを振り続ける \n",
    "    - 例2: 合計金額が2000円を超えるまで，お寿司を食べ続ける\n",
    "- while文，for文を使用する\n",
    "\n",
    "### while文\n",
    "- while文を使用することで，コードブロックにあるプログラムを繰り返すことができる\n",
    "  - while文の条件式を満たしている間ずっと，プログラムが実行される\n",
    "\n",
    "```python\n",
    "while 条件式:\n",
    "    # 条件式を満たしている間， \n",
    "    # コードブロックを繰り返して実行する\n",
    "```\n",
    "- コロン( : )を忘れずに，記述する"
   ],
   "metadata": {
    "collapsed": false
   },
   "id": "44d1ec1dbdf1227f"
  },
  {
   "cell_type": "code",
   "source": [
    "# 例: 0から10を1つずつ出力する\n",
    "i = 0\n",
    "while i < 11:\n",
    "  print(i)\n",
    "  i += 1"
   ],
   "metadata": {
    "collapsed": false,
    "ExecuteTime": {
     "end_time": "2024-10-23T06:20:45.679819Z",
     "start_time": "2024-10-23T06:20:45.677503Z"
    }
   },
   "id": "1c44ce0eefd92599",
   "outputs": [
    {
     "name": "stdout",
     "output_type": "stream",
     "text": [
      "0\n",
      "1\n",
      "2\n",
      "3\n",
      "4\n",
      "5\n",
      "6\n",
      "7\n",
      "8\n",
      "9\n",
      "10\n"
     ]
    }
   ],
   "execution_count": 1
  },
  {
   "cell_type": "markdown",
   "source": [
    "### while文による無限ループ\n",
    "- while文の条件式をTrueにするとずっと処理を繰り返す無限ループになる\n",
    "  - while文は無限ループを回避するために条件式をきちんと定義する\n",
    "- 無限ループがあるプログラムを実行すると，プログラムが終わらない\n",
    "  - break文を使用することで， 繰り返し処理を抜けることができる\n",
    "- 意図をせず無限ループに陥るプログラムを実行した場合，停止ボタンを押す\n",
    "\n",
    "```python\n",
    "while True:\n",
    "    break # ここで強制的にループ抜ける\n",
    "    # この場合は，breakが無いと無限ループになり，プログラムが終わらない\n",
    "```\n",
    "### break文\n",
    "- 繰り返し処理の中で，break文を使用できる\n",
    "- break文が実行されると，即座にその繰り返し処理のコードブロックから抜ける"
   ],
   "metadata": {
    "collapsed": false
   },
   "id": "77b8cf2051d82658"
  },
  {
   "cell_type": "code",
   "source": [
    "# 例: 変数iが2を越えたら break文でループを抜ける\n",
    "i= 0\n",
    "while True:\n",
    "  if i > 2:\n",
    "    break\n",
    "  print(i)\n",
    "  i += 1\n",
    "\n",
    "# while文だけでなく，if文のコードブロックに注意"
   ],
   "metadata": {
    "collapsed": false,
    "ExecuteTime": {
     "end_time": "2024-10-23T06:20:48.407624Z",
     "start_time": "2024-10-23T06:20:48.404972Z"
    }
   },
   "id": "3477b3b051c38e9f",
   "outputs": [
    {
     "name": "stdout",
     "output_type": "stream",
     "text": [
      "0\n",
      "1\n",
      "2\n"
     ]
    }
   ],
   "execution_count": 2
  },
  {
   "cell_type": "markdown",
   "source": [
    "### continue文\n",
    "- 繰り返し処理の中で，continue文を使用できる\n",
    "- continue文が実行されると，それ以降の処理をスキップして，即座に繰り返し処理の先頭に戻り，繰り返しの条件式を再評価する"
   ],
   "metadata": {
    "collapsed": false
   },
   "id": "4271483d6890da"
  },
  {
   "cell_type": "code",
   "source": [
    "# 例: continue文を使用して変数iが偶数時にループの先頭に戻る\n",
    "i= 0\n",
    "while True:\n",
    "  if i > 10:\n",
    "    break\n",
    "  if i % 2 == 0:\n",
    "    i += 1\n",
    "    continue\n",
    "  print(i)\n",
    "  i += 1"
   ],
   "metadata": {
    "collapsed": false,
    "ExecuteTime": {
     "end_time": "2024-10-23T06:20:49.903879Z",
     "start_time": "2024-10-23T06:20:49.901288Z"
    }
   },
   "id": "5cda8389e16eeeb4",
   "outputs": [
    {
     "name": "stdout",
     "output_type": "stream",
     "text": [
      "1\n",
      "3\n",
      "5\n",
      "7\n",
      "9\n"
     ]
    }
   ],
   "execution_count": 3
  },
  {
   "cell_type": "markdown",
   "source": [
    "### for文\n",
    "- 一定の回数だけコードのブロックを実行したいときは， for文とrange()を使用する\n",
    "- 繰り返し回数に応じて，range(n)は変数を 0, 1, 2, 3, ..., n-1 と変化させる\n",
    "  - この場合，変数を変えながら，同じ処理をn回繰り返す\n",
    "\n",
    "```python\n",
    "for 変数 in range(繰り返し数):\n",
    "    # 繰り返し処理\n",
    "```"
   ],
   "metadata": {
    "collapsed": false
   },
   "id": "855f06dcef0a714d"
  },
  {
   "cell_type": "code",
   "source": [
    "# 例: 繰り返し回数に応じて，変数iが0, 1, 2と変化するプログラム\n",
    "for i in range(3):\n",
    "  print(i)"
   ],
   "metadata": {
    "collapsed": false,
    "ExecuteTime": {
     "end_time": "2024-10-23T06:20:51.132098Z",
     "start_time": "2024-10-23T06:20:51.129586Z"
    }
   },
   "id": "ef058cfcffecccec",
   "outputs": [
    {
     "name": "stdout",
     "output_type": "stream",
     "text": [
      "0\n",
      "1\n",
      "2\n"
     ]
    }
   ],
   "execution_count": 4
  },
  {
   "cell_type": "markdown",
   "source": [
    "### range()\n",
    "- range()のカッコの中に，3つまで整数を書くことができる\n",
    "  - 複数の値を書く場合，コンマ区切りで書く \n",
    "- range()のカッコの中に，2つの整数を書いた場合，1番目の値から2番目の値を越えないように繰り返す\n",
    "  - range(m, n)は m, m+1, m+2, ..., n-2, n-1 と変数を変化させる"
   ],
   "metadata": {
    "collapsed": false
   },
   "id": "59630ba128ce6b4"
  },
  {
   "cell_type": "code",
   "source": [
    "# 例: 繰り返し回数に応じて，変数iが3, 4, 5, 6と変化するプログラム\n",
    "for i in range(3, 7):\n",
    "  print(i)"
   ],
   "metadata": {
    "collapsed": false,
    "ExecuteTime": {
     "end_time": "2024-10-23T06:20:51.956572Z",
     "start_time": "2024-10-23T06:20:51.954691Z"
    }
   },
   "id": "6668bae8942a3073",
   "outputs": [
    {
     "name": "stdout",
     "output_type": "stream",
     "text": [
      "3\n",
      "4\n",
      "5\n",
      "6\n"
     ]
    }
   ],
   "execution_count": 5
  },
  {
   "cell_type": "markdown",
   "source": [
    "- range()のカッコの中に，3つの整数を書いた場合，\n",
    "  - 1番目の値から2番目の値を越えないように繰り返す\n",
    "  - 3番目の値は繰り返しを行う際の変数の更新量を意味する\n",
    "- 3番目の値が正の値:\n",
    "  - 2番目の値以上にならないように繰り返す\n",
    "    - 例: range(2, 11, 2)は，2, 4, 6, 8, 10 を表す\n",
    "- 3番目の値が負の値:\n",
    "  - 2番目の値以下にならないように繰り返す\n",
    "    - 例: range(5, 0, -1)は，5, 4, 3, 2, 1 を表す"
   ],
   "metadata": {
    "collapsed": false
   },
   "id": "c6e2f6208d8c55dc"
  },
  {
   "cell_type": "markdown",
   "source": [
    "### 繰り返し処理の例\n",
    "- 例: 1から100までの自然数の和を計算するプログラム\n",
    "  - 繰り返し条件，繰り返ししたときに変化する変数を意識する\n",
    "    - 「自然数の和の結果」を保存する変数を作成する\n",
    "    - 作成した変数を0で初期化し，繰り返し処理の中で足していく"
   ],
   "metadata": {
    "collapsed": false
   },
   "id": "62ae32b82a8b0800"
  },
  {
   "cell_type": "code",
   "source": [
    "# while文での実装\n",
    "i = 0   # 繰り返し用変数\n",
    "sum = 0 # 合計値を保存する変数\n",
    "\n",
    "while i <= 100:\n",
    "  sum += i\n",
    "  i += 1\n",
    "\n",
    "print(sum) # 結果を出力"
   ],
   "metadata": {
    "collapsed": false,
    "ExecuteTime": {
     "end_time": "2024-10-23T06:20:53.345987Z",
     "start_time": "2024-10-23T06:20:53.343240Z"
    }
   },
   "id": "25cfa8cf99453a20",
   "outputs": [
    {
     "name": "stdout",
     "output_type": "stream",
     "text": [
      "5050\n"
     ]
    }
   ],
   "execution_count": 6
  },
  {
   "cell_type": "code",
   "source": [
    "# for文での実装\n",
    "sum = 0 # 合計値を保存する変数\n",
    "\n",
    "for i in range(0, 101):\n",
    "  sum += i\n",
    "\n",
    "print(sum) # 結果を出力"
   ],
   "metadata": {
    "collapsed": false,
    "ExecuteTime": {
     "end_time": "2024-10-23T06:20:53.990065Z",
     "start_time": "2024-10-23T06:20:53.987724Z"
    }
   },
   "id": "b5ccc29690b86776",
   "outputs": [
    {
     "name": "stdout",
     "output_type": "stream",
     "text": [
      "5050\n"
     ]
    }
   ],
   "execution_count": 7
  },
  {
   "cell_type": "markdown",
   "source": [
    "### 構造化プログラミング\n",
    "- 1960年代後半にエドガー・ダイクストラによって提唱\n",
    "  - 『1つの入口と1つの出口を持つプログラムは，順次・選択・反復の3つの論理構造によって記述できる』\n",
    "    - 順次: 上から下へ順番にプログラムが実行される\n",
    "    - 選択: 条件Aを満たしているなら，処理aを行う（条件分岐）\n",
    "      - if文，elif文，else文\n",
    "    - 反復: 条件Bを満たしている間ずっと，処理bを繰り返す（繰り返し処理）\n",
    "      - while文，for文"
   ],
   "metadata": {
    "collapsed": false
   },
   "id": "efb9c2b199716ae3"
  },
  {
   "cell_type": "code",
   "source": [
    "# サンプルプログラム1: 1から100までの5の倍数を列挙し，個数をカウントする\n",
    "count = 0 # カウント保存用変数\n",
    "for i in range(1, 101):\n",
    "  if i % 5 == 0:\n",
    "    print(i)\n",
    "    count += 1\n",
    "\n",
    "print('1から100の中で，5の倍数の個数は', count, '個です')"
   ],
   "metadata": {
    "collapsed": false,
    "ExecuteTime": {
     "end_time": "2024-10-23T06:20:57.242518Z",
     "start_time": "2024-10-23T06:20:57.240110Z"
    }
   },
   "id": "eb7b17c89734b2d2",
   "outputs": [
    {
     "name": "stdout",
     "output_type": "stream",
     "text": [
      "5\n",
      "10\n",
      "15\n",
      "20\n",
      "25\n",
      "30\n",
      "35\n",
      "40\n",
      "45\n",
      "50\n",
      "55\n",
      "60\n",
      "65\n",
      "70\n",
      "75\n",
      "80\n",
      "85\n",
      "90\n",
      "95\n",
      "100\n",
      "1から100の中で，5の倍数の個数は 20 個です\n"
     ]
    }
   ],
   "execution_count": 8
  },
  {
   "cell_type": "code",
   "source": [
    "# サンプルプログラム2: 整数の約数を列挙，個数をカウントする\n",
    "count = 0 # カウント保存用変数\n",
    "n = int(input('正の整数を入力してください'))\n",
    "\n",
    "for i in range(1, n + 1):\n",
    "  if n % i == 0:\n",
    "    print(i)\n",
    "    count += 1\n",
    "\n",
    "print(n, 'の約数の数は', count, '個です')"
   ],
   "metadata": {
    "collapsed": false,
    "ExecuteTime": {
     "end_time": "2024-10-23T06:21:06.189332Z",
     "start_time": "2024-10-23T06:20:58.378038Z"
    }
   },
   "id": "accae4d9f6244a43",
   "outputs": [
    {
     "name": "stdout",
     "output_type": "stream",
     "text": [
      "1\n",
      "2\n",
      "4\n",
      "8\n",
      "16\n",
      "32\n",
      "32 の約数の数は 6 個です\n"
     ]
    }
   ],
   "execution_count": 9
  },
  {
   "cell_type": "code",
   "source": [
    "# サンプルプログラム3: 整数の桁数を求める\n",
    "# 123の場合は3桁\n",
    "# 10で切り捨て除算(//)して，1桁ずつ削って，桁数を求める\n",
    "\n",
    "# 例: 123 // 10 → 12，12 // 10 → 1，1 // 10 → 0\n",
    "\n",
    "n = int(input('正の整数を入力してください'))\n",
    "\n",
    "keta = 1 # 桁数を保存する変数\n",
    "\n",
    "while n // 10 != 0:\n",
    "  keta += 1\n",
    "  n //= 10 # 1桁削る\n",
    "\n",
    "print(keta, '桁の整数です')\n"
   ],
   "metadata": {
    "collapsed": false,
    "ExecuteTime": {
     "end_time": "2024-10-23T06:21:15.435908Z",
     "start_time": "2024-10-23T06:21:09.878723Z"
    }
   },
   "id": "1b672fa6e4812036",
   "outputs": [
    {
     "name": "stdout",
     "output_type": "stream",
     "text": [
      "4 桁の整数です\n"
     ]
    }
   ],
   "execution_count": 10
  },
  {
   "cell_type": "markdown",
   "source": [
    "### 改行しないprint()\n",
    "- print(出力内容)とすると，改行する出力となる\n",
    "  - print() の場合，改行だけ行う \n",
    "- print(出力内容, end='')とすると，改行しない出力となる"
   ],
   "metadata": {
    "collapsed": false
   },
   "id": "96a68747e7cff523"
  },
  {
   "cell_type": "code",
   "source": [
    "# 例: 改行するprint()と改行しないprint()\n",
    "print('Hello') # 改行する\n",
    "print('World') # 改行する\n",
    "print() # 改行する\n",
    "print('Hello', end='') # 改行しない\n",
    "print('World', end='') # 改行しない"
   ],
   "metadata": {
    "collapsed": false,
    "ExecuteTime": {
     "end_time": "2024-10-23T06:21:18.519113Z",
     "start_time": "2024-10-23T06:21:18.516433Z"
    }
   },
   "id": "2e4ea646a02ef7d1",
   "outputs": [
    {
     "name": "stdout",
     "output_type": "stream",
     "text": [
      "Hello\n",
      "World\n",
      "\n",
      "HelloWorld"
     ]
    }
   ],
   "execution_count": 11
  },
  {
   "cell_type": "code",
   "source": [
    "# サンプルプログラム4: 整数を逆順にして出力する（例: 1234 → 4321）\n",
    "# 10で割った余りを改行なし出力し，切り捨て除算を使用して1桁ずつ削ることを繰り返す\n",
    "\n",
    "# 例\n",
    "# 1234 % 10 → 4，1234を123に更新\n",
    "# 123 % 10 → 3，123を12に更新\n",
    "# 12 % 10 → 2，12を1に更新\n",
    "# 1 % 10 → 1，1 を切り捨て除算した際に商が0の場合，処理をやめる\n",
    "\n",
    "n = int(input('正の整数を入力してください'))\n",
    "\n",
    "# 最初の処理だけを行う\n",
    "print(n % 10, end='')\n",
    "\n",
    "while n // 10 != 0:\n",
    "  n //= 10 # 1桁削る\n",
    "  print(n % 10, end='')"
   ],
   "metadata": {
    "collapsed": false,
    "ExecuteTime": {
     "end_time": "2024-10-23T06:21:24.983324Z",
     "start_time": "2024-10-23T06:21:20.904231Z"
    }
   },
   "id": "e1e963ea5728469e",
   "outputs": [
    {
     "name": "stdout",
     "output_type": "stream",
     "text": [
      "4321"
     ]
    }
   ],
   "execution_count": 12
  },
  {
   "cell_type": "markdown",
   "source": [
    "### 演習1\n",
    "1. 繰り返し処理を用いて，以下のように出力するプログラムを作成せよ\n",
    "```\n",
    "Hello World\n",
    "Hello World\n",
    "Hello World\n",
    "Hello World\n",
    "Hello World\n",
    "Hello World\n",
    "Hello World\n",
    "Hello World\n",
    "Hello World\n",
    "Hello World\n",
    "```\n",
    "2. $1^3 + 2^3 + 3^3 + \\cdots + 50^3$を， 繰り返し処理を利用したプログラムで求めよ\n",
    "3. 「0を入力するまでおうむ返しする」プログラムを作成せよ\n",
    "4. 整数を入力して，その値を累積する（足し算する）ことを行い，累積値が30を超えたら，累積値と入力した回数を出力して終了するプログラムを作成せよ"
   ],
   "metadata": {
    "collapsed": false
   },
   "id": "951fff8b50051b22"
  },
  {
   "cell_type": "markdown",
   "source": [
    "### 演習2\n",
    "1. 3つの自然数（1以上の整数）a, b, cを読み込み，a から b までの自然数の中に，cの約数がいくつあるかを求めるプログラムを作成せよ\n",
    "2. 5個の整数を入力し，それらの最小値，最大値，合計値を求めるプログラムを作成せよ\n",
    "3. 入力した自然数が，「121」のように逆から数字を並べても同じ数になる回文数である場合には， Yes を， 違う場合には No と出力するプログラムを作成せよ"
   ],
   "metadata": {
    "collapsed": false
   },
   "id": "d11ee63188ef5eea"
  },
  {
   "cell_type": "code",
   "execution_count": null,
   "outputs": [],
   "source": [],
   "metadata": {
    "collapsed": false
   },
   "id": "a3fad8e765a03b24"
  }
 ],
 "metadata": {
  "kernelspec": {
   "display_name": "Python 3",
   "language": "python",
   "name": "python3"
  },
  "language_info": {
   "codemirror_mode": {
    "name": "ipython",
    "version": 2
   },
   "file_extension": ".py",
   "mimetype": "text/x-python",
   "name": "python",
   "nbconvert_exporter": "python",
   "pygments_lexer": "ipython2",
   "version": "2.7.6"
  }
 },
 "nbformat": 4,
 "nbformat_minor": 5
}
