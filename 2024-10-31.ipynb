{
 "cells": [
  {
   "cell_type": "markdown",
   "id": "40a96ed13860d40f",
   "metadata": {},
   "source": [
    "### 2重ループ\n",
    "- 繰り返し処理の中に，繰り返し処理を記述することで，より複雑なプログラムを書くことが出来る\n",
    "- 2重ループの場合，内側にある繰り返し処理を，外側にあるループで設定した繰り返しで実行する"
   ]
  },
  {
   "cell_type": "code",
   "execution_count": 1,
   "id": "3873affe6417dd3b",
   "metadata": {
    "ExecuteTime": {
     "end_time": "2023-09-27T07:55:29.351889158Z",
     "start_time": "2023-09-27T07:55:29.351251240Z"
    }
   },
   "outputs": [
    {
     "name": "stdout",
     "output_type": "stream",
     "text": [
      "■■■■■\n",
      "■■■■■\n",
      "■■■■■\n",
      "■■■■■\n",
      "■■■■■\n",
      "■■■■■\n",
      "■■■■■\n"
     ]
    }
   ],
   "source": [
    "# 例: 2重ループで模様作成\n",
    "# インデント位置に注意すること\n",
    "for i in range(7): # 以下のfor j in range(5)を7回繰り返す\n",
    "    for j in range(5):\n",
    "        print('■', end='') # jループの処理（改行しない）\n",
    "    print() # iループの処理（改行する）\n",
    "# 縦7，横5のタイル出力となる"
   ]
  },
  {
   "cell_type": "markdown",
   "id": "e9221d5575fd287",
   "metadata": {},
   "source": [
    "### 練習A\n",
    "- 上のサンプルプログラムを参考に以下のプログラムを実装してください\n",
    "\n",
    "1.\n",
    "```\n",
    "○○○○○○\n",
    "○○○○○○\n",
    "○○○○○○\n",
    "○○○○○○\n",
    "```\n",
    "\n",
    "2.\n",
    "```\n",
    "01234\n",
    "01234\n",
    "01234\n",
    "01234\n",
    "```\n",
    "\n",
    "3.\n",
    "```\n",
    "00000000\n",
    "11111111\n",
    "22222222\n",
    "33333333\n",
    "44444444\n",
    "```"
   ]
  },
  {
   "cell_type": "code",
   "execution_count": 2,
   "id": "1c2bf085645dce63",
   "metadata": {
    "ExecuteTime": {
     "end_time": "2023-09-27T07:55:32.820694844Z",
     "start_time": "2023-09-27T07:55:32.817465945Z"
    }
   },
   "outputs": [
    {
     "name": "stdout",
     "output_type": "stream",
     "text": [
      "○○○○○○\n",
      "○○○○○○\n",
      "○○○○○○\n",
      "○○○○○○\n"
     ]
    }
   ],
   "source": [
    "# 解答例1\n",
    "for i in range(4):\n",
    "    for j in range(6):\n",
    "        print('○', end='') # jループの処理（改行しない）\n",
    "    print() # iループの処理（改行する）"
   ]
  },
  {
   "cell_type": "code",
   "execution_count": 3,
   "id": "dd21a48fff3b7559",
   "metadata": {
    "ExecuteTime": {
     "end_time": "2023-09-27T07:55:33.559611147Z",
     "start_time": "2023-09-27T07:55:33.555276116Z"
    }
   },
   "outputs": [
    {
     "name": "stdout",
     "output_type": "stream",
     "text": [
      "01234\n",
      "01234\n",
      "01234\n",
      "01234\n"
     ]
    }
   ],
   "source": [
    "# 解答例2\n",
    "for i in range(4):\n",
    "    for j in range(5):\n",
    "        print(j, end='') # jループの処理（改行しない）\n",
    "    print() # iループの処理（改行する）"
   ]
  },
  {
   "cell_type": "code",
   "execution_count": 4,
   "id": "2a06b7f78c1c8d08",
   "metadata": {
    "ExecuteTime": {
     "end_time": "2023-09-27T07:55:35.546402315Z",
     "start_time": "2023-09-27T07:55:35.539075638Z"
    }
   },
   "outputs": [
    {
     "name": "stdout",
     "output_type": "stream",
     "text": [
      "00000000\n",
      "11111111\n",
      "22222222\n",
      "33333333\n",
      "44444444\n"
     ]
    }
   ],
   "source": [
    "# 解答例3\n",
    "for i in range(5):\n",
    "    for j in range(8):\n",
    "        print(i, end='') # jループの処理（改行しない）\n",
    "    print() # iループの処理（改行する）"
   ]
  },
  {
   "cell_type": "markdown",
   "id": "7a0073a4f8149bcc",
   "metadata": {},
   "source": [
    "### 応用: 2重ループ\n",
    "- 変数を使用した繰り返し処理を行うことで，さらに複雑な処理を行うことができる"
   ]
  },
  {
   "cell_type": "code",
   "execution_count": 1,
   "id": "7963edaad36d6fa7",
   "metadata": {
    "ExecuteTime": {
     "end_time": "2023-10-12T01:17:14.843411730Z",
     "start_time": "2023-10-12T01:17:14.831621728Z"
    }
   },
   "outputs": [
    {
     "name": "stdout",
     "output_type": "stream",
     "text": [
      "■\n",
      "■■\n",
      "■■■\n",
      "■■■■\n",
      "■■■■■\n",
      "■■■■■■\n",
      "■■■■■■■\n",
      "■■■■■■■■\n",
      "■■■■■■■■■\n",
      "■■■■■■■■■■\n"
     ]
    }
   ],
   "source": [
    "# 例: 2重ループで階段を生成する\n",
    "# インデント位置に注意すること\n",
    "for i in range(10):\n",
    "    for j in range(i + 1): # 変数iを使って，繰り返しを制御する\n",
    "        print('■', end='') # jループの処理（改行しない）\n",
    "    print() # iループの処理（改行する）"
   ]
  },
  {
   "cell_type": "markdown",
   "id": "5e4f5f9a73b522a1",
   "metadata": {},
   "source": [
    "### 練習B\n",
    "- 上のサンプルプログラムを参考に以下のプログラムを実装してください\n",
    "\n",
    "1.\n",
    "```\n",
    "0\n",
    "01\n",
    "012\n",
    "0123\n",
    "01234\n",
    "012345\n",
    "0123456\n",
    "01234567\n",
    "012345678\n",
    "0123456789\n",
    "```\n",
    "\n",
    "2.\n",
    "```\n",
    "0\n",
    "11\n",
    "222\n",
    "3333\n",
    "44444\n",
    "555555\n",
    "6666666\n",
    "77777777\n",
    "888888888\n",
    "9999999999\n",
    "```\n",
    "\n",
    "\n",
    "3.\n",
    "```\n",
    "■■■■■■■■■■\n",
    "■■■■■■■■■\n",
    "■■■■■■■■\n",
    "■■■■■■■\n",
    "■■■■■■\n",
    "■■■■■\n",
    "■■■■\n",
    "■■■\n",
    "■■\n",
    "■\n",
    "```\n",
    "\n",
    "4.\n",
    "```\n",
    "          *\n",
    "         **\n",
    "        ***\n",
    "       ****\n",
    "      *****\n",
    "     ******\n",
    "    *******\n",
    "   ********\n",
    "  *********\n",
    " **********\n",
    "```"
   ]
  },
  {
   "cell_type": "code",
   "execution_count": 6,
   "id": "63116bca69c333fe",
   "metadata": {
    "ExecuteTime": {
     "end_time": "2023-09-27T07:55:43.968502332Z",
     "start_time": "2023-09-27T07:55:43.964342323Z"
    }
   },
   "outputs": [
    {
     "name": "stdout",
     "output_type": "stream",
     "text": [
      "0\n",
      "01\n",
      "012\n",
      "0123\n",
      "01234\n",
      "012345\n",
      "0123456\n",
      "01234567\n",
      "012345678\n",
      "0123456789\n"
     ]
    }
   ],
   "source": [
    "# 解答例1\n",
    "for i in range(10):\n",
    "    for j in range(i + 1): # 変数iを使って，繰り返しを制御する\n",
    "        print(j, end='') # jループの処理（改行しない）\n",
    "    print() # iループの処理（改行する）"
   ]
  },
  {
   "cell_type": "code",
   "execution_count": 7,
   "id": "db61b8143060ee36",
   "metadata": {
    "ExecuteTime": {
     "end_time": "2023-09-27T07:55:44.708163976Z",
     "start_time": "2023-09-27T07:55:44.702508429Z"
    }
   },
   "outputs": [
    {
     "name": "stdout",
     "output_type": "stream",
     "text": [
      "0\n",
      "11\n",
      "222\n",
      "3333\n",
      "44444\n",
      "555555\n",
      "6666666\n",
      "77777777\n",
      "888888888\n",
      "9999999999\n"
     ]
    }
   ],
   "source": [
    "# 解答例2\n",
    "for i in range(10):\n",
    "    for j in range(i + 1): # 変数iを使って，繰り返しを制御する\n",
    "        print(i, end='') # jループの処理（改行しない）\n",
    "    print() # iループの処理（改行する）"
   ]
  },
  {
   "cell_type": "code",
   "execution_count": 8,
   "id": "9ccc4787584794a2",
   "metadata": {
    "ExecuteTime": {
     "end_time": "2023-09-27T07:55:45.582595770Z",
     "start_time": "2023-09-27T07:55:45.579716915Z"
    }
   },
   "outputs": [
    {
     "name": "stdout",
     "output_type": "stream",
     "text": [
      "■■■■■■■■■■\n",
      "■■■■■■■■■\n",
      "■■■■■■■■\n",
      "■■■■■■■\n",
      "■■■■■■\n",
      "■■■■■\n",
      "■■■■\n",
      "■■■\n",
      "■■\n",
      "■\n"
     ]
    }
   ],
   "source": [
    "# 解答例3\n",
    "for i in range(10, 0, -1):\n",
    "    for j in range(i): # 変数iを使って，繰り返しを制御する\n",
    "        print('■', end='') # jループの処理（改行しない）\n",
    "    print() # iループの処理（改行する）"
   ]
  },
  {
   "cell_type": "code",
   "execution_count": 9,
   "id": "6e5718dab34f1f21",
   "metadata": {
    "ExecuteTime": {
     "end_time": "2023-09-27T07:55:46.260153726Z",
     "start_time": "2023-09-27T07:55:46.255181067Z"
    }
   },
   "outputs": [
    {
     "name": "stdout",
     "output_type": "stream",
     "text": [
      "          *\n",
      "         **\n",
      "        ***\n",
      "       ****\n",
      "      *****\n",
      "     ******\n",
      "    *******\n",
      "   ********\n",
      "  *********\n",
      " **********\n"
     ]
    }
   ],
   "source": [
    "# 解答例4（これも二重ループの1種です）\n",
    "for i in range(10):\n",
    "    for j in range(10-i):\n",
    "        print(' ', end='') # jループの処理（改行しない）\n",
    "    for k in range(i+1):\n",
    "        print('*', end='') # kループの処理（改行しない）\n",
    "    print() # iループの処理（改行する）"
   ]
  },
  {
   "cell_type": "markdown",
   "id": "f4d0f3ef60a2e5b5",
   "metadata": {},
   "source": [
    "### 応用: 2重ループ\n",
    "- 2重ループの中に選択処理を書くことで，より複雑な処理を行うことができる"
   ]
  },
  {
   "cell_type": "code",
   "execution_count": 10,
   "id": "dcb4eeb26cd2b1e4",
   "metadata": {
    "ExecuteTime": {
     "end_time": "2023-09-27T07:55:49.805635567Z",
     "start_time": "2023-09-27T07:55:49.801462057Z"
    }
   },
   "outputs": [
    {
     "name": "stdout",
     "output_type": "stream",
     "text": [
      "■■■■■■■■■■■■■■■■■■■■\n",
      "□□□□□□□□□□□□□□□□□□□□\n",
      "■■■■■■■■■■■■■■■■■■■■\n",
      "□□□□□□□□□□□□□□□□□□□□\n",
      "■■■■■■■■■■■■■■■■■■■■\n",
      "□□□□□□□□□□□□□□□□□□□□\n",
      "■■■■■■■■■■■■■■■■■■■■\n",
      "□□□□□□□□□□□□□□□□□□□□\n",
      "■■■■■■■■■■■■■■■■■■■■\n",
      "□□□□□□□□□□□□□□□□□□□□\n",
      "■■■■■■■■■■■■■■■■■■■■\n",
      "□□□□□□□□□□□□□□□□□□□□\n",
      "■■■■■■■■■■■■■■■■■■■■\n",
      "□□□□□□□□□□□□□□□□□□□□\n",
      "■■■■■■■■■■■■■■■■■■■■\n"
     ]
    }
   ],
   "source": [
    "# サンプルプログラム: 横縞模様出力\n",
    "for i in range(15):\n",
    "    for j in range(20):\n",
    "        if i % 2 == 0:\n",
    "            print('■', end='') # jループの処理（改行しない）\n",
    "        else:\n",
    "            print('□', end='') # jループの処理（改行しない）\n",
    "    print('') # iループの処理（改行する）"
   ]
  },
  {
   "cell_type": "markdown",
   "id": "4f8f6d3ec02a63e0",
   "metadata": {},
   "source": [
    "### 練習C\n",
    "- 上のサンプルプログラムを参考に以下のプログラムを実装してください\n",
    "\n",
    "1. 縦縞模様\n",
    "```\n",
    "■□■□■□■□■□\n",
    "■□■□■□■□■□\n",
    "■□■□■□■□■□\n",
    "■□■□■□■□■□\n",
    "■□■□■□■□■□\n",
    "■□■□■□■□■□\n",
    "■□■□■□■□■□\n",
    "■□■□■□■□■□\n",
    "■□■□■□■□■□\n",
    "■□■□■□■□■□\n",
    "```\n",
    "\n",
    "2. 市松模様\n",
    "```\n",
    "■□■□■□■□■□\n",
    "□■□■□■□■□■\n",
    "■□■□■□■□■□\n",
    "□■□■□■□■□■\n",
    "■□■□■□■□■□\n",
    "□■□■□■□■□■\n",
    "■□■□■□■□■□\n",
    "□■□■□■□■□■\n",
    "■□■□■□■□■□\n",
    "□■□■□■□■□■\n",
    "```"
   ]
  },
  {
   "cell_type": "code",
   "execution_count": 11,
   "id": "37cc94c9c3badbbe",
   "metadata": {
    "ExecuteTime": {
     "end_time": "2023-09-27T07:56:04.919571279Z",
     "start_time": "2023-09-27T07:56:04.877770639Z"
    }
   },
   "outputs": [
    {
     "name": "stdout",
     "output_type": "stream",
     "text": [
      "■□■□■□■□■□\n",
      "■□■□■□■□■□\n",
      "■□■□■□■□■□\n",
      "■□■□■□■□■□\n",
      "■□■□■□■□■□\n",
      "■□■□■□■□■□\n",
      "■□■□■□■□■□\n",
      "■□■□■□■□■□\n",
      "■□■□■□■□■□\n",
      "■□■□■□■□■□\n"
     ]
    }
   ],
   "source": [
    "# 解答例1\n",
    "for i in range(10):\n",
    "    for j in range(10):\n",
    "        if j % 2 == 0:\n",
    "            print('■', end='') # jループの処理（改行しない）\n",
    "        else:\n",
    "            print('□', end='') # jループの処理（改行しない）\n",
    "    print('') # iループの処理（改行する）"
   ]
  },
  {
   "cell_type": "code",
   "execution_count": 12,
   "id": "5abe2f6a951530de",
   "metadata": {
    "ExecuteTime": {
     "end_time": "2023-09-27T07:56:05.603274022Z",
     "start_time": "2023-09-27T07:56:05.598456284Z"
    }
   },
   "outputs": [
    {
     "name": "stdout",
     "output_type": "stream",
     "text": [
      "■□■□■□■□■□\n",
      "□■□■□■□■□■\n",
      "■□■□■□■□■□\n",
      "□■□■□■□■□■\n",
      "■□■□■□■□■□\n",
      "□■□■□■□■□■\n",
      "■□■□■□■□■□\n",
      "□■□■□■□■□■\n",
      "■□■□■□■□■□\n",
      "□■□■□■□■□■\n"
     ]
    }
   ],
   "source": [
    "# 解答例2\n",
    "for i in range(10):\n",
    "    for j in range(10):\n",
    "        if (i + j) % 2 == 0:\n",
    "            print('■', end='') # jループの処理（改行しない）\n",
    "        else:\n",
    "            print('□', end='') # jループの処理（改行しない）\n",
    "    print('') # iループの処理（改行する）"
   ]
  },
  {
   "cell_type": "markdown",
   "id": "6a4e1dd88e0f42bb",
   "metadata": {},
   "source": [
    "### 演習1\n",
    "- 2重ループを利用して，以下の出力を行うプログラムを作成しなさい\n",
    "  - ヒント: 半角スペースをうまく利用する \n",
    "```\n",
    "0         \n",
    " 1        \n",
    "  2       \n",
    "   3      \n",
    "    4     \n",
    "     5    \n",
    "      6   \n",
    "       7  \n",
    "        8 \n",
    "         9\n",
    "```\n",
    "\n",
    "- 段数を入力して，以下の入力した階段の出力を行うプログラムを作成しなさい（2重ループを利用すること）\n",
    "  - 段数が5のとき\n",
    "```\n",
    "*****\n",
    "****\n",
    "***\n",
    "**\n",
    "*\n",
    "```"
   ]
  },
  {
   "cell_type": "markdown",
   "id": "284821b490288565",
   "metadata": {},
   "source": [
    "### 演習2\n",
    "- 2重ループを利用して，以下の出力を行うプログラムを作成しなさい\n",
    "  - ヒント: 余りをうまく利用する\n",
    "```\n",
    "0123456789\n",
    "1234567890\n",
    "2345678901\n",
    "3456789012\n",
    "4567890123\n",
    "5678901234\n",
    "6789012345\n",
    "7890123456\n",
    "8901234567\n",
    "9012345678\n",
    "```\n",
    "\n",
    "- 段数を入力して，以下の入力した階段の出力を行うプログラムを作成しなさい（2重ループを利用すること）\n",
    "  - 段数が5のとき \n",
    "```\n",
    "    *\n",
    "   ***\n",
    "  *****\n",
    " *******\n",
    "*********\n",
    "```"
   ]
  },
  {
   "cell_type": "code",
   "execution_count": null,
   "id": "78b7d17bc1d5c60e",
   "metadata": {},
   "outputs": [],
   "source": []
  }
 ],
 "metadata": {
  "kernelspec": {
   "display_name": "Python 3 (ipykernel)",
   "language": "python",
   "name": "python3"
  },
  "language_info": {
   "codemirror_mode": {
    "name": "ipython",
    "version": 3
   },
   "file_extension": ".py",
   "mimetype": "text/x-python",
   "name": "python",
   "nbconvert_exporter": "python",
   "pygments_lexer": "ipython3",
   "version": "3.8.10"
  }
 },
 "nbformat": 4,
 "nbformat_minor": 5
}
