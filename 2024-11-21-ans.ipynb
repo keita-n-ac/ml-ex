{
 "cells": [
  {
   "cell_type": "markdown",
   "source": [
    "### 演習1\n",
    "1. 要素数0の空リストを作成し，appendを利用して，先頭から，1, 3, 5, 7, 9, 11, …, 93, 95, 97, 99を格納するリストを作成せよ"
   ],
   "metadata": {
    "collapsed": false
   },
   "id": "915255caad76a23"
  },
  {
   "cell_type": "code",
   "execution_count": 11,
   "outputs": [
    {
     "name": "stdout",
     "output_type": "stream",
     "text": [
      "[1, 3, 5, 7, 9, 11, 13, 15, 17, 19, 21, 23, 25, 27, 29, 31, 33, 35, 37, 39, 41, 43, 45, 47, 49, 51, 53, 55, 57, 59, 61, 63, 65, 67, 69, 71, 73, 75, 77, 79, 81, 83, 85, 87, 89, 91, 93, 95, 97, 99]\n"
     ]
    }
   ],
   "source": [
    "x = []\n",
    "for i in range(1, 100, 2):\n",
    "    x.append(i)\n",
    "print(x)"
   ],
   "metadata": {
    "collapsed": false,
    "ExecuteTime": {
     "end_time": "2023-10-25T11:31:06.869385636Z",
     "start_time": "2023-10-25T11:31:06.866564184Z"
    }
   },
   "id": "bee28a776141051e"
  },
  {
   "cell_type": "markdown",
   "source": [
    "2. この作成したリストに対して，合計値，平均値を求めるプログラムを作成せよ"
   ],
   "metadata": {
    "collapsed": false
   },
   "id": "e77aaeaf05b3d97a"
  },
  {
   "cell_type": "code",
   "execution_count": 12,
   "outputs": [
    {
     "name": "stdout",
     "output_type": "stream",
     "text": [
      "合計値 2500\n",
      "平均値 50.0\n"
     ]
    }
   ],
   "source": [
    "print('合計値', sum(x))\n",
    "print('平均値', sum(x) / len(x))"
   ],
   "metadata": {
    "collapsed": false,
    "ExecuteTime": {
     "end_time": "2023-10-25T11:31:07.707726213Z",
     "start_time": "2023-10-25T11:31:07.665087350Z"
    }
   },
   "id": "81eecfffe293332a"
  },
  {
   "cell_type": "markdown",
   "source": [
    "3. この作成したリストに対して，99, 97, 95, 93, …, 11, 9, 7, 5, 3, 1と逆順になるようなプログラムを作成せよ"
   ],
   "metadata": {
    "collapsed": false
   },
   "id": "3768e321cb48b477"
  },
  {
   "cell_type": "code",
   "execution_count": 13,
   "outputs": [
    {
     "name": "stdout",
     "output_type": "stream",
     "text": [
      "[99, 97, 95, 93, 91, 89, 87, 85, 83, 81, 79, 77, 75, 73, 71, 69, 67, 65, 63, 61, 59, 57, 55, 53, 51, 49, 47, 45, 43, 41, 39, 37, 35, 33, 31, 29, 27, 25, 23, 21, 19, 17, 15, 13, 11, 9, 7, 5, 3, 1]\n"
     ]
    }
   ],
   "source": [
    "print(x[::-1])"
   ],
   "metadata": {
    "collapsed": false,
    "ExecuteTime": {
     "end_time": "2023-10-25T11:31:09.337119530Z",
     "start_time": "2023-10-25T11:31:09.331379468Z"
    }
   },
   "id": "cc22ae8776249594"
  },
  {
   "cell_type": "markdown",
   "source": [
    "### 演習2\n",
    "- リスト[10, 20, 30, 100, 200, 300]の分散値をプログラムで求めてください．"
   ],
   "metadata": {
    "collapsed": false
   },
   "id": "e2972f689e13dd0b"
  },
  {
   "cell_type": "code",
   "execution_count": 14,
   "outputs": [
    {
     "name": "stdout",
     "output_type": "stream",
     "text": [
      "11466.666666666666\n"
     ]
    }
   ],
   "source": [
    "x = [10, 20, 30, 100, 200, 300]\n",
    "a = sum(x) / len(x) # 平均値を求める\n",
    "\n",
    "# 偏差値を求める\n",
    "for i in range(len(x)):\n",
    "    x[i] -= a\n",
    "\n",
    "# 偏差値の2乗値を求める\n",
    "for i in range(len(x)):\n",
    "    x[i] *= x[i]\n",
    "\n",
    "# 分散値を求める\n",
    "print(sum(x) / len(x))\n"
   ],
   "metadata": {
    "collapsed": false,
    "ExecuteTime": {
     "end_time": "2023-10-25T11:31:10.394756805Z",
     "start_time": "2023-10-25T11:31:10.389082132Z"
    }
   },
   "id": "bcaaf2c30e5242f6"
  },
  {
   "cell_type": "code",
   "execution_count": null,
   "outputs": [],
   "source": [],
   "metadata": {
    "collapsed": false
   },
   "id": "193dd2cfed6960db"
  }
 ],
 "metadata": {
  "kernelspec": {
   "display_name": "Python 3",
   "language": "python",
   "name": "python3"
  },
  "language_info": {
   "codemirror_mode": {
    "name": "ipython",
    "version": 2
   },
   "file_extension": ".py",
   "mimetype": "text/x-python",
   "name": "python",
   "nbconvert_exporter": "python",
   "pygments_lexer": "ipython2",
   "version": "2.7.6"
  }
 },
 "nbformat": 4,
 "nbformat_minor": 5
}
