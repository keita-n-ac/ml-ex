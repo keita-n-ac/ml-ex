{
 "cells": [
  {
   "cell_type": "markdown",
   "source": [
    "### タプル\n",
    "- リストのように複数の値を格納できるが，一度初期化したら要素の追加・変更・削除ができない\n",
    "  - 中身が変更できないリスト\n",
    "- それぞれの要素を半角コンマ , で区切って，全体を括弧（丸括弧）```()``` で囲む\n",
    "  - 例えば，12, 24, 36 の 3つの数値を格納するタプルは以下の通りとなる\n",
    "```python\n",
    "(12, 24, 36)\n",
    "```\n",
    "- タプルはリストのようにインデックスを使ってアクセスできる\n",
    "- ```len(タプル変数名)```で要素数を取得できる\n",
    "- ```sum(タプル変数名)```で合計値を取得できる\n",
    "  - すべての要素が数値の場合に限る \n",
    "- タプルはデータを書き換えることができないため，書き換えられていないことを保証できることがメリットとなる\n",
    "  - リスト: 書き換える可能性がある複数のデータをまとめて管理するために使用\n",
    "  - タプル: 書き換える可能性がない複数のデータをまとめて管理するために使用"
   ],
   "metadata": {
    "collapsed": false
   },
   "id": "20531b97e5e45137"
  },
  {
   "cell_type": "code",
   "execution_count": 1,
   "outputs": [
    {
     "name": "stdout",
     "output_type": "stream",
     "text": [
      "(70, 80, 90)\n",
      "70\n",
      "要素数: 3\n",
      "合計値: 240\n"
     ]
    }
   ],
   "source": [
    "result = (70, 80, 90)\n",
    "print(result)                 # タプルの中身を全表示\n",
    "print(result[0])              # タプルの最初の要素を表示\n",
    "print('要素数:', len(result))\n",
    "print('合計値:', sum(result))"
   ],
   "metadata": {
    "collapsed": false,
    "ExecuteTime": {
     "end_time": "2023-10-30T11:48:05.942971128Z",
     "start_time": "2023-10-30T11:48:05.942486644Z"
    }
   },
   "id": "fb76a35b3df2026b"
  },
  {
   "cell_type": "markdown",
   "source": [
    "### セット\n",
    "- 複数の値を格納する方法であるが，リスト・ディクショナリ・タプルと違って以下の特徴を持つ\n",
    "  - 重複したデータを格納することができない\n",
    "  - インデックス・キーを使って，格納している値を取得できない\n",
    "    - 順序がという概念が存在しない\n",
    "- セットは，重複がないため種類を管理することに向いている\n",
    "- それぞれの要素を半角コンマ , で区切って，全体を中括弧（波括弧）```{}``` で囲む\n",
    "  - 例えば，12, 24, 36 の 3つの数値を格納するセットは以下の通りとなる\n",
    "```python\n",
    "{12, 24, 36}\n",
    "```\n",
    "- セットのことを集合とよぶことがある"
   ],
   "metadata": {
    "collapsed": false
   },
   "id": "8934aa458e8f1b2e"
  },
  {
   "cell_type": "code",
   "execution_count": 2,
   "outputs": [
    {
     "name": "stdout",
     "output_type": "stream",
     "text": [
      "{48, 36, 24, 12, 60}\n"
     ]
    }
   ],
   "source": [
    "result = {12, 24, 36, 48, 60}\n",
    "print(result) # 順序が存在しないため，順番がバラバラで表示されることがある"
   ],
   "metadata": {
    "collapsed": false,
    "ExecuteTime": {
     "end_time": "2023-10-30T11:48:06.890049803Z",
     "start_time": "2023-10-30T11:48:06.887709280Z"
    }
   },
   "id": "18fd463c1ed927f1"
  },
  {
   "cell_type": "code",
   "execution_count": 3,
   "outputs": [
    {
     "name": "stdout",
     "output_type": "stream",
     "text": [
      "{1, 2}\n"
     ]
    }
   ],
   "source": [
    "result = {1, 1, 1, 2, 2} # 重複したデータで初期化\n",
    "print(result) # 重複データは1つにまとめられる"
   ],
   "metadata": {
    "collapsed": false,
    "ExecuteTime": {
     "end_time": "2023-10-30T11:48:07.547093170Z",
     "start_time": "2023-10-30T11:48:07.543105160Z"
    }
   },
   "id": "6524419fa27c514a"
  },
  {
   "cell_type": "markdown",
   "source": [
    "- セットに要素を追加するためには，```append```ではなく，```add```を使用する\n",
    "  - ```セット変数名.add(値)``` とする\n",
    "  - リストの要素を追加する場合，```リスト変数名.append(値)``` となる\n",
    "- セットから指定した値を削除する場合，```セット変数名.remove(値)``` とする"
   ],
   "metadata": {
    "collapsed": false
   },
   "id": "f68882769b93d748"
  },
  {
   "cell_type": "code",
   "execution_count": 4,
   "outputs": [
    {
     "name": "stdout",
     "output_type": "stream",
     "text": [
      "{48, 36, 24, 12, 60}\n",
      "{48, 36, 24, 72, 12, 60}\n",
      "{48, 36, 24, 12, 60}\n"
     ]
    }
   ],
   "source": [
    "result = {12, 24, 36, 48, 60}\n",
    "print(result)\n",
    "result.add(72)\n",
    "print(result)\n",
    "result.remove(72)\n",
    "print(result)"
   ],
   "metadata": {
    "collapsed": false,
    "ExecuteTime": {
     "end_time": "2023-10-30T11:48:08.999466148Z",
     "start_time": "2023-10-30T11:48:08.995228906Z"
    }
   },
   "id": "81f7657da45883f"
  },
  {
   "cell_type": "markdown",
   "source": [
    "### セットの演算\n",
    "- 2セットの共通部分のセットや違いを求めることができる\n",
    "- ```|``` 演算子: 2集合の組み合わせの要素からなるセットを求めることができる\n",
    "- ```&``` 演算子: 2集合両方にある要素からなるセットを求めることができる\n",
    "- ```-``` 演算子: 1つ目のセットに含まれているけれど，もう一方のセットには含まれていない要素からなるセットを求めることができる\n",
    "- ```^``` 演算子: 2つのセットのどちらか片方だけに含まれる要素からなるセットを求めることができる"
   ],
   "metadata": {
    "collapsed": false
   },
   "id": "ed60628d0a1bfe89"
  },
  {
   "cell_type": "code",
   "execution_count": 2,
   "outputs": [
    {
     "name": "stdout",
     "output_type": "stream",
     "text": [
      "{1, 2, 3, 4, 5, 6, 7, 9}\n",
      "{1, 3, 5}\n",
      "{2, 4, 6}\n",
      "{9, 7}\n",
      "{2, 4, 6, 7, 9}\n"
     ]
    }
   ],
   "source": [
    "a = {1, 2, 3, 4, 5, 6}\n",
    "b = {1, 3, 5, 7, 9}\n",
    "\n",
    "print(a | b) # 組み合わせ（和集合）\n",
    "print(a & b) # 共通要素（積集合）\n",
    "print(a - b) # セットaからセットbの要素を取り除く（差集合）\n",
    "print(b - a) # セットbからセットaの要素を取り除く（差集合）\n",
    "print(a ^ b) # 片方だけに含まれる要素（対称差）\n"
   ],
   "metadata": {
    "collapsed": false,
    "ExecuteTime": {
     "end_time": "2023-11-02T03:45:24.903649553Z",
     "start_time": "2023-11-02T03:45:24.853146823Z"
    }
   },
   "id": "19e4a5c9cf7cdeb3"
  },
  {
   "cell_type": "markdown",
   "source": [
    "### コレクション \n",
    "- Pythonでは，複数のデータを扱う方法をコレクションとよぶ\n",
    "- リスト，ディクショナリ，タプル，セットがコレクションの代表的な例\n",
    "  - プログラマはデータに応じてコレクションを使い分ける\n",
    "- ```list(コレクション変数)```: コレクションをリストにする\n",
    "- ```tuple(コレクション変数)```:  コレクションをタプルにする\n",
    "- ```set(コレクション変数)```: コレクションをセットにする"
   ],
   "metadata": {
    "collapsed": false
   },
   "id": "c367cc6fa1c37a70"
  },
  {
   "cell_type": "code",
   "execution_count": 1,
   "outputs": [
    {
     "name": "stdout",
     "output_type": "stream",
     "text": [
      "('A', 'A', 'B', 'B', 'C', 'C')\n",
      "{'A', 'C', 'B'}\n",
      "['A', 'A', 'B', 'B', 'C', 'C']\n",
      "{'A', 'C', 'B'}\n",
      "['A', 'C', 'B']\n",
      "('A', 'C', 'B')\n"
     ]
    }
   ],
   "source": [
    "testList = ['A', 'A', 'B', 'B', 'C', 'C']\n",
    "print(tuple(testList)) # タプル化したものを表示する\n",
    "print(set(testList))   # セット化したものを表示する\n",
    "\n",
    "testTuple = ('A', 'A', 'B', 'B', 'C', 'C')\n",
    "print(list(testList)) # リスト化したものを表示する\n",
    "print(set(testList))  # セット化したものを表示する\n",
    "\n",
    "testSet = {'A', 'B', 'C'}\n",
    "print(list(testSet))  # リスト化したものを表示する\n",
    "print(tuple(testSet)) # タプル化したものを表示する"
   ],
   "metadata": {
    "collapsed": false,
    "ExecuteTime": {
     "end_time": "2023-11-02T03:44:48.726493856Z",
     "start_time": "2023-11-02T03:44:48.723235679Z"
    }
   },
   "id": "436f423ff0a27667"
  },
  {
   "cell_type": "markdown",
   "source": [
    "### リスト同士の結合\n",
    "- ```+```を使うことでリスト同士をつなげたリストを作成することができる"
   ],
   "metadata": {
    "collapsed": false
   },
   "id": "4f97af219c18dbf1"
  },
  {
   "cell_type": "code",
   "execution_count": 7,
   "outputs": [
    {
     "name": "stdout",
     "output_type": "stream",
     "text": [
      "[1, 2, 3, 4, 5, 6]\n"
     ]
    }
   ],
   "source": [
    "list1 = [1, 2, 3]\n",
    "list2 = [4, 5, 6]\n",
    "print(list1 + list2)"
   ],
   "metadata": {
    "collapsed": false,
    "ExecuteTime": {
     "end_time": "2023-10-30T11:48:13.343801834Z",
     "start_time": "2023-10-30T11:48:13.338038617Z"
    }
   },
   "id": "5d60d8215ecc18a2"
  },
  {
   "cell_type": "markdown",
   "source": [
    "### 文字列\n",
    "- 文字列はインデックスを指定することで，インデックスに該当する文字を取得できる\n",
    "- スライス記法も使用することができるので，自由自在に文字列を操作できる"
   ],
   "metadata": {
    "collapsed": false
   },
   "id": "fe29a9f1003fd18b"
  },
  {
   "cell_type": "code",
   "execution_count": 8,
   "outputs": [
    {
     "name": "stdout",
     "output_type": "stream",
     "text": [
      "s\n",
      "a\n",
      "p\n",
      "p\n",
      "sappor\n",
      "sapp\n",
      "ro\n",
      "oroppas\n"
     ]
    }
   ],
   "source": [
    "name = 'sapporo'\n",
    "print(name[0])\n",
    "print(name[1])\n",
    "print(name[2])\n",
    "print(name[3])\n",
    "print(name[0:6])\n",
    "print(name[:4])\n",
    "print(name[5:])\n",
    "print(name[::-1])"
   ],
   "metadata": {
    "collapsed": false,
    "ExecuteTime": {
     "end_time": "2023-10-30T11:48:14.791807247Z",
     "start_time": "2023-10-30T11:48:14.786310993Z"
    }
   },
   "id": "118fc84e79f0ecdc"
  },
  {
   "cell_type": "markdown",
   "source": [
    "### 文字列を区切り文字列で分割\n",
    "- ```文字列.split(区切り文字列)```で，文字列を分割した値をリストに格納する"
   ],
   "metadata": {
    "collapsed": false
   },
   "id": "780dbe1b5c2becff"
  },
  {
   "cell_type": "code",
   "execution_count": 9,
   "outputs": [
    {
     "name": "stdout",
     "output_type": "stream",
     "text": [
      "['I', 'have', 'a', 'pen']\n",
      "['One', 'Two', 'Three']\n",
      "['Four', 'Five', 'Six', 'Seven']\n"
     ]
    }
   ],
   "source": [
    "sentence = 'I have a pen'\n",
    "print(sentence.split()) # 空白文字（半角スペース）で分割\n",
    "\n",
    "sentence = 'One,Two,Three'\n",
    "print(sentence.split(',')) # コンマで分割\n",
    "\n",
    "sentence = 'Four, Five, Six, Seven'\n",
    "print(sentence.split(', ')) # コンマ + 半角スペースで分割"
   ],
   "metadata": {
    "collapsed": false,
    "ExecuteTime": {
     "end_time": "2023-10-30T11:48:16.548940344Z",
     "start_time": "2023-10-30T11:48:16.546331188Z"
    }
   },
   "id": "3ab8e6e77d8cb34b"
  },
  {
   "cell_type": "code",
   "execution_count": 10,
   "outputs": [
    {
     "name": "stdout",
     "output_type": "stream",
     "text": [
      "入力値の合計値: 5\n"
     ]
    }
   ],
   "source": [
    "### サンプルプログラム\n",
    "input_sentence = input('整数を半角スペース区切りで入力してください').split()\n",
    "# 入力例: 1 2 3 4 5 -10\n",
    "sum = 0\n",
    "for i in input_sentence:\n",
    "    sum += int(i) # 入力された値は文字列なため，整数にキャストする\n",
    "\n",
    "print('入力値の合計値:', sum)\n",
    "# 入力を 1 2 3 4 5 -10 とした場合，5が出力される"
   ],
   "metadata": {
    "collapsed": false,
    "ExecuteTime": {
     "end_time": "2023-10-30T11:48:26.605783109Z",
     "start_time": "2023-10-30T11:48:19.011419255Z"
    }
   },
   "id": "156c79a6e6469681"
  },
  {
   "cell_type": "markdown",
   "source": [
    "### リストに値があるかどうかを存在しているかを調べる\n",
    "- ```値 in リスト変数名```で，リストに存在しているかどうかがわかる\n",
    "  - リストに存在している場合: ```True```\n",
    "  - リストに存在していない場合: ```False```\n",
    "- タプルの場合も同様に，```値 in タプル変数名``` で存在しているかどうかわかる\n",
    "- セットの場合も同様に，```値 in セット変数名``` で存在しているかどうかわかる"
   ],
   "metadata": {
    "collapsed": false
   },
   "id": "ce8473711798857c"
  },
  {
   "cell_type": "code",
   "execution_count": 11,
   "outputs": [
    {
     "name": "stdout",
     "output_type": "stream",
     "text": [
      "スコアAAがあります\n",
      "スコアAAがありません\n",
      "スコアAAがありません\n"
     ]
    }
   ],
   "source": [
    "score = ['C', 'B', 'AA', 'A']\n",
    "if 'AA' in score:\n",
    "    print('スコアAAがあります')\n",
    "else:\n",
    "    print('スコアAAがありません')\n",
    "\n",
    "score = ('C', 'B', 'D', 'A')\n",
    "if 'AA' in score:\n",
    "    print('スコアAAがあります')\n",
    "else:\n",
    "    print('スコアAAがありません')\n",
    "\n",
    "score = {'C', 'B', 'D', 'A'}\n",
    "if 'AA' in score:\n",
    "    print('スコアAAがあります')\n",
    "else:\n",
    "    print('スコアAAがありません')"
   ],
   "metadata": {
    "collapsed": false,
    "ExecuteTime": {
     "end_time": "2023-10-30T11:48:29.741860437Z",
     "start_time": "2023-10-30T11:48:29.738850877Z"
    }
   },
   "id": "7f97005d525da114"
  },
  {
   "cell_type": "markdown",
   "source": [
    "### ディクショナリに値があるかどうかを存在しているかを調べる\n",
    "- ```キー値 in ディクショナリ変数名```で，ディクショナリに存在しているかどうかがわかる\n",
    "  - ディクショナリに存在している場合: ```True```\n",
    "  - ディクショナリに存在していない場合: ```False```"
   ],
   "metadata": {
    "collapsed": false
   },
   "id": "7a841c56ba12d30f"
  },
  {
   "cell_type": "code",
   "execution_count": 12,
   "outputs": [
    {
     "name": "stdout",
     "output_type": "stream",
     "text": [
      "札幌 の市外局番は 011\n"
     ]
    }
   ],
   "source": [
    "cityTelNum = {'札幌': '011', '千歳': '0123', '滝川': '0125', '岩見沢': '0126'}\n",
    "\n",
    "city = input('都市名を入力してください')\n",
    "if city in cityTelNum:\n",
    "    print(city, 'の市外局番は', cityTelNum[city])\n",
    "else:\n",
    "    print('見つかりませんでした')"
   ],
   "metadata": {
    "collapsed": false,
    "ExecuteTime": {
     "end_time": "2023-10-30T11:48:36.268983520Z",
     "start_time": "2023-10-30T11:48:31.770051973Z"
    }
   },
   "id": "a761e4ce6f21b395"
  },
  {
   "cell_type": "markdown",
   "source": [
    "### 応用例: リストの入れ子\n",
    "- リストの要素にリストを代入することができる"
   ],
   "metadata": {
    "collapsed": false
   },
   "id": "294ed711ef0c40ef"
  },
  {
   "cell_type": "code",
   "execution_count": 13,
   "outputs": [
    {
     "name": "stdout",
     "output_type": "stream",
     "text": [
      "0\n",
      "[1, 2, 3]\n",
      "4\n"
     ]
    }
   ],
   "source": [
    "sample = [0, [1, 2, 3], 4]\n",
    "print(sample[0])\n",
    "print(sample[1])\n",
    "print(sample[2])"
   ],
   "metadata": {
    "collapsed": false,
    "ExecuteTime": {
     "end_time": "2023-10-30T11:48:39.316190638Z",
     "start_time": "2023-10-30T11:48:39.310375379Z"
    }
   },
   "id": "540d6bb65e3e409"
  },
  {
   "cell_type": "markdown",
   "source": [
    "- リストの値にリストがある場合，2つ目のインデックスを指定することで，要素のリストの中身を参照できる"
   ],
   "metadata": {
    "collapsed": false
   },
   "id": "9a21d50e9f2a6ffe"
  },
  {
   "cell_type": "code",
   "execution_count": 14,
   "outputs": [
    {
     "name": "stdout",
     "output_type": "stream",
     "text": [
      "[1, 2, 3]\n",
      "1\n",
      "2\n",
      "3\n"
     ]
    }
   ],
   "source": [
    "sample = [0, [1, 2, 3], 4]\n",
    "print(sample[1])\n",
    "print(sample[1][0])\n",
    "print(sample[1][1])\n",
    "print(sample[1][2])"
   ],
   "metadata": {
    "collapsed": false,
    "ExecuteTime": {
     "end_time": "2023-10-30T11:48:45.511453067Z",
     "start_time": "2023-10-30T11:48:45.509093114Z"
    }
   },
   "id": "b60891b9a72bf48a"
  },
  {
   "cell_type": "markdown",
   "source": [
    "- 表形式のデータはリストの入れ子の考え方を使用することが多い\n",
    "  - 機械学習で扱うデータはこの考え方が基本となっている"
   ],
   "metadata": {
    "collapsed": false
   },
   "id": "7c14bac5b7fb7b7a"
  },
  {
   "cell_type": "code",
   "execution_count": 15,
   "outputs": [
    {
     "name": "stdout",
     "output_type": "stream",
     "text": [
      "[[1, 2, 3, 4, 5], [6, 7, 8, 9, 10], [11, 12, 13, 14, 15]]\n",
      "[1, 2, 3, 4, 5]\n",
      "[6, 7, 8, 9, 10]\n",
      "[11, 12, 13, 14, 15]\n",
      "1\n",
      "2\n",
      "3\n",
      "4\n",
      "5\n",
      "6\n",
      "7\n",
      "8\n",
      "9\n",
      "10\n",
      "11\n",
      "12\n",
      "13\n",
      "14\n",
      "15\n"
     ]
    }
   ],
   "source": [
    "sample = [[1, 2, 3, 4, 5], [6, 7, 8, 9, 10], [11, 12, 13, 14, 15]]\n",
    "print(sample)\n",
    "print(sample[0])\n",
    "print(sample[1])\n",
    "print(sample[2])\n",
    "print(sample[0][0])\n",
    "print(sample[0][1])\n",
    "print(sample[0][2])\n",
    "print(sample[0][3])\n",
    "print(sample[0][4])\n",
    "print(sample[1][0])\n",
    "print(sample[1][1])\n",
    "print(sample[1][2])\n",
    "print(sample[1][3])\n",
    "print(sample[1][4])\n",
    "print(sample[2][0])\n",
    "print(sample[2][1])\n",
    "print(sample[2][2])\n",
    "print(sample[2][3])\n",
    "print(sample[2][4])"
   ],
   "metadata": {
    "collapsed": false,
    "ExecuteTime": {
     "end_time": "2023-10-30T11:48:50.367306840Z",
     "start_time": "2023-10-30T11:48:50.359289500Z"
    }
   },
   "id": "4d835e7dd24ed505"
  },
  {
   "cell_type": "markdown",
   "source": [
    "- 上のプログラムは，以下の表のような感じでデータが保存されているイメージ\n",
    "\n",
    "1|2|3|4|5\n",
    "---|---|---|---|---\n",
    "6|7|8|9|10\n",
    "11|12|13|14|15"
   ],
   "metadata": {
    "collapsed": false
   },
   "id": "55301a4266afa702"
  },
  {
   "cell_type": "code",
   "execution_count": 16,
   "outputs": [
    {
     "name": "stdout",
     "output_type": "stream",
     "text": [
      "[[1, 2, 3, 4, 5], [6, 7, 8, 9, 10], [11, 12, 13, 14, 15]]\n",
      "[1, 2, 3, 4, 5]\n",
      "[6, 7, 8, 9, 10]\n",
      "[11, 12, 13, 14, 15]\n"
     ]
    }
   ],
   "source": [
    "# 見やすさを意識したプログラム\n",
    "sample = [[1, 2, 3, 4, 5], \n",
    "          [6, 7, 8, 9, 10], \n",
    "          [11, 12, 13, 14, 15]]\n",
    "\n",
    "print(sample)\n",
    "print(sample[0])\n",
    "print(sample[1])\n",
    "print(sample[2])"
   ],
   "metadata": {
    "collapsed": false,
    "ExecuteTime": {
     "end_time": "2023-10-30T11:48:54.808675742Z",
     "start_time": "2023-10-30T11:48:54.803792722Z"
    }
   },
   "id": "b6cbbb7b4b56e908"
  },
  {
   "cell_type": "markdown",
   "source": [
    "### サンプルプログラム1\n",
    "- 5×5の表に0を埋めるようなイメージを持つリストの入れ子構造\n",
    "\n",
    "0|0|0|0|0\n",
    "---|---|---|---|---\n",
    "0|0|0|0|0\n",
    "0|0|0|0|0\n",
    "0|0|0|0|0\n"
   ],
   "metadata": {
    "collapsed": false
   },
   "id": "2d7848ea48f3a5c2"
  },
  {
   "cell_type": "code",
   "execution_count": 17,
   "outputs": [
    {
     "name": "stdout",
     "output_type": "stream",
     "text": [
      "[[0, 0, 0, 0, 0], [0, 0, 0, 0, 0], [0, 0, 0, 0, 0], [0, 0, 0, 0, 0], [0, 0, 0, 0, 0]]\n",
      "[0, 0, 0, 0, 0]\n",
      "[0, 0, 0, 0, 0]\n",
      "[0, 0, 0, 0, 0]\n",
      "[0, 0, 0, 0, 0]\n",
      "[0, 0, 0, 0, 0]\n"
     ]
    }
   ],
   "source": [
    "# サンプルプログラム1\n",
    "sample = [] # 初期化\n",
    "for i in range(5):\n",
    "    temp = [] # 入れ子用で使うリスト\n",
    "    for j in range(5):\n",
    "        temp.append(0)\n",
    "    sample.append(temp)\n",
    "\n",
    "# リストの中身を表示\n",
    "print(sample)\n",
    "\n",
    "# リストの要素を1行ずつ表示\n",
    "for i in sample:\n",
    "    print(i)"
   ],
   "metadata": {
    "collapsed": false,
    "ExecuteTime": {
     "end_time": "2023-10-30T11:48:59.645464140Z",
     "start_time": "2023-10-30T11:48:59.635134625Z"
    }
   },
   "id": "9ccddafd33613b8b"
  },
  {
   "cell_type": "markdown",
   "source": [
    "### 演習1\n",
    "- 適切なコレクションを使って，以下のプログラムを作成してください\n",
    "  1. 1から1000までの整数の中で，「2の倍数を保存するコレクション」と「5の倍数を保存するコレクション」を作成してください\n",
    "  2. 1の結果から，1から1000までの整数の中で「10の倍数を保存するコレクション」を作成してください\n",
    "  3. 1と2の結果から，1から1000までの整数の中で，「2の倍数の整数の和」と「5の倍数の整数の和」と「10の倍数の整数の和」を求めてください"
   ],
   "metadata": {
    "collapsed": false
   },
   "id": "db43f91a44d48033"
  },
  {
   "cell_type": "markdown",
   "source": [
    "### 演習2\n",
    "- 9×9の表に掛け算の九九の結果を埋めるようなイメージを持つリストの入れ子構造を作成してくだい\n",
    "- インデックス[n]でアクセスするとn+1の段のリストを獲得することができる\n",
    "    - インデックス[0]でアクセスすると1の段のリストを獲得することができる\n",
    "    - インデックス[1]でアクセスすると2の段のリストを獲得することができる\n",
    "    - インデックス[2]でアクセスすると3の段のリストを獲得することができる\n",
    "- インデックス[n][m]でアクセスすると(n+1)(m+1)の結果を獲得することができる\n",
    "    - インデックス[0][0]でアクセスすると1*1の結果を獲得することができる\n",
    "    - インデックス[1][1]でアクセスすると2*2の結果を獲得することができる\n",
    "    - インデックス[2][2]でアクセスすると3*3の結果を獲得することができる"
   ],
   "metadata": {
    "collapsed": false
   },
   "id": "5dc98f0131fd279e"
  },
  {
   "cell_type": "code",
   "execution_count": null,
   "outputs": [],
   "source": [],
   "metadata": {
    "collapsed": false
   },
   "id": "32ff372c60b7296f"
  }
 ],
 "metadata": {
  "kernelspec": {
   "display_name": "Python 3",
   "language": "python",
   "name": "python3"
  },
  "language_info": {
   "codemirror_mode": {
    "name": "ipython",
    "version": 2
   },
   "file_extension": ".py",
   "mimetype": "text/x-python",
   "name": "python",
   "nbconvert_exporter": "python",
   "pygments_lexer": "ipython2",
   "version": "2.7.6"
  }
 },
 "nbformat": 4,
 "nbformat_minor": 5
}
