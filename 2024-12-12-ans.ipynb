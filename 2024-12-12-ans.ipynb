{
 "cells": [
  {
   "cell_type": "markdown",
   "source": [
    "### 演習問題（6問）\n",
    "\n",
    "1. 以下の表をDataFrameで格納しなさい\n",
    "- 面積の単位: km^2\n",
    "\n",
    "|   | 区名  | 男性人口 | 女性人口 | 面積 |\n",
    "|---|-----|------|------|--------------|\n",
    "| 0 | 北区  | 136796 | 152853 | 63.57        |\n",
    "| 1 | 東区  | 125766 | 139143 | 56.97        |\n",
    "| 2 | 中央区 | 114521 | 137522 | 46.42        |\n",
    "| 3 | 豊平区 | 104556 | 121721 | 46.23        |\n",
    "| 4 | 西区  | 100182 | 117271 | 75.1         |\n",
    "| 5 | 白石区 | 99844  | 111638 | 34.47        |\n",
    "| 6 | 手稲区 | 66755  | 75548  | 56.77        |\n",
    "| 7 | 南区  | 62208  | 72842  | 657.48       |\n",
    "| 8 | 厚別区 | 56078  | 67700  | 24.38        |\n",
    "| 9 | 清田区 | 52396  | 58762  | 59.87        |"
   ],
   "metadata": {
    "collapsed": false
   },
   "id": "a9e78d6ef8276526"
  },
  {
   "cell_type": "code",
   "source": [
    "import pandas as pd\n",
    "\n",
    "indexName = ['区名', '男性人口', '女性人口', '面積']\n",
    "data1 = ['北区', 136796, 152853, 63.57]\n",
    "data2 = ['東区', 125766, 139143, 56.97]\n",
    "data3 = ['中央区', 114521, 137522, 46.42]\n",
    "data4 = ['豊平区', 104556, 121721, 46.23]\n",
    "data5 = ['西区', 100182, 117271, 75.1]\n",
    "data6 = ['白石区', 99844, 111638, 34.47]\n",
    "data7 = ['手稲区', 66755, 75548, 56.77]\n",
    "data8 = ['南区', 62208, 72842, 657.48]\n",
    "data9 = ['厚別区', 56078, 67700, 24.38]\n",
    "data10 = ['清田区', 52396, 58762, 59.87]\n",
    "\n",
    "series1 = pd.Series(data1, index=indexName)\n",
    "series2 = pd.Series(data2, index=indexName)\n",
    "series3 = pd.Series(data3, index=indexName)\n",
    "series4 = pd.Series(data4, index=indexName)\n",
    "series5 = pd.Series(data5, index=indexName)\n",
    "series6 = pd.Series(data6, index=indexName)\n",
    "series7 = pd.Series(data7, index=indexName)\n",
    "series8 = pd.Series(data8, index=indexName)\n",
    "series9 = pd.Series(data9, index=indexName)\n",
    "series10 = pd.Series(data10, index=indexName)\n",
    "\n",
    "dataTable = pd.DataFrame([series1, series2, series3, series4, series5, series6, series7, series8, series9, series10])\n",
    "print(dataTable)"
   ],
   "metadata": {
    "collapsed": false,
    "ExecuteTime": {
     "end_time": "2024-12-30T04:32:46.377086Z",
     "start_time": "2024-12-30T04:32:46.140834Z"
    }
   },
   "id": "bd1d9515dcd7123b",
   "outputs": [
    {
     "name": "stdout",
     "output_type": "stream",
     "text": [
      "    区名    男性人口    女性人口      面積\n",
      "0   北区  136796  152853   63.57\n",
      "1   東区  125766  139143   56.97\n",
      "2  中央区  114521  137522   46.42\n",
      "3  豊平区  104556  121721   46.23\n",
      "4   西区  100182  117271   75.10\n",
      "5  白石区   99844  111638   34.47\n",
      "6  手稲区   66755   75548   56.77\n",
      "7   南区   62208   72842  657.48\n",
      "8  厚別区   56078   67700   24.38\n",
      "9  清田区   52396   58762   59.87\n"
     ]
    }
   ],
   "execution_count": 1
  },
  {
   "cell_type": "markdown",
   "source": [
    "2. 1で作成したDataFrameを使用して，総男性人口数，総女性人口数，総人口数を求めるプログラムを作成しなさい"
   ],
   "metadata": {
    "collapsed": false
   },
   "id": "3fe2948c10ebb011"
  },
  {
   "cell_type": "code",
   "source": [
    "# 問1の続きから\n",
    "maleP = 0   # 男性人口\n",
    "femaleP = 0 # 女性人口\n",
    "totalP = 0  # 総人口\n",
    "\n",
    "for i in range(10):\n",
    "    maleP += dataTable.at[i, '男性人口']\n",
    "    femaleP += dataTable.at[i, '女性人口']\n",
    "\n",
    "totalP = maleP + femaleP\n",
    "\n",
    "print('総男性人口数:', maleP)\n",
    "print('総女性人口数:', femaleP)\n",
    "print('総人口数:', totalP)"
   ],
   "metadata": {
    "collapsed": false,
    "ExecuteTime": {
     "end_time": "2024-12-30T04:32:48.089995Z",
     "start_time": "2024-12-30T04:32:48.085628Z"
    }
   },
   "id": "7e9dd1835eb8b93e",
   "outputs": [
    {
     "name": "stdout",
     "output_type": "stream",
     "text": [
      "総男性人口数: 919102\n",
      "総女性人口数: 1055000\n",
      "総人口数: 1974102\n"
     ]
    }
   ],
   "execution_count": 2
  },
  {
   "cell_type": "markdown",
   "source": [
    "3. 1で作成したDataFrameを使用して，男性人口数，女性人口数が10万人以上の区だけを格納するDataFrameを作成しなさい"
   ],
   "metadata": {
    "collapsed": false
   },
   "id": "817b9f3ae50859ec"
  },
  {
   "cell_type": "code",
   "source": [
    "# 問2の続きから\n",
    "table1 = dataTable.loc[dataTable['男性人口'] >= 100000]\n",
    "table1 = table1.loc[dataTable['女性人口'] >= 100000]\n",
    "print(table1)"
   ],
   "metadata": {
    "collapsed": false,
    "ExecuteTime": {
     "end_time": "2024-12-30T04:32:50.053455Z",
     "start_time": "2024-12-30T04:32:50.048047Z"
    }
   },
   "id": "447e6e267e764cac",
   "outputs": [
    {
     "name": "stdout",
     "output_type": "stream",
     "text": [
      "    区名    男性人口    女性人口     面積\n",
      "0   北区  136796  152853  63.57\n",
      "1   東区  125766  139143  56.97\n",
      "2  中央区  114521  137522  46.42\n",
      "3  豊平区  104556  121721  46.23\n",
      "4   西区  100182  117271  75.10\n"
     ]
    }
   ],
   "execution_count": 3
  },
  {
   "cell_type": "markdown",
   "source": [
    "4. 1で作成したDataFrameを使用して，以下のDataFrameを作成しなさい．\n",
    "\n",
    "|   | 区名  | 面積 |\n",
    "|---|-------|------------------|\n",
    "| 0 | 北区   | 63.57        |\n",
    "| 1 | 東区   | 56.97        |\n",
    "| 2 | 中央区 | 46.42        |\n",
    "| 3 | 豊平区 | 46.23        |\n",
    "| 4 | 西区  | 75.1         |\n",
    "| 5 | 白石区 | 34.47        |\n",
    "| 6 | 手稲区 | 56.77        |\n",
    "| 7 | 南区  | 657.48       |\n",
    "| 8 | 厚別区 | 24.38        |\n",
    "| 9 | 清田区 | 59.87        |"
   ],
   "metadata": {
    "collapsed": false
   },
   "id": "799533e518b59052"
  },
  {
   "cell_type": "code",
   "source": [
    "# 問3の続きから\n",
    "table2 = dataTable.drop(['男性人口', '女性人口'], axis=1)\n",
    "print(table2)"
   ],
   "metadata": {
    "collapsed": false,
    "ExecuteTime": {
     "end_time": "2024-12-30T04:32:52.439392Z",
     "start_time": "2024-12-30T04:32:52.434303Z"
    }
   },
   "id": "b60f144e01a0223a",
   "outputs": [
    {
     "name": "stdout",
     "output_type": "stream",
     "text": [
      "    区名      面積\n",
      "0   北区   63.57\n",
      "1   東区   56.97\n",
      "2  中央区   46.42\n",
      "3  豊平区   46.23\n",
      "4   西区   75.10\n",
      "5  白石区   34.47\n",
      "6  手稲区   56.77\n",
      "7   南区  657.48\n",
      "8  厚別区   24.38\n",
      "9  清田区   59.87\n"
     ]
    }
   ],
   "execution_count": 4
  },
  {
   "cell_type": "markdown",
   "source": [
    "5. 4で作成したDataFrameを使用して，面積を降順にソートしたDataFrameを作成しなさい．"
   ],
   "metadata": {
    "collapsed": false
   },
   "id": "a1974b09067cf9ac"
  },
  {
   "cell_type": "code",
   "source": [
    "# 問4の続きから\n",
    "areaTable= table2.sort_values(by='面積', ascending=False)\n",
    "print(areaTable)"
   ],
   "metadata": {
    "collapsed": false,
    "ExecuteTime": {
     "end_time": "2024-12-30T04:32:53.589213Z",
     "start_time": "2024-12-30T04:32:53.585052Z"
    }
   },
   "id": "d6c43063f973c8c7",
   "outputs": [
    {
     "name": "stdout",
     "output_type": "stream",
     "text": [
      "    区名      面積\n",
      "7   南区  657.48\n",
      "4   西区   75.10\n",
      "0   北区   63.57\n",
      "9  清田区   59.87\n",
      "1   東区   56.97\n",
      "6  手稲区   56.77\n",
      "2  中央区   46.42\n",
      "3  豊平区   46.23\n",
      "5  白石区   34.47\n",
      "8  厚別区   24.38\n"
     ]
    }
   ],
   "execution_count": 5
  },
  {
   "cell_type": "markdown",
   "source": [
    "6. 5で作成したDataFrameを使用して，札幌市面積全体に占める割合である『カラム名: 面積比』の列を追加し，面積比を埋めたDataFrameを作成しなさい．\n"
   ],
   "metadata": {
    "collapsed": false
   },
   "id": "33c8cc5b6c6c2d4b"
  },
  {
   "cell_type": "code",
   "source": [
    "# 問5の続きから\n",
    "totalArea = 0\n",
    "areaRatio = [0.0, 0.0, 0.0, 0.0, 0.0, 0.0, 0.0, 0.0, 0.0, 0.0]\n",
    "areaTable['面積比'] = areaRatio\n",
    "\n",
    "for i in range(10):\n",
    "    totalArea += areaTable.at[i, '面積']\n",
    "\n",
    "for i in range(10):\n",
    "    areaTable.at[i, '面積比'] = areaTable.at[i, '面積'] / totalArea\n",
    "\n",
    "print(areaTable)"
   ],
   "metadata": {
    "collapsed": false,
    "ExecuteTime": {
     "end_time": "2024-12-30T04:32:56.266067Z",
     "start_time": "2024-12-30T04:32:56.259492Z"
    }
   },
   "id": "6cdbee38aca5be4d",
   "outputs": [
    {
     "name": "stdout",
     "output_type": "stream",
     "text": [
      "    区名      面積       面積比\n",
      "7   南区  657.48  0.586376\n",
      "4   西区   75.10  0.066978\n",
      "0   北区   63.57  0.056695\n",
      "9  清田区   59.87  0.053395\n",
      "1   東区   56.97  0.050809\n",
      "6  手稲区   56.77  0.050631\n",
      "2  中央区   46.42  0.041400\n",
      "3  豊平区   46.23  0.041230\n",
      "5  白石区   34.47  0.030742\n",
      "8  厚別区   24.38  0.021743\n"
     ]
    }
   ],
   "execution_count": 6
  },
  {
   "cell_type": "raw",
   "source": [],
   "metadata": {
    "collapsed": false
   },
   "id": "a6de5887a9f87d23"
  },
  {
   "cell_type": "code",
   "outputs": [],
   "source": [],
   "metadata": {
    "collapsed": false
   },
   "id": "a0e9ce19267de1d",
   "execution_count": null
  }
 ],
 "metadata": {
  "kernelspec": {
   "display_name": "Python 3",
   "language": "python",
   "name": "python3"
  },
  "language_info": {
   "codemirror_mode": {
    "name": "ipython",
    "version": 2
   },
   "file_extension": ".py",
   "mimetype": "text/x-python",
   "name": "python",
   "nbconvert_exporter": "python",
   "pygments_lexer": "ipython2",
   "version": "2.7.6"
  }
 },
 "nbformat": 4,
 "nbformat_minor": 5
}
