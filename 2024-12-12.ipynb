{
 "cells": [
  {
   "cell_type": "markdown",
   "source": [
    "### Pandas\n",
    "- Numpy: 数値の集合を扱うライブラリ\n",
    "- Pandas: 数値だけではなく，文字列データも扱うことができる\n",
    "\n",
    "### Pandasの構造\n",
    "- SeriesとDataFrameの2種類の構造を扱える\n",
    "  - Series: リストのようなデータ構造\n",
    "  - DataFrame: テーブル（表形式）のようなデータ構造 \n",
    "\n",
    "### DataFrameの構造\n",
    "- 以下の名前で定義されている\n",
    "    - 横方向のデータを『行』\n",
    "        - 行のラベルを『インデックス』 \n",
    "    - 縦方向のデータを『列』\n",
    "        - 列のラベルを『カラム』 \n",
    "\n",
    "- 以下の表の場合\n",
    "\n",
    "|   | A   | B   | C   |\n",
    "|---|-----|-----|-----|\n",
    "| 0 | 123 | 456 | 789 |\n",
    "| 1 | AAA | XXX | XYZ |\n",
    "\n",
    "- インデックス: [0, 1]\n",
    "- カラム: ['A', 'B', 'C']\n",
    "\n",
    "- Pandasは『pd』としてインポートすることが多い\n",
    "  - 以降の説明ではpdとして扱う\n",
    "\n",
    "### Seriesデータの作成\n",
    "1. ディクショナリを用意\n",
    "2. pd.Series(ディクショナリデータ)"
   ],
   "metadata": {
    "collapsed": false
   },
   "id": "ca2092e9bdd48837"
  },
  {
   "cell_type": "code",
   "execution_count": 1,
   "outputs": [
    {
     "name": "stdout",
     "output_type": "stream",
     "text": [
      "Taro    78\n",
      "Jiro    98\n",
      "dtype: int64\n"
     ]
    }
   ],
   "source": [
    "# サンプル1 PandasによるSeriesの定義\n",
    "import pandas as pd\n",
    "\n",
    "# ディクショナリを定義\n",
    "scores = {'Taro': 78, 'Jiro': 98} # キー: 名前（文字列データ），値: 成績（数値）\n",
    "data = pd.Series(scores)\n",
    "\n",
    "print(data)"
   ],
   "metadata": {
    "collapsed": false,
    "ExecuteTime": {
     "end_time": "2023-12-05T13:00:08.993623Z",
     "start_time": "2023-12-05T13:00:07.865599Z"
    }
   },
   "id": "efdecaa4b0acc908"
  },
  {
   "cell_type": "markdown",
   "source": [
    "### DataFrameデータの作成\n",
    "1. ディクショナリを複数用意\n",
    "   - キーをカラム，値をリストにする\n",
    "      - リストのインデックスがDataFrameのインデックスに対応する \n",
    "2. pd.DataFrame(ディクショナリデータ)"
   ],
   "metadata": {
    "collapsed": false
   },
   "id": "c421674ee80776b9"
  },
  {
   "cell_type": "code",
   "execution_count": 2,
   "outputs": [
    {
     "name": "stdout",
     "output_type": "stream",
     "text": [
      "   Name  Score Grade\n",
      "0  Taro     78     B\n"
     ]
    }
   ],
   "source": [
    "# サンプル2 PandasによるDataFrameの定義\n",
    "import pandas as pd\n",
    "\n",
    "# ディクショナリを定義\n",
    "# キー: カラム，値: リストデータ\n",
    "table = {'Name': 'Taro',\n",
    "         'Score': 78,\n",
    "         'Grade': 'B'\n",
    "         }\n",
    "\n",
    "# 1つしかデータが無い場合，[]を付ける\n",
    "data = pd.DataFrame([table]) \n",
    "\n",
    "print(data)"
   ],
   "metadata": {
    "collapsed": false,
    "ExecuteTime": {
     "end_time": "2023-12-05T13:00:09.025096Z",
     "start_time": "2023-12-05T13:00:08.994647Z"
    }
   },
   "id": "21c9c69630fc0222"
  },
  {
   "cell_type": "code",
   "execution_count": 3,
   "outputs": [
    {
     "name": "stdout",
     "output_type": "stream",
     "text": [
      "   Name  Score Grade\n",
      "0  Taro     78     B\n",
      "1  Jiro     98    AA\n"
     ]
    }
   ],
   "source": [
    "# サンプル2 PandasによるDataFrameの定義\n",
    "import pandas as pd\n",
    "\n",
    "# ディクショナリを定義\n",
    "# キー: カラム，値: リストデータ\n",
    "table = {'Name': ['Taro', 'Jiro'],\n",
    "         'Score': [78, 98],\n",
    "         'Grade': ['B', 'AA']\n",
    "         }\n",
    "\n",
    "# 複数データの場合，[]を付けない\n",
    "data = pd.DataFrame(table)\n",
    "\n",
    "print(data)"
   ],
   "metadata": {
    "collapsed": false,
    "ExecuteTime": {
     "end_time": "2023-12-05T13:00:09.073496Z",
     "start_time": "2023-12-05T13:00:09.005508Z"
    }
   },
   "id": "8597960cb67d6db6"
  },
  {
   "cell_type": "markdown",
   "source": [
    "### Seriesデータの参照\n",
    "- インデックス（要素番号）で参照\n",
    "- スライスで参照\n",
    "- キーで参照\n",
    "- 複数キーで参照"
   ],
   "metadata": {
    "collapsed": false
   },
   "id": "5e988248137e261c"
  },
  {
   "cell_type": "code",
   "execution_count": 4,
   "outputs": [
    {
     "name": "stdout",
     "output_type": "stream",
     "text": [
      "Seriesの中身を表示\n",
      "Taro       78\n",
      "Jiro       98\n",
      "Saburo     60\n",
      "Shiro     100\n",
      "dtype: int64\n",
      ".ilocを使用して，インデックスで参照（値しか取り出せない）\n",
      "78\n",
      "100\n",
      ".ilocを使用して，スライスで参照（中身を取り出す）\n",
      "Taro      78\n",
      "Jiro      98\n",
      "Saburo    60\n",
      "dtype: int64\n",
      "Saburo     60\n",
      "Shiro     100\n",
      "dtype: int64\n",
      "キーで参照（値しか取り出せない）\n",
      "98\n",
      "複数キーで参照（中身を取り出す）\n",
      "Jiro      98\n",
      "Shiro    100\n",
      "dtype: int64\n"
     ]
    }
   ],
   "source": [
    "# サンプル3 PandasによるSeriesの参照\n",
    "import pandas as pd\n",
    "\n",
    "# ディクショナリを定義\n",
    "scores = {'Taro': 78, 'Jiro': 98, 'Saburo': 60, 'Shiro': 100}\n",
    "data = pd.Series(scores)\n",
    "\n",
    "print('Seriesの中身を表示')\n",
    "print(data)\n",
    "\n",
    "print('.ilocを使用して，インデックスで参照（値しか取り出せない）')\n",
    "print(data.iloc[0])\n",
    "print(data.iloc[-1])\n",
    "print('.ilocを使用して，スライスで参照（中身を取り出す）')\n",
    "print(data.iloc[0:3])\n",
    "print(data.iloc[2:])\n",
    "print('キーで参照（値しか取り出せない）')\n",
    "print(data['Jiro'])\n",
    "print('複数キーで参照（中身を取り出す）')\n",
    "print(data[['Jiro', 'Shiro']]) # 2重リストであることに注意"
   ],
   "metadata": {
    "collapsed": false,
    "ExecuteTime": {
     "end_time": "2023-12-05T13:00:09.344027Z",
     "start_time": "2023-12-05T13:00:09.326898Z"
    }
   },
   "id": "30dc124e4288e1f6"
  },
  {
   "cell_type": "code",
   "execution_count": 5,
   "outputs": [
    {
     "name": "stdout",
     "output_type": "stream",
     "text": [
      "Jiro      98\n",
      "Saburo    60\n",
      "dtype: int64\n"
     ]
    }
   ],
   "source": [
    "# サンプル4 Series参照を利用してデータを取り出す\n",
    "import pandas as pd\n",
    "\n",
    "# ディクショナリを定義\n",
    "scores = {'Taro': 78, 'Jiro': 98, 'Saburo': 60, 'Shiro': 100}\n",
    "data = pd.Series(scores)\n",
    "\n",
    "data2 = data[1:3]\n",
    "print(data2)"
   ],
   "metadata": {
    "collapsed": false,
    "ExecuteTime": {
     "end_time": "2023-12-05T13:00:09.523910Z",
     "start_time": "2023-12-05T13:00:09.397851Z"
    }
   },
   "id": "cc0d0e559196c535"
  },
  {
   "cell_type": "markdown",
   "source": [
    "- Series変数名.index\n",
    "  - インデックスを取得できる\n",
    "- Series変数名.values\n",
    "  - 値を取得できる "
   ],
   "metadata": {
    "collapsed": false
   },
   "id": "ecdbb2f5943f46c7"
  },
  {
   "cell_type": "code",
   "execution_count": 6,
   "outputs": [
    {
     "name": "stdout",
     "output_type": "stream",
     "text": [
      "Index(['Taro', 'Jiro', 'Saburo', 'Shiro'], dtype='object')\n",
      "[ 78  98  60 100]\n"
     ]
    }
   ],
   "source": [
    "# サンプル5 Seriesのインデックスと値を取り出す\n",
    "import pandas as pd\n",
    "\n",
    "# ディクショナリを定義\n",
    "scores = {'Taro': 78, 'Jiro': 98, 'Saburo': 60, 'Shiro': 100}\n",
    "data = pd.Series(scores)\n",
    "\n",
    "print(data.index)\n",
    "print(data.values)"
   ],
   "metadata": {
    "collapsed": false,
    "ExecuteTime": {
     "end_time": "2023-12-05T13:00:09.764863Z",
     "start_time": "2023-12-05T13:00:09.723392Z"
    }
   },
   "id": "e8c4751eb01d4f54"
  },
  {
   "cell_type": "markdown",
   "source": [
    "### Seriesに対する要素の追加・削除\n",
    "- Seriesに要素を追加する場合，追加する要素もSeriesとしなければならない\n",
    "  - Series変数名[‘インデックス名’] = 値 とする\n",
    "- Seriesから要素を削除する場合，Series変数名 = Series変数名.drop('インデックス名')とする\n",
    "  - 指定したインデックスが削除される "
   ],
   "metadata": {
    "collapsed": false
   },
   "id": "80b35b0bc6600200"
  },
  {
   "cell_type": "code",
   "execution_count": 7,
   "outputs": [
    {
     "name": "stdout",
     "output_type": "stream",
     "text": [
      "追加前\n",
      "Taro       78\n",
      "Jiro       98\n",
      "Saburo     60\n",
      "Shiro     100\n",
      "dtype: int64\n",
      "追加後\n",
      "Taro       78\n",
      "Jiro       98\n",
      "Saburo     60\n",
      "Shiro     100\n",
      "Goro       59\n",
      "dtype: int64\n",
      "削除後\n",
      "Jiro       98\n",
      "Saburo     60\n",
      "Shiro     100\n",
      "Goro       59\n",
      "dtype: int64\n"
     ]
    }
   ],
   "source": [
    "# サンプル5 Seriesの要素追加・削除\n",
    "import pandas as pd\n",
    "\n",
    "# ディクショナリを定義\n",
    "scores = {'Taro': 78, 'Jiro': 98, 'Saburo': 60, 'Shiro': 100}\n",
    "data = pd.Series(scores)\n",
    "print('追加前')\n",
    "print(data)\n",
    "\n",
    "# 追加する\n",
    "print('追加後')\n",
    "data['Goro'] = 59\n",
    "print(data)\n",
    "\n",
    "# 削除する\n",
    "print('削除後')\n",
    "data = data.drop('Taro')\n",
    "print(data)"
   ],
   "metadata": {
    "collapsed": false,
    "ExecuteTime": {
     "end_time": "2023-12-05T13:00:10.178596Z",
     "start_time": "2023-12-05T13:00:10.108314Z"
    }
   },
   "id": "90074851b7629577"
  },
  {
   "cell_type": "markdown",
   "source": [
    "### Seriesのフィルタリング\n",
    "- Seriesに格納されているデータに対して，条件を満たしている（True）要素だけを取り出すことができる\n",
    "   - Series変数名[条件式] と書くことで，条件を満たしている要素を取り出せる\n",
    "   - この場合の条件式では andを使えない場合，複数の条件を付けたい場合\n",
    "      - Series変数名[条件式1][条件式2] と書く"
   ],
   "metadata": {
    "collapsed": false
   },
   "id": "b9a00dd15ccfdf36"
  },
  {
   "cell_type": "code",
   "execution_count": 8,
   "outputs": [
    {
     "name": "stdout",
     "output_type": "stream",
     "text": [
      "Taro       78\n",
      "Jiro       98\n",
      "Saburo     60\n",
      "Shiro     100\n",
      "dtype: int64\n",
      "Saburo    60\n",
      "dtype: int64\n"
     ]
    }
   ],
   "source": [
    "# サンプル6 Seriesフィルタリング\n",
    "import pandas as pd\n",
    "\n",
    "# ディクショナリを定義\n",
    "scores = {'Taro': 78, 'Jiro': 98, 'Saburo': 60, 'Shiro': 100, 'Goro': 59, 'Rokuro': 30}\n",
    "data = pd.Series(scores)\n",
    "\n",
    "# 値が60以上のデータを取り出す\n",
    "print(data[data >= 60])\n",
    "\n",
    "# 値が60以上70未満のデータを取り出す\n",
    "print(data[data >= 60][data < 70])"
   ],
   "metadata": {
    "collapsed": false,
    "ExecuteTime": {
     "end_time": "2023-12-05T13:00:10.585954Z",
     "start_time": "2023-12-05T13:00:10.533112Z"
    }
   },
   "id": "238959ceab4be611"
  },
  {
   "cell_type": "markdown",
   "source": [
    "### Seiresのソート\n",
    "- 大きさ順にデータを並び替えることをソートとぶ\n",
    "  - 小さいものから大きいものに並び替えることを昇順ソートとよぶ\n",
    "  - 大きいものから小さいものに並び替えることを降順ソートとよぶ\n",
    "- インデックスのソート: series_sort_index()\n",
    "- 値のソート: series_sort_values()\n",
    "  - 基本的には昇順ソートであるが，括弧の中に ascending=False と書くことで降順ソートになる   "
   ],
   "metadata": {
    "collapsed": false
   },
   "id": "29e4b656ffc3a962"
  },
  {
   "cell_type": "code",
   "execution_count": 9,
   "outputs": [
    {
     "name": "stdout",
     "output_type": "stream",
     "text": [
      "Goro       59\n",
      "Jiro       98\n",
      "Rokuro     30\n",
      "Saburo     60\n",
      "Shiro     100\n",
      "Taro       78\n",
      "dtype: int64\n",
      "Taro       78\n",
      "Shiro     100\n",
      "Saburo     60\n",
      "Rokuro     30\n",
      "Jiro       98\n",
      "Goro       59\n",
      "dtype: int64\n",
      "Rokuro     30\n",
      "Goro       59\n",
      "Saburo     60\n",
      "Taro       78\n",
      "Jiro       98\n",
      "Shiro     100\n",
      "dtype: int64\n",
      "Shiro     100\n",
      "Jiro       98\n",
      "Taro       78\n",
      "Saburo     60\n",
      "Goro       59\n",
      "Rokuro     30\n",
      "dtype: int64\n"
     ]
    }
   ],
   "source": [
    "# サンプル6 Seriesソート\n",
    "import pandas as pd\n",
    "\n",
    "# ディクショナリを定義\n",
    "scores = {'Taro': 78, 'Jiro': 98, 'Saburo': 60, 'Shiro': 100, 'Goro': 59, 'Rokuro': 30}\n",
    "data = pd.Series(scores)\n",
    "\n",
    "result1 = data.sort_index()\n",
    "print(result1) # 昇順（文字列の場合）: A → Zに並び替え\n",
    "\n",
    "result2 = data.sort_index(ascending=False)\n",
    "print(result2) # 降順（文字列の場合）: Z → Aに並び替え\n",
    "\n",
    "result3 = data.sort_values()\n",
    "print(result3) # 昇順\n",
    "\n",
    "result4 = data.sort_values(ascending=False)\n",
    "print(result4) # 降順"
   ],
   "metadata": {
    "collapsed": false,
    "ExecuteTime": {
     "end_time": "2023-12-05T13:00:10.964161Z",
     "start_time": "2023-12-05T13:00:10.919078Z"
    }
   },
   "id": "2217b72db3571b42"
  },
  {
   "cell_type": "markdown",
   "source": [
    "### Seriesの作成（応用）\n",
    "- 2つのリストからもSeriesを作成できる\n",
    "   - リストの要素数は等しくする必要がある\n",
    "- pd.Series(値リスト変数, index=インデックスリスト変数)"
   ],
   "metadata": {
    "collapsed": false
   },
   "id": "44a2e328f4149607"
  },
  {
   "cell_type": "code",
   "execution_count": 10,
   "outputs": [
    {
     "name": "stdout",
     "output_type": "stream",
     "text": [
      "Taro      78\n",
      "Jiro      98\n",
      "Saburo    60\n",
      "dtype: int64\n"
     ]
    }
   ],
   "source": [
    "import pandas as pd\n",
    "\n",
    "name = ['Taro', 'Jiro', 'Saburo']\n",
    "score = [78, 98, 60]\n",
    "\n",
    "data = pd.Series(score, index=name)\n",
    "\n",
    "print(data)"
   ],
   "metadata": {
    "collapsed": false,
    "ExecuteTime": {
     "end_time": "2023-12-05T13:00:11.370852Z",
     "start_time": "2023-12-05T13:00:11.343336Z"
    }
   },
   "id": "e497c1b6d28e77ec"
  },
  {
   "cell_type": "markdown",
   "source": [
    "### DataFrameの作成（応用）\n",
    "- pd.DataFrame(Seriesリスト)で，DataFrameを作成できる．"
   ],
   "metadata": {
    "collapsed": false
   },
   "id": "a5598526a692f402"
  },
  {
   "cell_type": "code",
   "execution_count": 11,
   "outputs": [
    {
     "name": "stdout",
     "output_type": "stream",
     "text": [
      "     Name  Score Grade\n",
      "0    Taro     78     B\n",
      "1    Jiro     98    AA\n",
      "2  Saburo     60     C\n"
     ]
    }
   ],
   "source": [
    "import pandas as pd\n",
    "\n",
    "indexName = ['Name', 'Score', 'Grade']\n",
    "data1 = ['Taro', 78, 'B']\n",
    "data2 = ['Jiro', 98, 'AA']\n",
    "data3 = ['Saburo', 60, 'C']\n",
    "\n",
    "series1 = pd.Series(data1, index=indexName)\n",
    "series2 = pd.Series(data2, index=indexName)\n",
    "series3 = pd.Series(data3, index=indexName)\n",
    "\n",
    "dataTable = pd.DataFrame([series1, series2, series3])\n",
    "\n",
    "print(dataTable)"
   ],
   "metadata": {
    "collapsed": false,
    "ExecuteTime": {
     "end_time": "2023-12-05T13:00:11.877290Z",
     "start_time": "2023-12-05T13:00:11.821158Z"
    }
   },
   "id": "7fbd561009d62739"
  },
  {
   "cell_type": "markdown",
   "source": [
    "### DataFrameにおける行の追加\n",
    "- pd.concat([追加されたいDataFrame, 追加したいDataFrame], ignore_index=True)とすることで，行を追加することが出来る"
   ],
   "metadata": {
    "collapsed": false
   },
   "id": "a67c6ed1b5de9934"
  },
  {
   "cell_type": "code",
   "execution_count": 12,
   "outputs": [
    {
     "name": "stdout",
     "output_type": "stream",
     "text": [
      "     Name  Score Grade\n",
      "0    Taro     78     B\n",
      "1    Jiro     98    AA\n",
      "2  Saburo     60     C\n",
      "     Name  Score Grade\n",
      "0    Taro     78     B\n",
      "1    Jiro     98    AA\n",
      "2  Saburo     60     C\n",
      "3   Shiro    100    AA\n"
     ]
    }
   ],
   "source": [
    "import pandas as pd\n",
    "\n",
    "indexName = ['Name', 'Score', 'Grade']\n",
    "data1 = ['Taro', 78, 'B']\n",
    "data2 = ['Jiro', 98, 'AA']\n",
    "data3 = ['Saburo', 60, 'C']\n",
    "\n",
    "series1 = pd.Series(data1, index=indexName)\n",
    "series2 = pd.Series(data2, index=indexName)\n",
    "series3 = pd.Series(data3, index=indexName)\n",
    "\n",
    "dataTable = pd.DataFrame([series1, series2, series3])\n",
    "\n",
    "print(dataTable)\n",
    "\n",
    "newData = {'Name': 'Shiro', 'Score': 100, 'Grade': 'AA'}\n",
    "\n",
    "# 1データなので[]を付ける\n",
    "newTable = pd.DataFrame([newData])\n",
    "dataTable = pd.concat([dataTable, newTable], ignore_index=True)\n",
    "print(dataTable)"
   ],
   "metadata": {
    "collapsed": false,
    "ExecuteTime": {
     "end_time": "2023-12-05T13:00:12.333546Z",
     "start_time": "2023-12-05T13:00:12.293114Z"
    }
   },
   "id": "9b82da77ec36031b"
  },
  {
   "cell_type": "markdown",
   "source": [
    "### DataFrameにおける列の追加\n",
    "- DataFrame変数名['新しい列名'] = データリスト とすることで，新しい列を追加することができる"
   ],
   "metadata": {
    "collapsed": false
   },
   "id": "28622aef393de409"
  },
  {
   "cell_type": "code",
   "execution_count": 13,
   "outputs": [
    {
     "name": "stdout",
     "output_type": "stream",
     "text": [
      "     Name  Score Grade\n",
      "0    Taro     78     B\n",
      "1    Jiro     98    AA\n",
      "2  Saburo     60     C\n",
      "     Name  Score Grade  Data\n",
      "0    Taro     78     B  12/7\n",
      "1    Jiro     98    AA  12/7\n",
      "2  Saburo     60     C  12/7\n"
     ]
    }
   ],
   "source": [
    "import pandas as pd\n",
    "\n",
    "indexName = ['Name', 'Score', 'Grade']\n",
    "data1 = ['Taro', 78, 'B']\n",
    "data2 = ['Jiro', 98, 'AA']\n",
    "data3 = ['Saburo', 60, 'C']\n",
    "\n",
    "series1 = pd.Series(data1, index=indexName)\n",
    "series2 = pd.Series(data2, index=indexName)\n",
    "series3 = pd.Series(data3, index=indexName)\n",
    "\n",
    "dataTable = pd.DataFrame([series1, series2, series3])\n",
    "\n",
    "print(dataTable)\n",
    "\n",
    "dataTable['Data'] = ['12/7', '12/7', '12/7']\n",
    "print(dataTable)"
   ],
   "metadata": {
    "collapsed": false,
    "ExecuteTime": {
     "end_time": "2023-12-05T13:00:13.408113Z",
     "start_time": "2023-12-05T13:00:13.283831Z"
    }
   },
   "id": "feeb178e2d0ed8b8"
  },
  {
   "cell_type": "markdown",
   "source": [
    "### DataFrameの参照 (locを使用)\n",
    "- データフレーム変数.loc[インデックスのリスト，カラムのリスト]で該当する範囲のデータフレームを参照できる"
   ],
   "metadata": {
    "collapsed": false
   },
   "id": "85b41506f81d4dd8"
  },
  {
   "cell_type": "code",
   "execution_count": 14,
   "outputs": [
    {
     "name": "stdout",
     "output_type": "stream",
     "text": [
      "     Name  Score Grade  Data\n",
      "0    Taro     78     B  12/7\n",
      "1    Jiro     98    AA  12/7\n",
      "2  Saburo     60     C  12/7\n",
      "   Name\n",
      "0  Taro\n",
      "1  Jiro\n",
      "     Name Grade\n",
      "1    Jiro    AA\n",
      "2  Saburo     C\n"
     ]
    }
   ],
   "source": [
    "import pandas as pd\n",
    "\n",
    "indexName = ['Name', 'Score', 'Grade']\n",
    "data1 = ['Taro', 78, 'B']\n",
    "data2 = ['Jiro', 98, 'AA']\n",
    "data3 = ['Saburo', 60, 'C']\n",
    "\n",
    "series1 = pd.Series(data1, index=indexName)\n",
    "series2 = pd.Series(data2, index=indexName)\n",
    "series3 = pd.Series(data3, index=indexName)\n",
    "dataTable = pd.DataFrame([series1, series2, series3])\n",
    "dataTable['Data'] = ['12/7', '12/7', '12/7']\n",
    "print(dataTable)\n",
    "\n",
    "# インデックス0, 1のNameに該当するデータを取り出す\n",
    "selectData = dataTable.loc[[0, 1], ['Name']]\n",
    "print(selectData)\n",
    "\n",
    "# インデックス1, 2のNameとGradeに該当するデータを取り出す\n",
    "selectData = dataTable.loc[[1, 2], ['Name', 'Grade']]\n",
    "print(selectData)"
   ],
   "metadata": {
    "collapsed": false,
    "ExecuteTime": {
     "end_time": "2023-12-05T13:00:14.614302Z",
     "start_time": "2023-12-05T13:00:14.571529Z"
    }
   },
   "id": "762edff335f135a6"
  },
  {
   "cell_type": "markdown",
   "source": [
    "### DataFrameの参照 (ilocを使用)\n",
    "- DataFrame変数.iloc[行番号のリスト，列番号のリスト]で該当する範囲のDataFrameを参照できる\n",
    "  - 行も列も0から始めることができる\n",
    "  - スライスで指定することもできる"
   ],
   "metadata": {
    "collapsed": false
   },
   "id": "b6ff9788aa853be2"
  },
  {
   "cell_type": "code",
   "execution_count": 15,
   "outputs": [
    {
     "name": "stdout",
     "output_type": "stream",
     "text": [
      "     Name  Score Grade  Data\n",
      "0    Taro     78     B  12/7\n",
      "1    Jiro     98    AA  12/7\n",
      "2  Saburo     60     C  12/7\n",
      "   Name\n",
      "0  Taro\n",
      "1  Jiro\n",
      "   Score Grade\n",
      "1     98    AA\n",
      "2     60     C\n"
     ]
    }
   ],
   "source": [
    "import pandas as pd\n",
    "\n",
    "indexName = ['Name', 'Score', 'Grade']\n",
    "data1 = ['Taro', 78, 'B']\n",
    "data2 = ['Jiro', 98, 'AA']\n",
    "data3 = ['Saburo', 60, 'C']\n",
    "\n",
    "series1 = pd.Series(data1, index=indexName)\n",
    "series2 = pd.Series(data2, index=indexName)\n",
    "series3 = pd.Series(data3, index=indexName)\n",
    "dataTable = pd.DataFrame([series1, series2, series3])\n",
    "dataTable['Data'] = ['12/7', '12/7', '12/7']\n",
    "print(dataTable)\n",
    "\n",
    "# 0行目, 1行目の0列目に該当するデータを取り出す\n",
    "selectData = dataTable.iloc[[0, 1], [0]]\n",
    "print(selectData)\n",
    "\n",
    "# 1行目, 2行目と1列目，2列目に該当するデータを取り出す\n",
    "selectData = dataTable.iloc[[1, 2], [1,2]]\n",
    "print(selectData)"
   ],
   "metadata": {
    "collapsed": false,
    "ExecuteTime": {
     "end_time": "2023-12-05T13:00:15.867307Z",
     "start_time": "2023-12-05T13:00:15.815945Z"
    }
   },
   "id": "234e2c3c9a4f65de"
  },
  {
   "cell_type": "markdown",
   "source": [
    "### DataFrameの参照 (atを使用)\n",
    "- DataFrame変数.at[インデックス，カラム名]で値そのものを取り出すことができる\n",
    "- この方法を用いることで，その箇所に値を代入および更新できる"
   ],
   "metadata": {
    "collapsed": false
   },
   "id": "e0e971f61ee83019"
  },
  {
   "cell_type": "code",
   "execution_count": 16,
   "outputs": [
    {
     "name": "stdout",
     "output_type": "stream",
     "text": [
      "     Name  Score Grade\n",
      "0    Taro     78     B\n",
      "1    Jiro     98    AA\n",
      "2  Saburo     60     C\n",
      "3   Shiro    100    AA\n",
      "4    Goro     59     D\n",
      "Goro\n",
      "     Name  Score Grade\n",
      "0    Taro     78     B\n",
      "1    Jiro     98    AA\n",
      "2  Saburo     60     C\n",
      "3   Shiro    100    AA\n",
      "4  Rokuro     59     D\n",
      "     Name  Score Grade\n",
      "0    Taro     78     B\n",
      "1    Jiro     98    AA\n",
      "2  Saburo     60     C\n",
      "3   Shiro    100    AA\n",
      "4  Rokuro     89     A\n"
     ]
    }
   ],
   "source": [
    "import pandas as pd\n",
    "\n",
    "table = {'Name': ['Taro', 'Jiro', 'Saburo', 'Shiro', 'Goro'],\n",
    "         'Score': [78, 98, 60, 100, 59],\n",
    "         'Grade': ['B', 'AA', 'C', 'AA', 'D']\n",
    "         }\n",
    "\n",
    "data = pd.DataFrame(table)\n",
    "print(data)\n",
    "\n",
    "# インデックス4の'Name'の値そのものを取り出す\n",
    "print(data.at[4, 'Name'])\n",
    "\n",
    "# インデックス4の'Name'に'Rokuro'を代入する\n",
    "data.at[4, 'Name'] = 'Rokuro'\n",
    "print(data)\n",
    "\n",
    "# インデックス4の'Score'に30を加え，'Grade'も修正する\n",
    "data.at[4, 'Score'] += 30\n",
    "data.at[4, 'Grade'] = 'A'\n",
    "print(data)"
   ],
   "metadata": {
    "collapsed": false,
    "ExecuteTime": {
     "end_time": "2023-12-05T13:00:16.702485Z",
     "start_time": "2023-12-05T13:00:16.686048Z"
    }
   },
   "id": "ebe901ab0bd4af76"
  },
  {
   "cell_type": "markdown",
   "source": [
    "### DataFrameの削除\n",
    "- DataFrame変数.drop()にインデックスやカラムを指定することで，該当する箇所が削除されたDataFrameを生成できる\n",
    "- 列を削除する場合，axis=1を付ける"
   ],
   "metadata": {
    "collapsed": false
   },
   "id": "5efd6f22c80d2862"
  },
  {
   "cell_type": "code",
   "execution_count": 17,
   "outputs": [
    {
     "name": "stdout",
     "output_type": "stream",
     "text": [
      "     Name  Score Grade\n",
      "0    Taro     78     B\n",
      "1    Jiro     98    AA\n",
      "2  Saburo     60     C\n",
      "3   Shiro    100    AA\n",
      "4    Goro     59     D\n",
      "     Name  Score Grade\n",
      "0    Taro     78     B\n",
      "2  Saburo     60     C\n",
      "3   Shiro    100    AA\n",
      "4    Goro     59     D\n",
      "    Name  Score Grade\n",
      "0   Taro     78     B\n",
      "3  Shiro    100    AA\n",
      "4   Goro     59     D\n",
      "     Name Grade\n",
      "0    Taro     B\n",
      "1    Jiro    AA\n",
      "2  Saburo     C\n",
      "3   Shiro    AA\n",
      "4    Goro     D\n",
      "     Name\n",
      "0    Taro\n",
      "1    Jiro\n",
      "2  Saburo\n",
      "3   Shiro\n",
      "4    Goro\n"
     ]
    }
   ],
   "source": [
    "import pandas as pd\n",
    "\n",
    "table = {'Name': ['Taro', 'Jiro', 'Saburo', 'Shiro', 'Goro'],\n",
    "         'Score': [78, 98, 60, 100, 59],\n",
    "         'Grade': ['B', 'AA', 'C', 'AA', 'D']\n",
    "         }\n",
    "\n",
    "data = pd.DataFrame(table)\n",
    "print(data)\n",
    "\n",
    "# インデックス1を削除したDataFrameを生成\n",
    "difData1 = data.drop(1)\n",
    "print(difData1)\n",
    "\n",
    "# インデックス1, 2を削除したDataFrameを生成\n",
    "difData2 = data.drop([1, 2])\n",
    "print(difData2)\n",
    "\n",
    "# Scoreカラムを削除したDataFrameを生成\n",
    "difData3 = data.drop('Score', axis=1)\n",
    "print(difData3)\n",
    "\n",
    "# ScoreとGradeカラムを削除したDataFrameを生成\n",
    "difData4 = data.drop(['Score', 'Grade'], axis=1)\n",
    "print(difData4)"
   ],
   "metadata": {
    "collapsed": false,
    "ExecuteTime": {
     "end_time": "2023-12-05T13:00:17.621186Z",
     "start_time": "2023-12-05T13:00:17.550390Z"
    }
   },
   "id": "325c457a767e46e7"
  },
  {
   "cell_type": "markdown",
   "source": [
    "### DataFrameのソート\n",
    "- DataFrame変数.sort_values(by='カラム または カラムリスト', ascending=True)とすることで，そのカラムに対して昇順にソートされたDataFrameを作成できる\n",
    "- 降順にソートする場合，ascending=False とする"
   ],
   "metadata": {
    "collapsed": false
   },
   "id": "a716281440f92362"
  },
  {
   "cell_type": "code",
   "execution_count": 18,
   "outputs": [
    {
     "name": "stdout",
     "output_type": "stream",
     "text": [
      "     Name  Score Grade\n",
      "0    Taro     78     B\n",
      "1    Jiro     98    AA\n",
      "2  Saburo     60     C\n",
      "3   Shiro    100    AA\n",
      "4    Goro     59     D\n",
      "     Name  Score Grade\n",
      "4    Goro     59     D\n",
      "2  Saburo     60     C\n",
      "0    Taro     78     B\n",
      "1    Jiro     98    AA\n",
      "3   Shiro    100    AA\n",
      "     Name  Score Grade\n",
      "3   Shiro    100    AA\n",
      "1    Jiro     98    AA\n",
      "0    Taro     78     B\n",
      "2  Saburo     60     C\n",
      "4    Goro     59     D\n",
      "     Name  Score Grade\n",
      "1    Jiro     98    AA\n",
      "3   Shiro    100    AA\n",
      "0    Taro     78     B\n",
      "2  Saburo     60     C\n",
      "4    Goro     59     D\n"
     ]
    }
   ],
   "source": [
    "import pandas as pd\n",
    "\n",
    "table = {'Name': ['Taro', 'Jiro', 'Saburo', 'Shiro', 'Goro'],\n",
    "         'Score': [78, 98, 60, 100, 59],\n",
    "         'Grade': ['B', 'AA', 'C', 'AA', 'D']\n",
    "         }\n",
    "\n",
    "data = pd.DataFrame(table)\n",
    "print(data)\n",
    "\n",
    "# Scoreに対して，昇順にソートする\n",
    "data1 = data.sort_values(by='Score', ascending=True)\n",
    "print(data1)\n",
    "\n",
    "# Scoreに対して，降順にソートする\n",
    "data2 = data.sort_values(by='Score', ascending=False)\n",
    "print(data2)\n",
    "\n",
    "# 第一優先度をGrade，第二優先度をNameとして，昇順にソートする\n",
    "data3 = data.sort_values(by=['Grade', 'Name'], ascending=True)\n",
    "print(data3)"
   ],
   "metadata": {
    "collapsed": false,
    "ExecuteTime": {
     "end_time": "2023-12-05T13:00:18.738737Z",
     "start_time": "2023-12-05T13:00:18.688507Z"
    }
   },
   "id": "10394d0032259384"
  },
  {
   "cell_type": "markdown",
   "source": [
    "### DataFrameのフィルタリング\n",
    "- DataFrameもSeriesと同様にフィルタリングを行うことができる\n",
    "- DataFrame変数.loc[DataFrame変数['カラム']を含む条件式]とすることで，条件に一致する行を取り出したDataFrameを生成できる"
   ],
   "metadata": {
    "collapsed": false
   },
   "id": "554944043fe6f5e2"
  },
  {
   "cell_type": "code",
   "execution_count": 19,
   "outputs": [
    {
     "name": "stdout",
     "output_type": "stream",
     "text": [
      "     Name  Score Grade\n",
      "0    Taro     78     B\n",
      "1    Jiro     98    AA\n",
      "2  Saburo     60     C\n",
      "3   Shiro    100    AA\n",
      "4    Goro     59     D\n",
      "    Name  Score Grade\n",
      "1   Jiro     98    AA\n",
      "3  Shiro    100    AA\n",
      "     Name  Score Grade\n",
      "0    Taro     78     B\n",
      "1    Jiro     98    AA\n",
      "2  Saburo     60     C\n",
      "3   Shiro    100    AA\n"
     ]
    }
   ],
   "source": [
    "import pandas as pd\n",
    "\n",
    "table = {'Name': ['Taro', 'Jiro', 'Saburo', 'Shiro', 'Goro'],\n",
    "         'Score': [78, 98, 60, 100, 59],\n",
    "         'Grade': ['B', 'AA', 'C', 'AA', 'D']\n",
    "         }\n",
    "\n",
    "data = pd.DataFrame(table)\n",
    "print(data)\n",
    "\n",
    "# GradeがAAの行を取り出す\n",
    "data1 = data.loc[data['Grade'] == 'AA']\n",
    "print(data1)\n",
    "\n",
    "# Scoreが60以上の行を取り出す\n",
    "data2 = data.loc[data['Score'] >= 60]\n",
    "print(data2)"
   ],
   "metadata": {
    "collapsed": false,
    "ExecuteTime": {
     "end_time": "2023-12-05T13:00:19.946021Z",
     "start_time": "2023-12-05T13:00:19.881150Z"
    }
   },
   "id": "889042ce6fab8773"
  },
  {
   "cell_type": "markdown",
   "source": [
    "### 演習問題（6問）\n",
    "\n",
    "1. 以下の表をDataFrameで格納しなさい\n",
    "- 面積の単位: km^2\n",
    "\n",
    "|   | 区名  | 男性人口 | 女性人口 | 面積 |\n",
    "|---|-----|------|------|--------------|\n",
    "| 0 | 北区  | 136796 | 152853 | 63.57        |\n",
    "| 1 | 東区  | 125766 | 139143 | 56.97        |\n",
    "| 2 | 中央区 | 114521 | 137522 | 46.42        |\n",
    "| 3 | 豊平区 | 104556 | 121721 | 46.23        |\n",
    "| 4 | 西区  | 100182 | 117271 | 75.1         |\n",
    "| 5 | 白石区 | 99844  | 111638 | 34.47        |\n",
    "| 6 | 手稲区 | 66755  | 75548  | 56.77        |\n",
    "| 7 | 南区  | 62208  | 72842  | 657.48       |\n",
    "| 8 | 厚別区 | 56078  | 67700  | 24.38        |\n",
    "| 9 | 清田区 | 52396  | 58762  | 59.87        |\n",
    "\n",
    "2. 1で作成したDataFrameを使用して，総男性人口数，総女性人口数，総人口数を求めるプログラムを作成しなさい\n",
    "\n",
    "3. 1で作成したDataFrameを使用して，男性人口数，女性人口数が10万人以上の区だけを格納するDataFrameを作成しなさい\n",
    "\n",
    "4. 1で作成したDataFrameを使用して，以下のDataFrameを作成しなさい．\n",
    "\n",
    "|   | 区名  | 面積 |\n",
    "|---|-------|------------------|\n",
    "| 0 | 北区   | 63.57        |\n",
    "| 1 | 東区   | 56.97        |\n",
    "| 2 | 中央区 | 46.42        |\n",
    "| 3 | 豊平区 | 46.23        |\n",
    "| 4 | 西区  | 75.1         |\n",
    "| 5 | 白石区 | 34.47        |\n",
    "| 6 | 手稲区 | 56.77        |\n",
    "| 7 | 南区  | 657.48       |\n",
    "| 8 | 厚別区 | 24.38        |\n",
    "| 9 | 清田区 | 59.87        |\n",
    "\n",
    "5. 4で作成したDataFrameを使用して，面積を降順にソートしたDataFrameを作成しなさい．\n",
    "\n",
    "6. 5で作成したDataFrameを使用して，札幌市面積全体に占める割合である『カラム名: 面積比』の列を追加し，面積比を埋めたDataFrameを作成しなさい．"
   ],
   "metadata": {
    "collapsed": false
   },
   "id": "dce98376cb2af693"
  },
  {
   "cell_type": "code",
   "execution_count": null,
   "outputs": [],
   "source": [],
   "metadata": {
    "collapsed": false
   },
   "id": "6c11061e3155c751"
  }
 ],
 "metadata": {
  "kernelspec": {
   "display_name": "Python 3",
   "language": "python",
   "name": "python3"
  },
  "language_info": {
   "codemirror_mode": {
    "name": "ipython",
    "version": 2
   },
   "file_extension": ".py",
   "mimetype": "text/x-python",
   "name": "python",
   "nbconvert_exporter": "python",
   "pygments_lexer": "ipython2",
   "version": "2.7.6"
  }
 },
 "nbformat": 4,
 "nbformat_minor": 5
}
