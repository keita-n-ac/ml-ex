{
 "cells": [
  {
   "metadata": {},
   "cell_type": "markdown",
   "source": "1. 2つの整数を読み込んで，その和，差，積，商を出力するプログラムを作成しなさい．出力結果は以下を参考にすること．",
   "id": "ee748907a1a58a32"
  },
  {
   "metadata": {
    "ExecuteTime": {
     "end_time": "2024-11-05T02:08:38.624985Z",
     "start_time": "2024-11-05T02:08:33.365334Z"
    }
   },
   "cell_type": "code",
   "source": [
    "a = int(input('1つ目の整数を入力してください'))\n",
    "b = int(input('2つ目の整数を入力してください'))\n",
    "\n",
    "print(a, 'と', b, 'の和は', a + b)\n",
    "print(a, 'と', b, 'の差は', a - b)\n",
    "print(a, 'と', b, 'の積は', a * b)\n",
    "print(a, 'と', b, 'の商は', a / b)"
   ],
   "id": "db9b73080e535fc7",
   "outputs": [
    {
     "name": "stdout",
     "output_type": "stream",
     "text": [
      "9 と 3 の和は 12\n",
      "9 と 3 の差は 6\n",
      "9 と 3 の積は 27\n",
      "9 と 3 の商は 3.0\n"
     ]
    }
   ],
   "execution_count": 1
  },
  {
   "metadata": {},
   "cell_type": "markdown",
   "source": "2. 正の整数を入力し，接尾辞「-st」，「-nd」，「-rd」，「-th」をつけ，英語の序数として出力するプログラムを作成しなさい．",
   "id": "358a790611220dd3"
  },
  {
   "metadata": {
    "ExecuteTime": {
     "end_time": "2024-11-05T02:12:58.989145Z",
     "start_time": "2024-11-05T02:12:55.859572Z"
    }
   },
   "cell_type": "code",
   "source": [
    "num = int(input('正の整数を入力してください'))\n",
    "if num // 10 == 1:\n",
    "    print(num, 'th')\n",
    "elif num % 10 == 1:\n",
    "    print(num, 'st')\n",
    "elif num % 10 == 2:\n",
    "    print(num, 'nd')\n",
    "elif num % 10 == 3:\n",
    "    print(num, 'rd')\n",
    "else:\n",
    "    print(num, 'th')"
   ],
   "id": "b95727688fd94436",
   "outputs": [
    {
     "name": "stdout",
     "output_type": "stream",
     "text": [
      "233 rd\n"
     ]
    }
   ],
   "execution_count": 2
  },
  {
   "metadata": {},
   "cell_type": "markdown",
   "source": "3. 1から100までの整数を1つ入力して，その数が5で割り切れる または 5が含まれている場合 ```Yes``` を出力し，そうで無い場合は，```No``` を出力すること．ただし，1から100ではない整数が入力された場合は, ```Error``` を出力すること．",
   "id": "bd099cfb9f6031f1"
  },
  {
   "metadata": {
    "ExecuteTime": {
     "end_time": "2024-11-07T04:08:57.436221Z",
     "start_time": "2024-11-07T04:08:53.126437Z"
    }
   },
   "cell_type": "code",
   "source": [
    "num = int(input('整数を1つ入力してください'))\n",
    "\n",
    "if num < 1 or num > 100:\n",
    "    print('Error')\n",
    "elif num % 5 == 0 or num // 10 == 5:\n",
    "    print('Yes')\n",
    "else:\n",
    "    print('No')"
   ],
   "id": "f8d969145babd226",
   "outputs": [
    {
     "name": "stdout",
     "output_type": "stream",
     "text": [
      "Yes\n"
     ]
    }
   ],
   "execution_count": 2
  },
  {
   "metadata": {},
   "cell_type": "markdown",
   "source": "4. 1から100まで順番に数を1行ずつ出力していく．ただし，その数が3で割り切れる または 3が含まれている場合，数字の代わりに ```Foon``` を出力するプログラムを作成しなさい．",
   "id": "84ff1316a087765d"
  },
  {
   "metadata": {
    "ExecuteTime": {
     "end_time": "2024-11-07T04:08:50.660613Z",
     "start_time": "2024-11-07T04:08:50.658224Z"
    }
   },
   "cell_type": "code",
   "source": [
    "for i in range(1, 101):\n",
    "    if i % 3 == 0 or i // 10 == 3 or i % 10 == 3:\n",
    "        print('Foon')\n",
    "    else:\n",
    "        print(i)"
   ],
   "id": "e39828189c493ca9",
   "outputs": [
    {
     "name": "stdout",
     "output_type": "stream",
     "text": [
      "1\n",
      "2\n",
      "Foon\n",
      "4\n",
      "5\n",
      "Foon\n",
      "7\n",
      "8\n",
      "Foon\n",
      "10\n",
      "11\n",
      "Foon\n",
      "Foon\n",
      "14\n",
      "Foon\n",
      "16\n",
      "17\n",
      "Foon\n",
      "19\n",
      "20\n",
      "Foon\n",
      "22\n",
      "Foon\n",
      "Foon\n",
      "25\n",
      "26\n",
      "Foon\n",
      "28\n",
      "29\n",
      "Foon\n",
      "Foon\n",
      "Foon\n",
      "Foon\n",
      "Foon\n",
      "Foon\n",
      "Foon\n",
      "Foon\n",
      "Foon\n",
      "Foon\n",
      "40\n",
      "41\n",
      "Foon\n",
      "Foon\n",
      "44\n",
      "Foon\n",
      "46\n",
      "47\n",
      "Foon\n",
      "49\n",
      "50\n",
      "Foon\n",
      "52\n",
      "Foon\n",
      "Foon\n",
      "55\n",
      "56\n",
      "Foon\n",
      "58\n",
      "59\n",
      "Foon\n",
      "61\n",
      "62\n",
      "Foon\n",
      "64\n",
      "65\n",
      "Foon\n",
      "67\n",
      "68\n",
      "Foon\n",
      "70\n",
      "71\n",
      "Foon\n",
      "Foon\n",
      "74\n",
      "Foon\n",
      "76\n",
      "77\n",
      "Foon\n",
      "79\n",
      "80\n",
      "Foon\n",
      "82\n",
      "Foon\n",
      "Foon\n",
      "85\n",
      "86\n",
      "Foon\n",
      "88\n",
      "89\n",
      "Foon\n",
      "91\n",
      "92\n",
      "Foon\n",
      "94\n",
      "95\n",
      "Foon\n",
      "97\n",
      "98\n",
      "Foon\n",
      "100\n"
     ]
    }
   ],
   "execution_count": 1
  },
  {
   "metadata": {},
   "cell_type": "code",
   "outputs": [],
   "execution_count": null,
   "source": "",
   "id": "4d9ee31e4cac2cd0"
  }
 ],
 "metadata": {
  "kernelspec": {
   "display_name": "Python 3",
   "language": "python",
   "name": "python3"
  },
  "language_info": {
   "codemirror_mode": {
    "name": "ipython",
    "version": 2
   },
   "file_extension": ".py",
   "mimetype": "text/x-python",
   "name": "python",
   "nbconvert_exporter": "python",
   "pygments_lexer": "ipython2",
   "version": "2.7.6"
  }
 },
 "nbformat": 4,
 "nbformat_minor": 5
}
