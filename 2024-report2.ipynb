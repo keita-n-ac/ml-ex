{
 "cells": [
  {
   "cell_type": "markdown",
   "source": [
    "### 2024年 機械学習演習レポート 2回目 (締め切り: 2024/12/19)\n",
    "- 以下のプログラムを作成しなさい\n",
    "- 各問を満たすプログラムをwordに貼り付けて，提出すること\n",
    "####  問題1\n",
    "- ```データ [3, 5, 4, 4, 4, 6, 3, 4, 5, 6, 1, 5, 4, 4, 4, 1, 5, 5, 6, 3, 1, 2, 3, 6, 2, 3, 5, 2, 6, 5]```における，合計値，平均値，分散値，標準偏差値を求めなさい\n",
    "- ```標準偏差値は分散値の平方根```である\n",
    "\n",
    "#### 問題2\n",
    "- コレクションを適切に使用して，1から10000までの整数の中で，『2でも3でも5でも7でも11でも割り切れない数』のコレクションを作成しなさい\n",
    "\n",
    "#### 問題3\n",
    "- 以下の説明に従って，題意を満たすヒストグラムを作成しなさい\n",
    "- ```np.random.randint(a, b)``` を利用することで，一様なa以上，b未満の整数乱数を作成できる"
   ],
   "metadata": {
    "collapsed": false
   },
   "id": "890ec153dd7ef29c"
  },
  {
   "cell_type": "code",
   "source": [
    "# サンプルプログラム\n",
    "import numpy as np\n",
    "\n",
    "for i in range(10):\n",
    "    print(np.random.randint(1, 7))"
   ],
   "metadata": {
    "collapsed": false,
    "ExecuteTime": {
     "end_time": "2024-12-04T05:11:31.244745Z",
     "start_time": "2024-12-04T05:11:31.149161Z"
    }
   },
   "id": "497b62dcc8ca26c3",
   "outputs": [
    {
     "name": "stdout",
     "output_type": "stream",
     "text": [
      "1\n",
      "3\n",
      "6\n",
      "4\n",
      "3\n",
      "6\n",
      "6\n",
      "6\n",
      "5\n",
      "6\n"
     ]
    }
   ],
   "execution_count": 1
  },
  {
   "metadata": {},
   "cell_type": "markdown",
   "source": [
    "- これを利用して，0以上2未満の整数乱数を生成することで，コイン投げのシミュレーションプログラムを作成できる\n",
    "    - 『1』を表，『0』を裏として扱う\n",
    "- この考え方に基づいて，n回のコイン投げシミュレーションを行うことができる\n",
    "- そこで，100回のコイン投げシミュレーションを1000回行い，横軸を『1回のコイン投げで表が出た回数』，縦軸を『表が出た回数の登場数』となるようなヒストグラムを作成しなさい．"
   ],
   "id": "f985ef191b29c911"
  },
  {
   "metadata": {
    "ExecuteTime": {
     "end_time": "2024-12-04T08:46:00.709166Z",
     "start_time": "2024-12-04T08:46:00.706745Z"
    }
   },
   "cell_type": "code",
   "source": [
    "# ヒント（コメント文）\n",
    "\n",
    "# 表が出た回数を保存するコレクションを用意する\n",
    "\n",
    "# 二重ループで『100回のコイン投げシミュレーションを1000回行う』（以下，中身）\n",
    "# for文で1000回繰り返す（外側ループ）\n",
    "    # 各コイン投げで表が出た回数を保存する変数を初期化する\n",
    "    # for文で100回コイン投げを繰り返す（内側ループ）\n",
    "        # 1が出たら カウントを行う\n",
    "    # カウントした結果を，表が出た回数を保存するコレクションに追加する\n",
    "\n",
    "# 表が出た回数を保存するコレクションをヒストグラムで表示する\n"
   ],
   "id": "c5e7f414593cb592",
   "outputs": [],
   "execution_count": 1
  },
  {
   "metadata": {},
   "cell_type": "markdown",
   "source": [
    "#### 問題4\n",
    "- 以下の説明に従って，題意を満たす散布図を作成しなさい\n",
    "- ```np.random.rand()```を利用することで，0以上1未満の乱数を作成できる"
   ],
   "id": "b541f3c6c5078131"
  },
  {
   "metadata": {
    "ExecuteTime": {
     "end_time": "2024-12-04T05:15:42.455812Z",
     "start_time": "2024-12-04T05:15:42.450852Z"
    }
   },
   "cell_type": "code",
   "source": [
    "# サンプルプログラム4-1\n",
    "import numpy as np\n",
    "\n",
    "for i in range(10):\n",
    "    print(np.random.rand())"
   ],
   "id": "367d881457a3d4f4",
   "outputs": [
    {
     "name": "stdout",
     "output_type": "stream",
     "text": [
      "0.5069692998965715\n",
      "0.8848634235523094\n",
      "0.6908352458977551\n",
      "0.8891710835419904\n",
      "0.6873678657972455\n",
      "0.18092375135605243\n",
      "0.24904212077864818\n",
      "0.969015489426451\n",
      "0.852900093477966\n",
      "0.8877165010023281\n"
     ]
    }
   ],
   "execution_count": 4
  },
  {
   "metadata": {
    "ExecuteTime": {
     "end_time": "2024-12-04T05:15:48.972466Z",
     "start_time": "2024-12-04T05:15:48.969719Z"
    }
   },
   "cell_type": "code",
   "source": [
    "# サンプルプログラム4-2\n",
    "import numpy as np\n",
    "x = []\n",
    "for i in range(10):\n",
    "    x.append(np.random.rand())\n",
    "\n",
    "print(x)"
   ],
   "id": "56263d91255179d5",
   "outputs": [
    {
     "name": "stdout",
     "output_type": "stream",
     "text": [
      "[0.1897415270197128, 0.2540354293358106, 0.4369280240269797, 0.7845815166981954, 0.20968213212109232, 0.14740738765255434, 0.29169903661723096, 0.9510496171592526, 0.26372884930591844, 0.8511233472818825]\n"
     ]
    }
   ],
   "execution_count": 5
  },
  {
   "metadata": {},
   "cell_type": "markdown",
   "source": [
    "- Step1:\n",
    "  - サンプルプログラム4-2を参考にして，データ1（data1）に要素数10000個の乱数を追加することで作成しなさい，データ2（data2）もデータ1と同様に作成しなさい\n",
    "- Step2:\n",
    "  - 横軸をデータ1の値，縦軸をデータ2の値として散布図を作成する（ただし，データ2の値がデータ1の値よりも小さい場合とそうでない場合は区別できるように，マーカーと色を変えて表示すること）\n",
    "\n",
    "- ヒント: 12/5 演習6"
   ],
   "id": "a0048508eb0e1826"
  },
  {
   "metadata": {},
   "cell_type": "code",
   "outputs": [],
   "execution_count": null,
   "source": "",
   "id": "57f27f16e0b65d1c"
  }
 ],
 "metadata": {
  "kernelspec": {
   "display_name": "Python 3",
   "language": "python",
   "name": "python3"
  },
  "language_info": {
   "codemirror_mode": {
    "name": "ipython",
    "version": 2
   },
   "file_extension": ".py",
   "mimetype": "text/x-python",
   "name": "python",
   "nbconvert_exporter": "python",
   "pygments_lexer": "ipython2",
   "version": "2.7.6"
  }
 },
 "nbformat": 4,
 "nbformat_minor": 5
}
