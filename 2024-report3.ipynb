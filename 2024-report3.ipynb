{
 "cells": [
  {
   "cell_type": "markdown",
   "source": [
    "### 2023年 機械学習レポート 3回目 (締め切り: 2024/01/25)\n",
    "- 以下の問題に示すプログラムを作成しなさい（合計4問）\n",
    "- 各問を満たすプログラム・散布図をwordに貼り付けて，提出すること\n",
    "\n",
    "#### 問題1\n",
    "##### 以下の題意を満たすプログラムを作成しなさい\n",
    "- パラメータを以下のようにした塊分布の自作データを作成する\n",
    "    - シードを10，特徴量を2次元，目標を2つ（塊を2つ），データの標準偏差を1.0，データ数を500 で作成する\n",
    "- 1で作成したテストデータを20%になるように分割する（シードを10，学習データは80%とする）\n",
    "- サポートベクターマシンモデルを作成し， 訓練データを使用して，サポートベクターマシンモデルの学習を行う\n",
    "- 学習後のモデルに対して，特徴量テストデータを適用し，正答率を出力せよ\n",
    "\n",
    "#### 問題2\n",
    "##### 以下の題意を満たす散布図を作成しなさい\n",
    "- 問題1のプログラムを利用して，塊分布の自作データの標準偏差を1.0，2.0，3.0，･･･，20.0とした場合におけるそれぞれの正答率を求め，横軸を標準偏差，縦軸を正答率とした散布図を作成せよ\n",
    "    - 問題1のプログラムを変更する箇所は塊分布の自作データの標準偏差だけで問題ない\n",
    "    - 正答率をプログラムで求めて，紙にメモして，matplotlibで作成しても問題ない\n",
    "        - 紙にメモした値を使用して，excelで作成しても問題ない\n",
    "    \n",
    "#### 問題3\n",
    "##### 以下の題意を満たすプログラムを作成しなさい\n",
    "- パラメータを以下のようにした線形回帰の自作データを作成する\n",
    "    - シードを5，特徴量1つ，ノイズの度合いを10，データ数を100で作成する\n",
    "- 1で作成したテストデータを20%になるように分割する（シードを5，学習データは80%とする）\n",
    "- 線形回帰モデルを作成し，訓練データを使用して，線形回帰モデルの学習を行う\n",
    "- 学習後のモデルに対して，特徴量テストデータを適用し，平均二乗誤差の値を出力せよ\n",
    "\n",
    "#### 問題4\n",
    "##### 以下の題意を満たす散布図を作成しなさい\n",
    "- 問題3のプログラムを利用して，線形回帰の自作データのノイズの度合いを0.0，5.0，10.0，15.0，･･･，100.0とした場合におけるそれぞれの平均二乗誤差の値を求め，横軸をノイズの度合い，縦軸を平均二乗誤差とした散布図を作成せよ\n",
    "    - 問題3のプログラムを変更する箇所は線形回帰の自作データのノイズの度合いだけで問題ない\n",
    "    - 平均二乗誤差をプログラムで求めて，紙にメモして，matplotlibで作成しても問題ない\n",
    "        - 紙にメモした値を使用して，excelで作成しても問題ない"
   ],
   "metadata": {
    "collapsed": false
   },
   "id": "dd1c00adc60bc002"
  },
  {
   "cell_type": "code",
   "source": [
    "try:\n",
    "    num = int(input())\n",
    "except ValueError:\n",
    "    print(\"Error\")\n",
    "    exit()\n",
    "\n",
    "if num < 1 or num > 100:\n",
    "    print(\"Eroor\")\n",
    "elif num % 5 == 0 or \"5\" in str(num):\n",
    "    print(\"Yes\")\n",
    "else:\n",
    "    print(\"No\")\n"
   ],
   "metadata": {
    "collapsed": false,
    "ExecuteTime": {
     "end_time": "2024-12-24T04:41:22.194761Z",
     "start_time": "2024-12-24T04:41:19.233018Z"
    }
   },
   "id": "c4f3d924cb50736d",
   "outputs": [
    {
     "name": "stdout",
     "output_type": "stream",
     "text": [
      "Yes\n"
     ]
    }
   ],
   "execution_count": 7
  },
  {
   "metadata": {
    "ExecuteTime": {
     "end_time": "2024-12-24T04:01:22.703721Z",
     "start_time": "2024-12-24T04:01:19.274302Z"
    }
   },
   "cell_type": "code",
   "source": [
    "a, b = map(int, input(\"2つの整数をスペース区切りで入力してください: \").split())\n",
    "\n",
    "\n",
    "sum_result = a + b\n",
    "difference_result = a - b\n",
    "product_result = a * b\n",
    "quotient_result = a / b if b != 0 else \"未定義\"\n",
    "\n",
    "\n",
    "print(f\"{a} と {b} の和は {sum_result} です\")\n",
    "print(f\"{a} と {b} の差は {difference_result} です\")\n",
    "print(f\"{a} と {b} の積は {product_result} です\")\n",
    "if isinstance(quotient_result, float):\n",
    "    print(f\"{a} と {b} の商は {quotient_result} です\")\n",
    "else:\n",
    "    print(f\"{a} と {b} の商は {quotient_result} です\")\n"
   ],
   "id": "68011f5a3f2bb58f",
   "outputs": [
    {
     "name": "stdout",
     "output_type": "stream",
     "text": [
      "4 と 0 の和は 4 です\n",
      "4 と 0 の差は 4 です\n",
      "4 と 0 の積は 0 です\n",
      "4 と 0 の商は 未定義 です\n"
     ]
    }
   ],
   "execution_count": 6
  },
  {
   "metadata": {},
   "cell_type": "code",
   "outputs": [],
   "execution_count": null,
   "source": "",
   "id": "bebba53c67717ac5"
  }
 ],
 "metadata": {
  "kernelspec": {
   "display_name": "Python 3",
   "language": "python",
   "name": "python3"
  },
  "language_info": {
   "codemirror_mode": {
    "name": "ipython",
    "version": 2
   },
   "file_extension": ".py",
   "mimetype": "text/x-python",
   "name": "python",
   "nbconvert_exporter": "python",
   "pygments_lexer": "ipython2",
   "version": "2.7.6"
  }
 },
 "nbformat": 4,
 "nbformat_minor": 5
}
