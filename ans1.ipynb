{
 "cells": [
  {
   "cell_type": "markdown",
   "id": "7249e2dbad9a30a3",
   "metadata": {},
   "source": [
    "### 演習1\n",
    "1. print()を使って，自分の名前を表示しなさい"
   ]
  },
  {
   "cell_type": "code",
   "id": "947be5427062ed8b",
   "metadata": {
    "ExecuteTime": {
     "end_time": "2024-10-09T04:45:09.963928Z",
     "start_time": "2024-10-09T04:45:09.961868Z"
    }
   },
   "source": "print('札幌 太郎')",
   "outputs": [
    {
     "name": "stdout",
     "output_type": "stream",
     "text": [
      "札幌 太郎\n"
     ]
    }
   ],
   "execution_count": 1
  },
  {
   "metadata": {},
   "cell_type": "markdown",
   "source": "2. print()を使って，Hello World と表示しなさい",
   "id": "f8b1e95698a8f207"
  },
  {
   "metadata": {
    "ExecuteTime": {
     "end_time": "2024-10-09T04:45:32.884053Z",
     "start_time": "2024-10-09T04:45:32.880324Z"
    }
   },
   "cell_type": "code",
   "source": "print('Hello World')",
   "id": "82ec41a10db10f7c",
   "outputs": [
    {
     "name": "stdout",
     "output_type": "stream",
     "text": [
      "Hello World\n"
     ]
    }
   ],
   "execution_count": 2
  },
  {
   "metadata": {},
   "cell_type": "markdown",
   "source": "3. print()を使って，2の10乗の値を表示しなさい",
   "id": "c21e07634869b1bf"
  },
  {
   "metadata": {
    "ExecuteTime": {
     "end_time": "2024-10-09T04:45:45.242699Z",
     "start_time": "2024-10-09T04:45:45.240094Z"
    }
   },
   "cell_type": "code",
   "source": "print(2 ** 10)",
   "id": "cf72dc1826b335be",
   "outputs": [
    {
     "name": "stdout",
     "output_type": "stream",
     "text": [
      "1024\n"
     ]
    }
   ],
   "execution_count": 3
  },
  {
   "metadata": {},
   "cell_type": "code",
   "outputs": [],
   "execution_count": null,
   "source": "",
   "id": "b7d4e5be35a4a90e"
  }
 ],
 "metadata": {
  "kernelspec": {
   "display_name": "Python 3 (ipykernel)",
   "language": "python",
   "name": "python3"
  },
  "language_info": {
   "codemirror_mode": {
    "name": "ipython",
    "version": 3
   },
   "file_extension": ".py",
   "mimetype": "text/x-python",
   "name": "python",
   "nbconvert_exporter": "python",
   "pygments_lexer": "ipython3",
   "version": "3.8.10"
  }
 },
 "nbformat": 4,
 "nbformat_minor": 5
}
