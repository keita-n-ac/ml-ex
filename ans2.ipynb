{
 "cells": [
  {
   "metadata": {},
   "cell_type": "markdown",
   "source": [
    "### 演習1\n",
    "1. print()を使って，200円の商品を3つ，30円の商品を6つ購入した際の，消費税を10%込みの値段を表示しなさい\n"
   ],
   "id": "da23e03db97fc69f"
  },
  {
   "metadata": {
    "ExecuteTime": {
     "end_time": "2024-10-15T12:48:08.818058Z",
     "start_time": "2024-10-15T12:48:08.814740Z"
    }
   },
   "cell_type": "code",
   "source": [
    "goukei = 200 * 3 + 30 * 6\n",
    "zeikomi = int(goukei * 1.1)\n",
    "print(zeikomi)"
   ],
   "id": "2810a9530897a37d",
   "outputs": [
    {
     "name": "stdout",
     "output_type": "stream",
     "text": [
      "858\n"
     ]
    }
   ],
   "execution_count": 1
  },
  {
   "metadata": {},
   "cell_type": "markdown",
   "source": "2. 1つの整数を読み込んで，その整数の３乗の値を出力するプログラムを作成せよ",
   "id": "5a2a63f81265acc8"
  },
  {
   "metadata": {
    "ExecuteTime": {
     "end_time": "2024-10-15T12:49:12.729677Z",
     "start_time": "2024-10-15T12:49:10.147229Z"
    }
   },
   "cell_type": "code",
   "source": [
    "num = int(input('整数を入力してください'))\n",
    "print(num, num ** 3)"
   ],
   "id": "94de4b8a15e8e545",
   "outputs": [
    {
     "name": "stdout",
     "output_type": "stream",
     "text": [
      "8 512\n"
     ]
    }
   ],
   "execution_count": 3
  },
  {
   "metadata": {},
   "cell_type": "markdown",
   "source": "3. 長方形の縦の長さと横の長さを読み込んで，その長方形の面積と周の長さを求めるプログラムを作成せよ",
   "id": "9ea78c6f92076d59"
  },
  {
   "metadata": {
    "ExecuteTime": {
     "end_time": "2024-10-15T12:50:55.529526Z",
     "start_time": "2024-10-15T12:50:51.700842Z"
    }
   },
   "cell_type": "code",
   "source": [
    "tate = int(input('縦の長さを入力してください'))\n",
    "yoko = int(input('横の長さを入力してください'))\n",
    "print('面積:', tate * yoko)\n",
    "print('周の長さ:', 2 * tate + 2 * yoko)"
   ],
   "id": "5a6d7a6cbf27d496",
   "outputs": [
    {
     "name": "stdout",
     "output_type": "stream",
     "text": [
      "面積: 30\n",
      "周の長さ: 22\n"
     ]
    }
   ],
   "execution_count": 4
  },
  {
   "metadata": {},
   "cell_type": "markdown",
   "source": "4. キーボードから名前を読み込んで，Hello, 名前! と出力するプログラム作成せよ",
   "id": "df91dd59f3c2cd30"
  },
  {
   "metadata": {
    "ExecuteTime": {
     "end_time": "2024-10-15T12:52:16.570798Z",
     "start_time": "2024-10-15T12:52:11.667201Z"
    }
   },
   "cell_type": "code",
   "source": [
    "name = input('名前を入力してください')\n",
    "print('Hello,', name, '!')"
   ],
   "id": "dc4a1bc37fb09fac",
   "outputs": [
    {
     "name": "stdout",
     "output_type": "stream",
     "text": [
      "Hello, Taro !\n"
     ]
    }
   ],
   "execution_count": 6
  },
  {
   "metadata": {},
   "cell_type": "markdown",
   "source": [
    "5. 秒単位の時間 S を読み込んで，「h:m:s」 の形式に変換して出力せよ\n",
    "  - 3600を読み込んだ場合， 1:0:0 と出力すること "
   ],
   "id": "40add2eb059bb140"
  },
  {
   "metadata": {
    "ExecuteTime": {
     "end_time": "2024-10-15T12:54:27.963189Z",
     "start_time": "2024-10-15T12:54:25.872439Z"
    }
   },
   "cell_type": "code",
   "source": [
    "S = int(input('秒数を入力してください'))\n",
    "h = S // 3600\n",
    "m = (S % 3600) // 60\n",
    "s = (S % 3600) % 60\n",
    "\n",
    "print(h, ':', m, ':', s)"
   ],
   "id": "156aa7fba29a59ab",
   "outputs": [
    {
     "name": "stdout",
     "output_type": "stream",
     "text": [
      "0 : 0 : 1\n"
     ]
    }
   ],
   "execution_count": 8
  },
  {
   "metadata": {},
   "cell_type": "code",
   "outputs": [],
   "execution_count": null,
   "source": "",
   "id": "e6fd405dd038b403"
  }
 ],
 "metadata": {
  "kernelspec": {
   "display_name": "Python 3 (ipykernel)",
   "language": "python",
   "name": "python3"
  },
  "language_info": {
   "codemirror_mode": {
    "name": "ipython",
    "version": 3
   },
   "file_extension": ".py",
   "mimetype": "text/x-python",
   "name": "python",
   "nbconvert_exporter": "python",
   "pygments_lexer": "ipython3",
   "version": "3.8.10"
  }
 },
 "nbformat": 4,
 "nbformat_minor": 5
}
