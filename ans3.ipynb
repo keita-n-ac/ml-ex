{
 "cells": [
  {
   "cell_type": "markdown",
   "id": "9f282fadb3186ade",
   "metadata": {},
   "source": [
    "### 演習1\n",
    "1. 整数を入力して，その値が「正の値」，「0」， 「負の値」かどうかを判定するプログラムを作成せよ\n",
    "    - 例1: 3を入力すると，「正の値」と出力\n",
    "    - 例2: 0を入力すると，「0」と出力\n",
    "    - 例3: -3を入力すると，「負の値」と出力"
   ]
  },
  {
   "cell_type": "code",
   "id": "f1c64e98899d39a6",
   "metadata": {
    "ExecuteTime": {
     "end_time": "2024-10-23T06:23:31.895571Z",
     "start_time": "2024-10-23T06:23:28.021327Z"
    }
   },
   "source": [
    "n = int(input('整数を1つ入力してください'))\n",
    "\n",
    "if n > 0:\n",
    "    print('正の値です')\n",
    "elif n == 0:\n",
    "    print('0')\n",
    "else:\n",
    "    print('負の値です')"
   ],
   "outputs": [
    {
     "name": "stdout",
     "output_type": "stream",
     "text": [
      "正の値です\n"
     ]
    }
   ],
   "execution_count": 1
  },
  {
   "cell_type": "markdown",
   "id": "451eaa2518da4018",
   "metadata": {},
   "source": [
    "2. 2つの整数（変数名a, b）を読み込んで，大小関係を出力するプログラムを作成せよ"
   ]
  },
  {
   "cell_type": "code",
   "id": "37297f437e2c4c79",
   "metadata": {
    "ExecuteTime": {
     "end_time": "2024-10-23T06:23:38.295775Z",
     "start_time": "2024-10-23T06:23:33.874086Z"
    }
   },
   "source": [
    "a = int(input('1つ目の整数を入力してください'))\n",
    "b = int(input('2つ目の整数を入力してください'))\n",
    "\n",
    "if a > b:\n",
    "    print('aはbよりも大きいです')\n",
    "elif a == b:\n",
    "    print('aとbは等しいです')\n",
    "else:\n",
    "    print('aはbより小さいです')"
   ],
   "outputs": [
    {
     "name": "stdout",
     "output_type": "stream",
     "text": [
      "aはbよりも大きいです\n"
     ]
    }
   ],
   "execution_count": 2
  },
  {
   "cell_type": "markdown",
   "id": "cd60214467299491",
   "metadata": {},
   "source": [
    "3. 3つの整数（変数名a, b, c）を読み込んで，「a < b < c」の条件を満たす場合には『Yes』を，満たさない場合には『No』を出力するプログラムを作成せよ"
   ]
  },
  {
   "cell_type": "code",
   "id": "b7ec56d2c23a400c",
   "metadata": {
    "ExecuteTime": {
     "end_time": "2024-10-23T06:23:46.897856Z",
     "start_time": "2024-10-23T06:23:41.397379Z"
    }
   },
   "source": [
    "a = int(input('1つ目の整数を入力してください'))\n",
    "b = int(input('2つ目の整数を入力してください'))\n",
    "c = int(input('3つ目の整数を入力してください'))\n",
    "\n",
    "if a < b and b < c:\n",
    "    print('Yes')\n",
    "else:\n",
    "    print('No')"
   ],
   "outputs": [
    {
     "name": "stdout",
     "output_type": "stream",
     "text": [
      "Yes\n"
     ]
    }
   ],
   "execution_count": 3
  },
  {
   "cell_type": "markdown",
   "id": "313b53e54da82392",
   "metadata": {},
   "source": [
    "### 演習2\n",
    "1. 3つの整数を読み込み，値を小さい順に並べて出力するプログラムを作成せよ\n",
    "  - ヒント: どのような場合でも，3回の比較で実現できます"
   ]
  },
  {
   "cell_type": "code",
   "id": "57eee77675a56f74",
   "metadata": {
    "ExecuteTime": {
     "end_time": "2024-10-23T06:23:55.883028Z",
     "start_time": "2024-10-23T06:23:49.200972Z"
    }
   },
   "source": [
    "a = int(input('1つ目の整数を入力してください'))\n",
    "b = int(input('2つ目の整数を入力してください'))\n",
    "c = int(input('3つ目の整数を入力してください'))\n",
    "\n",
    "# 3回比較し，大小関係が違う場合，値を交換する\n",
    "# a <= b <= c となるように並び替える\n",
    "if a > b:\n",
    "    a, b = b, a # aとbを交換\n",
    "if b > c:\n",
    "    b, c = c, b # bとcを交換\n",
    "if a > b:\n",
    "    a, b = b, a # aとbを交換\n",
    "\n",
    "print(a, b, c)"
   ],
   "outputs": [
    {
     "name": "stdout",
     "output_type": "stream",
     "text": [
      "4 9 13\n"
     ]
    }
   ],
   "execution_count": 4
  },
  {
   "cell_type": "markdown",
   "id": "a0ee0aae7c90d42a",
   "metadata": {},
   "source": [
    "2. 3つの正の整数を入力し，それぞれの長さを3辺とする三角形が直角三角形である場合には『Yes』を，違う場合には『No』を出力するプログラムを作成せよ\n",
    "  - ヒント: ピタゴラスの定理"
   ]
  },
  {
   "cell_type": "code",
   "id": "b8b5ebc1fc93a3da",
   "metadata": {
    "ExecuteTime": {
     "end_time": "2024-10-23T06:24:07.412577Z",
     "start_time": "2024-10-23T06:23:59.711861Z"
    }
   },
   "source": [
    "a = int(input('1つ目の整数を入力してください'))\n",
    "b = int(input('2つ目の整数を入力してください'))\n",
    "c = int(input('3つ目の整数を入力してください'))\n",
    "\n",
    "# 一番大きい値をcに保存されるように値を交換する\n",
    "if a > b:\n",
    "    a, b = b, a # aとbを交換\n",
    "if b > c:\n",
    "    b, c = c, b # bとcを交換\n",
    "    \n",
    "if c * c == a * a + b * b:\n",
    "    print('Yes')\n",
    "else:\n",
    "    print('No')"
   ],
   "outputs": [
    {
     "name": "stdout",
     "output_type": "stream",
     "text": [
      "Yes\n"
     ]
    }
   ],
   "execution_count": 5
  },
  {
   "cell_type": "markdown",
   "id": "828ff47202f8dec9",
   "metadata": {},
   "source": [
    "3. 点数（整数）を入力して，以下のように出力するプログラムを作成せよ\n",
    "  - 60~100の場合: Pass!\n",
    "  - 0~59の場合: Do not give up!\n",
    "  - それ以外の場合: Error\n",
    "    - 例: 負の値，100を越えた値の対応"
   ]
  },
  {
   "cell_type": "code",
   "id": "eba77f1cf4aee629",
   "metadata": {
    "ExecuteTime": {
     "end_time": "2024-10-23T06:24:13.059462Z",
     "start_time": "2024-10-23T06:24:10.061840Z"
    }
   },
   "source": [
    "score = int(input('点数を入力してください'))\n",
    "\n",
    "# 一番大きい値をcに保存されるように値を交換する\n",
    "if score >= 60 and score <= 100:\n",
    "    print('Pass!')\n",
    "elif score >= 0 and score <= 59:\n",
    "    print('Do not give up!')\n",
    "else:\n",
    "    print('Error')"
   ],
   "outputs": [
    {
     "name": "stdout",
     "output_type": "stream",
     "text": [
      "Pass!\n"
     ]
    }
   ],
   "execution_count": 6
  },
  {
   "cell_type": "markdown",
   "id": "f6bf7ec90119a23e",
   "metadata": {},
   "source": [
    "4. 西暦（整数）を入力して，その西暦がうるう年かどうかを判定するプログラムを作成せよ\n",
    " - 例1: 2000を入力すると「うるう年です」と出力\n",
    " - 例2: 2100を入力すると「うるう年ではない」と出力\n",
    "   - 『400で割り切れる年』，\"または\"，『4で割り切れて，\"かつ\"，100で割り切れない年」がうるう年となる"
   ]
  },
  {
   "cell_type": "code",
   "id": "2519cb8ae3224866",
   "metadata": {
    "ExecuteTime": {
     "end_time": "2024-10-23T06:24:18.972383Z",
     "start_time": "2024-10-23T06:24:16.326057Z"
    }
   },
   "source": [
    "year = int(input('西暦を整数で入力してください'))\n",
    "\n",
    "if year % 400 == 0 or (year % 4 == 0 and year % 100 != 0):\n",
    "    print('うるう年です')\n",
    "else:\n",
    "    print('うるう年ではない')"
   ],
   "outputs": [
    {
     "name": "stdout",
     "output_type": "stream",
     "text": [
      "うるう年ではない\n"
     ]
    }
   ],
   "execution_count": 7
  },
  {
   "metadata": {},
   "cell_type": "code",
   "outputs": [],
   "execution_count": null,
   "source": "",
   "id": "a3834ce075477909"
  }
 ],
 "metadata": {
  "kernelspec": {
   "display_name": "Python 3 (ipykernel)",
   "language": "python",
   "name": "python3"
  },
  "language_info": {
   "codemirror_mode": {
    "name": "ipython",
    "version": 3
   },
   "file_extension": ".py",
   "mimetype": "text/x-python",
   "name": "python",
   "nbconvert_exporter": "python",
   "pygments_lexer": "ipython3",
   "version": "3.8.10"
  }
 },
 "nbformat": 4,
 "nbformat_minor": 5
}
