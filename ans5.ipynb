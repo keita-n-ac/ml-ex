{
 "cells": [
  {
   "cell_type": "markdown",
   "id": "39f3f459525e1fb1",
   "metadata": {
    "collapsed": false,
    "jupyter": {
     "outputs_hidden": false
    }
   },
   "source": [
    "### 演習1\n",
    "1. 2重ループを利用して，以下の出力を行うプログラムを作成しなさい\n",
    "  - ヒント: 半角スペースをうまく利用する \n",
    "```\n",
    "0         \n",
    " 1        \n",
    "  2       \n",
    "   3      \n",
    "    4     \n",
    "     5    \n",
    "      6   \n",
    "       7  \n",
    "        8 \n",
    "         9\n",
    "```"
   ]
  },
  {
   "cell_type": "code",
   "id": "a74e2f9b0ea2dbd5",
   "metadata": {
    "collapsed": false,
    "jupyter": {
     "outputs_hidden": false
    },
    "ExecuteTime": {
     "end_time": "2024-11-02T06:43:37.622060Z",
     "start_time": "2024-11-02T06:43:37.619174Z"
    }
   },
   "source": [
    "for i in range(10):\n",
    "    for j in range(10):\n",
    "        if i == j:\n",
    "            print(i, end='')\n",
    "        else:\n",
    "            print(' ', end='')\n",
    "    print()"
   ],
   "outputs": [
    {
     "name": "stdout",
     "output_type": "stream",
     "text": [
      "0         \n",
      " 1        \n",
      "  2       \n",
      "   3      \n",
      "    4     \n",
      "     5    \n",
      "      6   \n",
      "       7  \n",
      "        8 \n",
      "         9\n"
     ]
    }
   ],
   "execution_count": 1
  },
  {
   "cell_type": "markdown",
   "id": "2b2c0cc0014d4fed",
   "metadata": {
    "collapsed": false,
    "jupyter": {
     "outputs_hidden": false
    }
   },
   "source": [
    "2. 段数を入力して，以下の入力した階段の出力を行うプログラムを作成しなさい（2重ループを利用すること）\n",
    "  - 段数が5のとき\n",
    "```\n",
    "*****\n",
    "****\n",
    "***\n",
    "**\n",
    "*\n",
    "```"
   ]
  },
  {
   "cell_type": "code",
   "id": "60c4a763fc60d69c",
   "metadata": {
    "collapsed": false,
    "jupyter": {
     "outputs_hidden": false
    },
    "ExecuteTime": {
     "end_time": "2024-11-02T06:43:41.161162Z",
     "start_time": "2024-11-02T06:43:37.820938Z"
    }
   },
   "source": [
    "n = int(input('段数を入力してください'))\n",
    "for i in range(n):\n",
    "    for j in range(n - i):\n",
    "        print('*', end='')\n",
    "    print()"
   ],
   "outputs": [
    {
     "name": "stdout",
     "output_type": "stream",
     "text": [
      "************\n",
      "***********\n",
      "**********\n",
      "*********\n",
      "********\n",
      "*******\n",
      "******\n",
      "*****\n",
      "****\n",
      "***\n",
      "**\n",
      "*\n"
     ]
    }
   ],
   "execution_count": 2
  },
  {
   "cell_type": "markdown",
   "id": "2d47bc5635f16829",
   "metadata": {
    "collapsed": false,
    "jupyter": {
     "outputs_hidden": false
    }
   },
   "source": [
    "### 演習2\n",
    "2. 2重ループを利用して，以下の出力を行うプログラムを作成しなさい\n",
    "  - ヒント: 余りをうまく利用する\n",
    "```\n",
    "0123456789\n",
    "1234567890\n",
    "2345678901\n",
    "3456789012\n",
    "4567890123\n",
    "5678901234\n",
    "6789012345\n",
    "7890123456\n",
    "8901234567\n",
    "9012345678\n",
    "```"
   ]
  },
  {
   "cell_type": "code",
   "id": "8eb9cf75d355f9fd",
   "metadata": {
    "collapsed": false,
    "jupyter": {
     "outputs_hidden": false
    },
    "ExecuteTime": {
     "end_time": "2024-11-02T06:43:43.279891Z",
     "start_time": "2024-11-02T06:43:43.277168Z"
    }
   },
   "source": [
    "for i in range(10):\n",
    "    for j in range(10):\n",
    "        print((i + j) % 10, end='')\n",
    "    print()"
   ],
   "outputs": [
    {
     "name": "stdout",
     "output_type": "stream",
     "text": [
      "0123456789\n",
      "1234567890\n",
      "2345678901\n",
      "3456789012\n",
      "4567890123\n",
      "5678901234\n",
      "6789012345\n",
      "7890123456\n",
      "8901234567\n",
      "9012345678\n"
     ]
    }
   ],
   "execution_count": 3
  },
  {
   "cell_type": "markdown",
   "id": "93a1ce288075f08d",
   "metadata": {
    "collapsed": false,
    "jupyter": {
     "outputs_hidden": false
    }
   },
   "source": [
    "2. 段数を入力して，以下の入力した階段の出力を行うプログラムを作成しなさい（2重ループを利用すること）\n",
    "  - 段数が5のとき \n",
    "```\n",
    "    *\n",
    "   ***\n",
    "  *****\n",
    " *******\n",
    "*********\n",
    "```"
   ]
  },
  {
   "cell_type": "code",
   "id": "b62f439fce917997",
   "metadata": {
    "collapsed": false,
    "jupyter": {
     "outputs_hidden": false
    },
    "ExecuteTime": {
     "end_time": "2024-11-02T06:43:49.321722Z",
     "start_time": "2024-11-02T06:43:45.414332Z"
    }
   },
   "source": [
    "n = int(input('段数を入力してください'))\n",
    "for i in range(n):\n",
    "    for j in range(n - i - 1):\n",
    "        print(' ', end='')\n",
    "    for k in range(2 * i + 1):\n",
    "        print('*', end='')\n",
    "    print()"
   ],
   "outputs": [
    {
     "name": "stdout",
     "output_type": "stream",
     "text": [
      "   *\n",
      "  ***\n",
      " *****\n",
      "*******\n"
     ]
    }
   ],
   "execution_count": 4
  },
  {
   "cell_type": "code",
   "execution_count": null,
   "id": "e0567c86e3c338e7",
   "metadata": {},
   "outputs": [],
   "source": []
  }
 ],
 "metadata": {
  "kernelspec": {
   "display_name": "Python 3 (ipykernel)",
   "language": "python",
   "name": "python3"
  },
  "language_info": {
   "codemirror_mode": {
    "name": "ipython",
    "version": 3
   },
   "file_extension": ".py",
   "mimetype": "text/x-python",
   "name": "python",
   "nbconvert_exporter": "python",
   "pygments_lexer": "ipython3",
   "version": "3.11.4"
  }
 },
 "nbformat": 4,
 "nbformat_minor": 5
}
