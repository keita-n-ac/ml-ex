{
 "cells": [
  {
   "cell_type": "markdown",
   "id": "65a395e1cea9c1aa",
   "metadata": {},
   "source": [
    "# プログラミング言語 Python\n",
    "- プログラムがシンプルで，読みやすさ・書きやすさを重視した設計\n",
    "- 様々なOSに対応 (Windows, macOS, Unix, Linuxなど)\n",
    "- 人工知能(AI)，ロボット，データサイエンスなど，幅広い開発分野で利用\n",
    "  - 機械学習で利用されている\n",
    "- 本講義が対象とするPythonのバージョンは3系\n",
    "\n",
    "### 簡単な数式を入力し実行することで，数式の計算結果が表示される\n",
    "- Pythonでは # 以降は説明コメントとなる\n",
    "  - プログラムとして扱われない\n",
    "- プログラムは半角英数字で書く（全角はコメントや文字を扱う場合にしか使用しない）\n",
    "  - アルファベットの大文字と小文字は違うものとして扱う\n",
    "    - abcとABCは別物として扱われる \n",
    "  - 一文字違うだけでプログラムは正常に動かない\n",
    "    - 半角スペースだけ無視される\n",
    "  - 全角スペースによるエラーが起きやすいので注意"
   ]
  },
  {
   "cell_type": "code",
   "id": "d905427200c2df2a",
   "metadata": {
    "ExecuteTime": {
     "end_time": "2024-10-09T04:42:27.134289Z",
     "start_time": "2024-10-09T04:42:27.130422Z"
    }
   },
   "source": [
    "4 + 3 # 足し算（加算）"
   ],
   "outputs": [
    {
     "data": {
      "text/plain": [
       "7"
      ]
     },
     "execution_count": 1,
     "metadata": {},
     "output_type": "execute_result"
    }
   ],
   "execution_count": 1
  },
  {
   "cell_type": "code",
   "id": "97cdd4df8ed620aa",
   "metadata": {
    "ExecuteTime": {
     "end_time": "2024-10-09T04:42:27.157947Z",
     "start_time": "2024-10-09T04:42:27.155677Z"
    }
   },
   "source": [
    "5 - 3 # 引き算（減算）"
   ],
   "outputs": [
    {
     "data": {
      "text/plain": [
       "2"
      ]
     },
     "execution_count": 2,
     "metadata": {},
     "output_type": "execute_result"
    }
   ],
   "execution_count": 2
  },
  {
   "cell_type": "code",
   "id": "9062a023d540d818",
   "metadata": {
    "ExecuteTime": {
     "end_time": "2024-10-09T04:42:27.231415Z",
     "start_time": "2024-10-09T04:42:27.229477Z"
    }
   },
   "source": [
    "7 * 2 # 掛け算（乗算）"
   ],
   "outputs": [
    {
     "data": {
      "text/plain": [
       "14"
      ]
     },
     "execution_count": 3,
     "metadata": {},
     "output_type": "execute_result"
    }
   ],
   "execution_count": 3
  },
  {
   "cell_type": "code",
   "id": "12f0d8534abbe9c8",
   "metadata": {
    "ExecuteTime": {
     "end_time": "2024-10-09T04:42:27.244444Z",
     "start_time": "2024-10-09T04:42:27.242399Z"
    }
   },
   "source": [
    "8 / 2 # 割り算（除算）\n",
    "# 整数同⼠の結果が⼩数になることに注意"
   ],
   "outputs": [
    {
     "data": {
      "text/plain": [
       "4.0"
      ]
     },
     "execution_count": 4,
     "metadata": {},
     "output_type": "execute_result"
    }
   ],
   "execution_count": 4
  },
  {
   "cell_type": "code",
   "id": "49b2041d97bb3678",
   "metadata": {
    "ExecuteTime": {
     "end_time": "2024-10-09T04:42:27.310839Z",
     "start_time": "2024-10-09T04:42:27.308500Z"
    }
   },
   "source": [
    "3 + 4.0 # 整数と⼩数の計算結果は⼩数となることに注意"
   ],
   "outputs": [
    {
     "data": {
      "text/plain": [
       "7.0"
      ]
     },
     "execution_count": 5,
     "metadata": {},
     "output_type": "execute_result"
    }
   ],
   "execution_count": 5
  },
  {
   "cell_type": "markdown",
   "id": "4a89d30e7dcb7b16",
   "metadata": {},
   "source": [
    "### 計算の順番は，数学の数式と同様\n",
    "- 丸括弧( ) → 乗除計算 → 加減計算の順序で行う\n",
    "- 計算順番さえ分かれば，対話モードを簡易電卓として使用可能\n",
    "  - 自由に試してみてください"
   ]
  },
  {
   "cell_type": "code",
   "id": "f7cd05498c4d6c43",
   "metadata": {
    "ExecuteTime": {
     "end_time": "2024-10-09T04:42:27.340960Z",
     "start_time": "2024-10-09T04:42:27.338951Z"
    }
   },
   "source": [
    "(3 + 4) / (2 + 3) # 7 / 5 = 1.4"
   ],
   "outputs": [
    {
     "data": {
      "text/plain": [
       "1.4"
      ]
     },
     "execution_count": 6,
     "metadata": {},
     "output_type": "execute_result"
    }
   ],
   "execution_count": 6
  },
  {
   "cell_type": "code",
   "id": "768e298fc2351f0b",
   "metadata": {
    "ExecuteTime": {
     "end_time": "2024-10-09T04:42:27.427225Z",
     "start_time": "2024-10-09T04:42:27.425195Z"
    }
   },
   "source": [
    "3 + 4 / 2 + 3 # 3 + 2.0 + 3 = 8.0"
   ],
   "outputs": [
    {
     "data": {
      "text/plain": [
       "8.0"
      ]
     },
     "execution_count": 7,
     "metadata": {},
     "output_type": "execute_result"
    }
   ],
   "execution_count": 7
  },
  {
   "cell_type": "markdown",
   "id": "71542bfd3d24cf3f",
   "metadata": {},
   "source": [
    "### 算術演算子\n",
    "- 計算（加算，減算，乗算，除算など）に関する演算子\n",
    "  - 演算子: 各種の演算（計算，比較，代入など）を表す記号\n",
    "\n",
    "| 演算子 | 意味           | 使用例    | 使用結果 | \n",
    "|---|--------------|--------|------| \n",
    "| + | 加算           | 6 + 4  | 10   | \n",
    "| - | 減算           | 6 - 4  | 2    | \n",
    "| * | 乗算           | 6 * 4  | 24   | \n",
    "| / | 除算           | 6 / 4  | 1.5  | \n",
    "| % | 剰余（余り）       | 6 % 4  | 2    | \n",
    "| ** | 累乗           | 6 ** 4 | 1296 | \n",
    "| // | 切り捨て除算（整数結果） | 6 // 4 | 1    | "
   ]
  },
  {
   "cell_type": "markdown",
   "id": "afb5563b814323a3",
   "metadata": {},
   "source": [
    "### Pythonで文字列を扱う場合\n",
    "- シングルクォーテーション ' か，ダブルクォーテーション \" を使用して，扱う文字列を囲む\n",
    "  - どちらの記号を使っても問題ないが，前後の囲む記号を統一すること"
   ]
  },
  {
   "cell_type": "code",
   "id": "e372756086d5521c",
   "metadata": {
    "ExecuteTime": {
     "end_time": "2024-10-09T04:42:27.675749Z",
     "start_time": "2024-10-09T04:42:27.673447Z"
    }
   },
   "source": [
    "'abc123' # ⽂字列の場合，シングルクォーテーションが両端に表⽰される"
   ],
   "outputs": [
    {
     "data": {
      "text/plain": [
       "'abc123'"
      ]
     },
     "execution_count": 8,
     "metadata": {},
     "output_type": "execute_result"
    }
   ],
   "execution_count": 8
  },
  {
   "cell_type": "code",
   "id": "7ce6aec23d5df31a",
   "metadata": {
    "ExecuteTime": {
     "end_time": "2024-10-09T04:42:27.788229Z",
     "start_time": "2024-10-09T04:42:27.786032Z"
    }
   },
   "source": [
    "\"abc123\" # ⽂字列の場合，シングルクォーテーションが両端に表⽰される"
   ],
   "outputs": [
    {
     "data": {
      "text/plain": [
       "'abc123'"
      ]
     },
     "execution_count": 9,
     "metadata": {},
     "output_type": "execute_result"
    }
   ],
   "execution_count": 9
  },
  {
   "cell_type": "markdown",
   "id": "414c4a704a15be92",
   "metadata": {},
   "source": [
    "- 文字列同士は，+演算子で繋げることができる\n",
    "- ⽂字列 * ⾃然数にした場合，文字列を繰り返して連結した文字列となる"
   ]
  },
  {
   "cell_type": "code",
   "id": "9c519e522e6a9d8a",
   "metadata": {
    "ExecuteTime": {
     "end_time": "2024-10-09T04:42:28.308662Z",
     "start_time": "2024-10-09T04:42:28.305973Z"
    }
   },
   "source": [
    "\"abc\" + \"xyz\""
   ],
   "outputs": [
    {
     "data": {
      "text/plain": [
       "'abcxyz'"
      ]
     },
     "execution_count": 10,
     "metadata": {},
     "output_type": "execute_result"
    }
   ],
   "execution_count": 10
  },
  {
   "cell_type": "code",
   "id": "3acc6d693d360082",
   "metadata": {
    "ExecuteTime": {
     "end_time": "2024-10-09T04:42:28.558684Z",
     "start_time": "2024-10-09T04:42:28.556247Z"
    }
   },
   "source": [
    "'a' * 4 # ⽂字列aを4回繰り返した⽂字列"
   ],
   "outputs": [
    {
     "data": {
      "text/plain": [
       "'aaaa'"
      ]
     },
     "execution_count": 11,
     "metadata": {},
     "output_type": "execute_result"
    }
   ],
   "execution_count": 11
  },
  {
   "cell_type": "code",
   "id": "aca37575e9c8319",
   "metadata": {
    "ExecuteTime": {
     "end_time": "2024-10-09T04:42:28.915068Z",
     "start_time": "2024-10-09T04:42:28.912456Z"
    }
   },
   "source": [
    "'abc' * 3 # ⽂字列abcを3回繰り返した⽂字列"
   ],
   "outputs": [
    {
     "data": {
      "text/plain": [
       "'abcabcabc'"
      ]
     },
     "execution_count": 12,
     "metadata": {},
     "output_type": "execute_result"
    }
   ],
   "execution_count": 12
  },
  {
   "cell_type": "code",
   "id": "c115efa73962cd2",
   "metadata": {
    "ExecuteTime": {
     "end_time": "2024-10-09T04:42:29.277061Z",
     "start_time": "2024-10-09T04:42:29.274186Z"
    }
   },
   "source": [
    "'123' * 2 # ⽂字列123を2回繰り返した⽂字列"
   ],
   "outputs": [
    {
     "data": {
      "text/plain": [
       "'123123'"
      ]
     },
     "execution_count": 13,
     "metadata": {},
     "output_type": "execute_result"
    }
   ],
   "execution_count": 13
  },
  {
   "cell_type": "code",
   "id": "b0c8d46b29528aca",
   "metadata": {
    "ExecuteTime": {
     "end_time": "2024-10-09T04:42:29.472044Z",
     "start_time": "2024-10-09T04:42:29.469864Z"
    }
   },
   "source": [
    "'a' * 8 + 'b' * 4\n",
    "# ⽂字列aを8回繰り返した⽂字列と⽂字列bを4回繰り返した⽂字列との連結\n",
    "# つまり，⽂字列'aaaaaaaa'と⽂字列'bbbb'を連結"
   ],
   "outputs": [
    {
     "data": {
      "text/plain": [
       "'aaaaaaaabbbb'"
      ]
     },
     "execution_count": 14,
     "metadata": {},
     "output_type": "execute_result"
    }
   ],
   "execution_count": 14
  },
  {
   "cell_type": "markdown",
   "id": "5331a4fb9705e82",
   "metadata": {},
   "source": [
    "### 標準出力\n",
    "- 数値，文字列，計算結果を標準出力（画面出力）するには，print()を使用する\n",
    "  - print(⽂字列)とした場合，シングルクォーテーションが付かないことに注意"
   ]
  },
  {
   "cell_type": "code",
   "id": "a1f81366574e7380",
   "metadata": {
    "ExecuteTime": {
     "end_time": "2024-10-09T04:42:30.009423Z",
     "start_time": "2024-10-09T04:42:30.006773Z"
    }
   },
   "source": [
    "# print()を使わない場合は最後の結果しか出力しない\n",
    "1 + 3\n",
    "2 - 4"
   ],
   "outputs": [
    {
     "data": {
      "text/plain": [
       "-2"
      ]
     },
     "execution_count": 15,
     "metadata": {},
     "output_type": "execute_result"
    }
   ],
   "execution_count": 15
  },
  {
   "cell_type": "code",
   "id": "4fd904bf72e7322",
   "metadata": {
    "ExecuteTime": {
     "end_time": "2024-10-09T04:42:30.194218Z",
     "start_time": "2024-10-09T04:42:30.192218Z"
    }
   },
   "source": [
    "# print()を使った場合は，print()を使用した行の結果を出力する\n",
    "print(1 + 3)\n",
    "print(2 - 4)"
   ],
   "outputs": [
    {
     "name": "stdout",
     "output_type": "stream",
     "text": [
      "4\n",
      "-2\n"
     ]
    }
   ],
   "execution_count": 16
  },
  {
   "cell_type": "code",
   "id": "af25dc41a2a632d4",
   "metadata": {
    "ExecuteTime": {
     "end_time": "2024-10-09T04:42:30.366823Z",
     "start_time": "2024-10-09T04:42:30.365084Z"
    }
   },
   "source": [
    "print(987)       # 数字の出⼒\n",
    "print(2 ** 6)    # 計算結果の出⼒\n",
    "print('qwerty')  # ⽂字列の出⼒（出力時にシングルクォーテーションが付かないことに注意）"
   ],
   "outputs": [
    {
     "name": "stdout",
     "output_type": "stream",
     "text": [
      "987\n",
      "64\n",
      "qwerty\n"
     ]
    }
   ],
   "execution_count": 17
  },
  {
   "cell_type": "markdown",
   "id": "63002b7b062f9955",
   "metadata": {},
   "source": [
    "### Pythonにおける基本的データ型\n",
    "- 以下の4つのデータの型を覚えましょう\n",
    "- 真偽値は選択処理，繰り返し処理で利用する\n",
    "  - 真偽値はTrueとFalseの2つしかない\n",
    "- type(値)でどのデータ型がわかる\n",
    "\n",
    "| データ型    | 意味  | 具体例 | \n",
    "|---------|-----|---| \n",
    "| int     | 整数  | 0, 12, -345, ･･･ | \n",
    "| float   | 小数  | 0.12, -2.34, -45.67, ･･･ | \n",
    "| str     | 文字列 | 'xyz', \"0123\", 'i4j5k6', ･･･ | \n",
    "| bool | 真偽値 | True, False | "
   ]
  },
  {
   "cell_type": "code",
   "id": "dadd3e16a62c67b6",
   "metadata": {
    "ExecuteTime": {
     "end_time": "2024-10-09T04:42:30.709751Z",
     "start_time": "2024-10-09T04:42:30.707752Z"
    }
   },
   "source": [
    "print(type(123456))\n",
    "print(type(123.456))\n",
    "print(type('123.456'))\n",
    "print(type(True))"
   ],
   "outputs": [
    {
     "name": "stdout",
     "output_type": "stream",
     "text": [
      "<class 'int'>\n",
      "<class 'float'>\n",
      "<class 'str'>\n",
      "<class 'bool'>\n"
     ]
    }
   ],
   "execution_count": 18
  },
  {
   "cell_type": "markdown",
   "id": "9c0a4528b1b4f129",
   "metadata": {},
   "source": [
    "### データ型とキャスト\n",
    "- キャスト: データ型を変換する\n",
    "  - 小数から整数に変換した場合，小数点以下の情報が消える\n",
    "\n",
    "| 方法    | 意味 | \n",
    "|---------|------| \n",
    "| float(整数)     | 整数から小数へ変換 |\n",
    "| float(文字列)     | 文字列から小数へ変換 |\n",
    "| str(整数)     | 整数から文字列へ変換 |\n",
    "| str(小数)     | 小数から文字列へ変換 |\n",
    "| int(文字列)     | 文字列から整数へ変換 |\n",
    "| int(小数)     | 小数から整数へ変換（小数点以下の情報が消える） |"
   ]
  },
  {
   "cell_type": "code",
   "id": "ba7375f125751b10",
   "metadata": {
    "ExecuteTime": {
     "end_time": "2024-10-09T04:42:31.073875Z",
     "start_time": "2024-10-09T04:42:31.071771Z"
    }
   },
   "source": [
    "print(float(10))   # 整数から⼩数にキャスト\n",
    "print(int(3.3))    # ⼩数から整数にキャスト\n",
    "print(str(666))    # 整数から⽂字列にキャスト\n",
    "print(int('1234')) # ⽂字列から整数にキャスト"
   ],
   "outputs": [
    {
     "name": "stdout",
     "output_type": "stream",
     "text": [
      "10.0\n",
      "3\n",
      "666\n",
      "1234\n"
     ]
    }
   ],
   "execution_count": 19
  },
  {
   "cell_type": "markdown",
   "id": "b4adb13461c34931",
   "metadata": {},
   "source": [
    "### 標準入力\n",
    "- キーボードから標準入力するには，input()を使用する\n",
    "  - 標準入力した値は文字列データとして扱われるため，数値として使用したい場合，適切にキャストを行う\n",
    "  - 数値と文字列の足し算はエラーになるので注意\n",
    "  - input('文字列')とすると，入力を促すメッセージを書くことができる"
   ]
  },
  {
   "cell_type": "code",
   "id": "1b51af7bfb9db03d",
   "metadata": {
    "ExecuteTime": {
     "end_time": "2024-10-09T04:42:39.855013Z",
     "start_time": "2024-10-09T04:42:31.615996Z"
    }
   },
   "source": [
    "print(input() + '456') # キーボードで⼊⼒した値は⽂字列\n",
    "# 123と入力してください\n",
    "# この場合は文字列同士の連結となる"
   ],
   "outputs": [
    {
     "name": "stdout",
     "output_type": "stream",
     "text": [
      "123456\n"
     ]
    }
   ],
   "execution_count": 20
  },
  {
   "cell_type": "code",
   "id": "8bac5e7e19092ce",
   "metadata": {
    "ExecuteTime": {
     "end_time": "2024-10-09T04:42:45.750778Z",
     "start_time": "2024-10-09T04:42:41.347965Z"
    }
   },
   "source": [
    "print(int(input()) + 456) # キーボードで⼊⼒した値を整数にキャスト\n",
    "# 123と入力してください\n",
    "# この場合は足し算を行う"
   ],
   "outputs": [
    {
     "name": "stdout",
     "output_type": "stream",
     "text": [
      "579\n"
     ]
    }
   ],
   "execution_count": 21
  },
  {
   "cell_type": "code",
   "id": "1c07c9b0cfe29f3e",
   "metadata": {
    "ExecuteTime": {
     "end_time": "2024-10-09T04:42:56.271016Z",
     "start_time": "2024-10-09T04:42:47.942066Z"
    }
   },
   "source": [
    "int(input('整数を代入してください'))"
   ],
   "outputs": [
    {
     "data": {
      "text/plain": [
       "20"
      ]
     },
     "execution_count": 22,
     "metadata": {},
     "output_type": "execute_result"
    }
   ],
   "execution_count": 22
  },
  {
   "cell_type": "markdown",
   "id": "e7f0d7316217f167",
   "metadata": {},
   "source": [
    "### 変数\n",
    "- コンピュータのメモリ上の領域に名前を付けて値を格納する仕組み\n",
    "  - この仕組みを利用して，値を一時保存できる\n",
    "  - 数値や文字列に付ける名札のようなもの\n",
    "- 変数 = 初期値 で変数の初期化を行う\n",
    "  - = を代入演算子とよぶ（ = を等号の意味で使用しない）\n",
    "- 変数 = input() とすると，その変数に，キーボードから入力した値が格納される\n",
    "- print(変数) とすると，その変数に格納されている値を，表示することができる"
   ]
  },
  {
   "cell_type": "code",
   "id": "b713d2e245133e48",
   "metadata": {
    "ExecuteTime": {
     "end_time": "2024-10-09T04:42:58.746011Z",
     "start_time": "2024-10-09T04:42:58.743629Z"
    }
   },
   "source": [
    "a = 10   # 変数aに10を代⼊\n",
    "print(a) # 変数aの中身を表⽰\n",
    "# aという名前がついた箱の中に整数の10というデータが入っているイメージをしてプログラムを行う\n",
    "# この考え方がプログラミングの基本"
   ],
   "outputs": [
    {
     "name": "stdout",
     "output_type": "stream",
     "text": [
      "10\n"
     ]
    }
   ],
   "execution_count": 23
  },
  {
   "cell_type": "markdown",
   "id": "9a5b7bf971681384",
   "metadata": {},
   "source": [
    "- print(変数1, 変数2, ･･･, 変数n) とすると，変数1 変数2 ･･･ 変数n と表示する\n",
    "- 変数は自由に付けられるが，以下のルールがある\n",
    "  - 英数字，アンダースコア _ のみ使用可能\n",
    "  - 数字から始まらないこと（英字，アンダースコアはOK）\n",
    "  - ABCとabcは別の変数\n",
    "- 予約語（Pythonの文法で定義されている名前）は使用不可\n",
    "  - if，for，and など"
   ]
  },
  {
   "cell_type": "code",
   "id": "de9e2a34a3c70ec9",
   "metadata": {
    "ExecuteTime": {
     "end_time": "2024-10-09T04:43:07.494218Z",
     "start_time": "2024-10-09T04:43:01.258304Z"
    }
   },
   "source": [
    "a = 10   # 変数aに10を代⼊\n",
    "print(a) # 変数aの値を表⽰\n",
    "\n",
    "\n",
    "b = int(input(\"整数を入力してください\"))  # キーボードから⼊⼒した値を変数bに代⼊\n",
    "print(b) # 変数bの値を表⽰\n",
    "\n",
    "c = a + b # 変数cに変数aの値と変数bの値の和を代⼊\n",
    "print(c)  # 変数cの値を表⽰\n",
    "\n",
    "print(a, b) # 変数aとbの値を表⽰"
   ],
   "outputs": [
    {
     "name": "stdout",
     "output_type": "stream",
     "text": [
      "10\n",
      "12\n",
      "22\n",
      "10 12\n"
     ]
    }
   ],
   "execution_count": 24
  },
  {
   "cell_type": "markdown",
   "id": "834bb19582b48f92",
   "metadata": {},
   "source": [
    "### 変数の値の交換\n",
    "- x, y = y, x とすると，変数xと変数yの値を交換する"
   ]
  },
  {
   "cell_type": "code",
   "id": "a73f5696aa477457",
   "metadata": {
    "ExecuteTime": {
     "end_time": "2024-10-09T04:43:12.171831Z",
     "start_time": "2024-10-09T04:43:12.169588Z"
    }
   },
   "source": [
    "x = 4\n",
    "y = 3\n",
    "print(x, y) # 交換前\n",
    "x, y = y, x # 変数xとyの値を交換する\n",
    "print(x, y) # 交換後"
   ],
   "outputs": [
    {
     "name": "stdout",
     "output_type": "stream",
     "text": [
      "4 3\n",
      "3 4\n"
     ]
    }
   ],
   "execution_count": 26
  },
  {
   "cell_type": "markdown",
   "id": "9194613f08ddd354",
   "metadata": {},
   "source": [
    "- x, y = y, x の部分は，以下のプログラムと同じ"
   ]
  },
  {
   "cell_type": "code",
   "id": "33b886450e6b4fc8",
   "metadata": {
    "ExecuteTime": {
     "end_time": "2024-10-09T04:43:16.913670Z",
     "start_time": "2024-10-09T04:43:16.911188Z"
    }
   },
   "source": [
    "x = 5\n",
    "y = -5\n",
    "print(x, y) # 交換前\n",
    "\n",
    "# 以下の3行で交換を行う\n",
    "temp = x   # 別の変数を1つ⽤意して，値を保存しておく\n",
    "x = y\n",
    "y = temp  # 保存した値を代⼊する\n",
    "\n",
    "print(x, y) # 交換後"
   ],
   "outputs": [
    {
     "name": "stdout",
     "output_type": "stream",
     "text": [
      "5 -5\n",
      "-5 5\n"
     ]
    }
   ],
   "execution_count": 27
  },
  {
   "cell_type": "markdown",
   "id": "e22c7ba0032a4d4e",
   "metadata": {},
   "source": [
    "### 変数の値の更新\n",
    "- 変数 = 同じ変数 演算⼦ 値 で変数の値を更新できる\n",
    "  - プログラミング特有の書き方\n",
    "- 例1: x = x + 4 (『変数xに4を加えた値』を『変数xに代入する』)\n",
    "- 例2: y = y - 5 (『変数yに5を引いた値』を『変数yに代入する』)"
   ]
  },
  {
   "cell_type": "code",
   "id": "13db033a52f32a7c",
   "metadata": {
    "ExecuteTime": {
     "end_time": "2024-10-09T04:43:18.958956Z",
     "start_time": "2024-10-09T04:43:18.956346Z"
    }
   },
   "source": [
    "a = 11     # 変数aに11を代⼊\n",
    "print(a)   # 変数aの値を表⽰\n",
    "\n",
    "a = a * 11 # 変数aの値を更新する（11倍した値にする）\n",
    "print(a)   # 更新した変数aの値を表示"
   ],
   "outputs": [
    {
     "name": "stdout",
     "output_type": "stream",
     "text": [
      "11\n",
      "121\n"
     ]
    }
   ],
   "execution_count": 28
  },
  {
   "cell_type": "markdown",
   "id": "74bd2e1b465223a9",
   "metadata": {},
   "source": [
    "### print()\n",
    "- print()の中で，コンマ区切りを行うことで，変数と文字列の組み合わせの出力を行うことができる．"
   ]
  },
  {
   "cell_type": "code",
   "id": "e7aad489a3071c11",
   "metadata": {
    "ExecuteTime": {
     "end_time": "2024-10-09T04:43:20.729785Z",
     "start_time": "2024-10-09T04:43:20.727446Z"
    }
   },
   "source": [
    "a = 10\n",
    "print('aの値は', a , 'です')"
   ],
   "outputs": [
    {
     "name": "stdout",
     "output_type": "stream",
     "text": [
      "aの値は 10 です\n"
     ]
    }
   ],
   "execution_count": 29
  },
  {
   "cell_type": "markdown",
   "id": "3a41b6cbceff9cee",
   "metadata": {},
   "source": [
    "### 複合代入演算子\n",
    "- 変数に演算した結果を同じ変数に代入する演算子\n",
    "  - 変数の値を更新する場合に使われることが多い\n",
    "\n",
    "| 演算子 | 使用例 | 意味 | \n",
    "|-----|-----|------------| \n",
    "| +=  | a += 1 | a = a + 1  | \n",
    "| -=  | a -= 2 | a = a - 2  | \n",
    "| *=  | a *= 3 | a = a * 3  | \n",
    "| /=  | a /= 4 | a = a / 4  | \n",
    "| %=  | a %= 5 | a = a % 5  | \n",
    "| **= | a **= 6 | a = a ** 6 | \n",
    "| //= | a //= 7 | a = a // 7 | \n"
   ]
  },
  {
   "cell_type": "markdown",
   "id": "7249e2dbad9a30a3",
   "metadata": {},
   "source": [
    "### 演習1\n",
    "1. print()を使って，200円の商品を3つ，30円の商品を6つ購入した際の，消費税を10%込みの値段を表示しなさい\n",
    "2. 1つの整数を読み込んで，その整数の３乗の値を出力するプログラムを作成せよ\n",
    "3. 長方形の縦の長さと横の長さを読み込んで，その長方形の面積と周の長さを求めるプログラムを作成せよ\n",
    "4. キーボードから名前を読み込んで，Hello, 名前! と出力するプログラム作成せよ\n",
    "5. 秒単位の時間 S を読み込んで，「h:m:s」 の形式に変換して出力せよ\n",
    "  - 3600を読み込んだ場合， 1:0:0 と出力すること "
   ]
  }
 ],
 "metadata": {
  "kernelspec": {
   "display_name": "Python 3 (ipykernel)",
   "language": "python",
   "name": "python3"
  },
  "language_info": {
   "codemirror_mode": {
    "name": "ipython",
    "version": 3
   },
   "file_extension": ".py",
   "mimetype": "text/x-python",
   "name": "python",
   "nbconvert_exporter": "python",
   "pygments_lexer": "ipython3",
   "version": "3.8.10"
  }
 },
 "nbformat": 4,
 "nbformat_minor": 5
}
