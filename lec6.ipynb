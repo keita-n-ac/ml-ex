{
 "cells": [
  {
   "cell_type": "markdown",
   "source": [
    "### リスト構造\n",
    "- 数値や文字列などを並べて格納できるデータ\n",
    "  - ロッカーや棚に値が格納されているイメージ\n",
    "- それぞれの要素を半角コンマ , で区切って，全体を大括弧（角括弧）[] で囲む\n",
    "  - 例えば，12, 24, 36 の 3つの数値を格納するリストは以下の通りとなる\n",
    "```python\n",
    "[12, 24, 36]\n",
    "```\n",
    "| 12  | 24 | 36 |\n",
    "|-----|-----|-----|\n",
    "| 整数型 | 整数型 | 整数型 |\n",
    "\n",
    "- 様々なデータ型の値を格納したリストを作成できる\n",
    "```python\n",
    "[123, 'abc', -4.56] # 整数，⽂字列，⼩数のリスト\n",
    "```\n",
    "| 123 | abc  | -4.56 |\n",
    "|-----|------|-----|\n",
    "| 整数型 | 文字列型 | 小数型 |\n",
    "\n",
    "### リストとインデックス\n",
    "- リストの格納されている値を要素とよび，インデックスとよばれる数値を指定して各要素を取得できる\n",
    "  - 最初の要素（一番左の要素）のインデックス: 0\n",
    "    - リスト変数名[0] と書けば良い\n",
    "  - 最後の要素（一番右の要素）のインデックス: 要素数-1\n",
    "    - リスト変数名[要素数-1] と書けば良い\n",
    "- リスト変数名[インデックス]と書くことで，通常の変数に対する処理ができる（代入，演算，更新など）\n",
    "- print(リスト変数名) を実行すると，そのリストの中身が全部表示される"
   ],
   "metadata": {
    "collapsed": false
   },
   "id": "108ee84ceeb214e6"
  },
  {
   "cell_type": "code",
   "execution_count": 1,
   "outputs": [
    {
     "name": "stdout",
     "output_type": "stream",
     "text": [
      "1\n",
      "2\n",
      "z\n",
      "3\n",
      "[100, 202, 3, 'x', 'y', 'z']\n"
     ]
    }
   ],
   "source": [
    "x = [1, 2, 3, 'x', 'y', 'z']\n",
    "print(x[0])        # 最初の要素のインデックスは0となる\n",
    "print(x[1])        # 2番⽬の要素のインデックスは1となる\n",
    "print(x[5])        # 最後の要素のインデックスは「要素数-1」となる\n",
    "print(x[0] + x[1]) # x[0]とx[1]の和を出力\n",
    "x[0] = 100         # x[0]の値を100に変更する\n",
    "x[1] += 200        # x[1]に200を加える\n",
    "print(x)           # 全要素表示"
   ],
   "metadata": {
    "collapsed": false,
    "ExecuteTime": {
     "end_time": "2023-10-25T11:21:57.376562692Z",
     "start_time": "2023-10-25T11:21:57.375421435Z"
    }
   },
   "id": "51c1fb9cb0fd0d2a"
  },
  {
   "cell_type": "markdown",
   "source": [
    "```python\n",
    "x = [1, 2, 3, 'x', 'y', 'z']\n",
    "```\n",
    "\n",
    "この場合，\n",
    "\n",
    "| x[0] | x[1] | x[2] | x[3] | x[4] | x[5] |\n",
    "|------|------|------|------|------|------|\n",
    "| 1    | 2    | 3    | x    | y    | z    |\n",
    "| 整数型  | 整数型  | 整数型  | 文字列型 | 文字列型  | 文字列型  |\n",
    "\n",
    "となる\n",
    "\n",
    "### リスト構造に関する操作\n",
    "- len(リスト変数名): リストの要素数を求めることができる\n",
    "- リスト変数名.append(値): カッコの中にある値をリストの最後に追加する\n",
    "- リスト変数名.insert(値1, 値2): 値2を値1のインデックスの箇所に追加する\n",
    "  - 元々あったリストは1つずつ後ろにずれる \n",
    "- リスト変数名.remove(値): 指定した値をリストから取り除く\n",
    "  - 複数あった場合，インデックスが一番小さいものを取り除く\n",
    "- 要素数が0のリスト（空リスト）を作成する場合，リスト変数名 = [] と書けばよい"
   ],
   "metadata": {
    "collapsed": false
   },
   "id": "f571a56187e98fc0"
  },
  {
   "cell_type": "code",
   "execution_count": 2,
   "outputs": [
    {
     "name": "stdout",
     "output_type": "stream",
     "text": [
      "6\n",
      "[5, 6, 7, 8, 9, 10, 11]\n",
      "[4, 5, 6, 7, 8, 9, 11]\n"
     ]
    }
   ],
   "source": [
    "x = [5, 6, 7, 8, 9, 10] # リストの初期化\n",
    "print(len(x))           # 要素数を表示する\n",
    "x.append(11)            # 最後の要素に11を追加する\n",
    "print(x)                # 全要素表示\n",
    "x.insert(0, 4)          # インデックス0番に4を追加する\n",
    "x.remove(10)            # リストから10を取り除く\n",
    "print(x)                # 全要素表示"
   ],
   "metadata": {
    "collapsed": false,
    "ExecuteTime": {
     "end_time": "2023-10-25T11:21:59.820706689Z",
     "start_time": "2023-10-25T11:21:59.818111637Z"
    }
   },
   "id": "88d22e1b285b4bbf"
  },
  {
   "cell_type": "code",
   "execution_count": 3,
   "outputs": [
    {
     "name": "stdout",
     "output_type": "stream",
     "text": [
      "0\n",
      "[999]\n",
      "[-111, 999]\n"
     ]
    }
   ],
   "source": [
    "a = []             # 要素数0の空リストを作成する\n",
    "print(len(a))      # 要素数を表示する\n",
    "a.append(999)      # 最後の要素に999を追加する\n",
    "print(a)           # 全要素表示\n",
    "a.insert(0, -111)  # インデックス0番に-111を追加する\n",
    "print(a)           # 全要素表示"
   ],
   "metadata": {
    "collapsed": false,
    "ExecuteTime": {
     "end_time": "2023-10-25T11:22:00.383713981Z",
     "start_time": "2023-10-25T11:22:00.380315271Z"
    }
   },
   "id": "45bd5c14286516ab"
  },
  {
   "cell_type": "markdown",
   "source": [
    "### リスト構造と繰り返し処理\n",
    "- 数値や文字列などを並べて格納しているため，繰り返し処理と相性がよく，以下の方法で1つずつ値を順番に取り出すことができる"
   ],
   "metadata": {
    "collapsed": false
   },
   "id": "34771138e6094a7c"
  },
  {
   "cell_type": "code",
   "execution_count": 4,
   "outputs": [
    {
     "name": "stdout",
     "output_type": "stream",
     "text": [
      "1\n",
      "2\n",
      "3\n",
      "4\n",
      "5\n",
      "6\n",
      "7\n",
      "8\n",
      "9\n",
      "10\n"
     ]
    }
   ],
   "source": [
    "# 各要素にアクセス\n",
    "x = [1, 2, 3, 4, 5, 6, 7, 8, 9, 10]\n",
    "for i in x: # iの値がx[0]の値, x[1]の値, ･･･, x[9]の値となる繰り返しとなる\n",
    "    print(i) "
   ],
   "metadata": {
    "collapsed": false,
    "ExecuteTime": {
     "end_time": "2023-10-25T11:22:01.213454743Z",
     "start_time": "2023-10-25T11:22:01.206775313Z"
    }
   },
   "id": "421a3e934db7258c"
  },
  {
   "cell_type": "markdown",
   "source": [
    "- 繰り返し処理でインデックスを変更させながら格納している要素値を得ることも可能\n",
    "  - 上のプログラムと同じ結果が得られる  "
   ],
   "metadata": {
    "collapsed": false
   },
   "id": "87e429775abc0f1d"
  },
  {
   "cell_type": "code",
   "execution_count": 5,
   "outputs": [
    {
     "name": "stdout",
     "output_type": "stream",
     "text": [
      "1\n",
      "2\n",
      "3\n",
      "4\n",
      "5\n",
      "6\n",
      "7\n",
      "8\n",
      "9\n",
      "10\n"
     ]
    }
   ],
   "source": [
    "x = [1, 2, 3, 4, 5, 6, 7, 8, 9, 10]\n",
    "for i in range(len(x)): # 要素数回繰り返す\n",
    "    print(x[i])         # インデックスを指定する"
   ],
   "metadata": {
    "collapsed": false,
    "ExecuteTime": {
     "end_time": "2023-10-25T11:22:02.062889490Z",
     "start_time": "2023-10-25T11:22:02.052314560Z"
    }
   },
   "id": "44f94b9ba6ba7f9c"
  },
  {
   "cell_type": "markdown",
   "source": [
    "### 一括でリストの合計値を求める\n",
    "- リストの中身がすべて数値の場合に限り，sum(リスト変数名)で，リストの中身の合計値を求めることができる"
   ],
   "metadata": {
    "collapsed": false
   },
   "id": "1be54bbea74b18bf"
  },
  {
   "cell_type": "code",
   "execution_count": 6,
   "outputs": [
    {
     "name": "stdout",
     "output_type": "stream",
     "text": [
      "15\n"
     ]
    }
   ],
   "source": [
    "x = [1, 2, 3, 4, 5]\n",
    "print(sum(x))"
   ],
   "metadata": {
    "collapsed": false,
    "ExecuteTime": {
     "end_time": "2023-10-25T11:22:02.987247918Z",
     "start_time": "2023-10-25T11:22:02.981587336Z"
    }
   },
   "id": "967fd6c2614de08b"
  },
  {
   "cell_type": "code",
   "execution_count": 7,
   "outputs": [
    {
     "name": "stdout",
     "output_type": "stream",
     "text": [
      "15\n"
     ]
    }
   ],
   "source": [
    "# sumを使わない場合は，以下のように書く\n",
    "x = [1, 2, 3, 4, 5]\n",
    "goukei = 0 # 合計値を保存するための変数\n",
    "for i in x:\n",
    "    goukei += i\n",
    "\n",
    "print(goukei)"
   ],
   "metadata": {
    "collapsed": false,
    "ExecuteTime": {
     "end_time": "2023-10-25T11:22:03.359690741Z",
     "start_time": "2023-10-25T11:22:03.354836775Z"
    }
   },
   "id": "576d6496d79e617d"
  },
  {
   "cell_type": "markdown",
   "source": [
    "- max(リスト変数名): リストの中で最大値を求める\n",
    "- min(リスト変数名): リストの中で最小値を求める"
   ],
   "metadata": {
    "collapsed": false
   },
   "id": "db52f85443519350"
  },
  {
   "cell_type": "code",
   "execution_count": 8,
   "outputs": [
    {
     "name": "stdout",
     "output_type": "stream",
     "text": [
      "5\n",
      "1\n"
     ]
    }
   ],
   "source": [
    "x = [1, 2, 3, 4, 5]\n",
    "print(max(x))\n",
    "print(min(x))"
   ],
   "metadata": {
    "collapsed": false,
    "ExecuteTime": {
     "end_time": "2023-10-25T11:22:04.244722397Z",
     "start_time": "2023-10-25T11:22:04.242765893Z"
    }
   },
   "id": "b445f3700b7d275"
  },
  {
   "cell_type": "markdown",
   "source": [
    "### 一括でリストの平均値を求める\n",
    "- 平均値を一括で求める方法はないので，sumとlenを利用する\n",
    "- sum: 合計値を求める\n",
    "- len: リストの個数を求める\n",
    "- 平均 = 合計 ÷ 個数"
   ],
   "metadata": {
    "collapsed": false
   },
   "id": "3396a400fa30d8aa"
  },
  {
   "cell_type": "code",
   "execution_count": 9,
   "outputs": [
    {
     "name": "stdout",
     "output_type": "stream",
     "text": [
      "15\n",
      "3.0\n"
     ]
    }
   ],
   "source": [
    "x = [1, 2, 3, 4, 5]\n",
    "print(sum(x)) # 合計値を出力\n",
    "print(sum(x) / len(x)) # 平均値を出力\n"
   ],
   "metadata": {
    "collapsed": false,
    "ExecuteTime": {
     "end_time": "2023-10-25T11:22:05.076436891Z",
     "start_time": "2023-10-25T11:22:05.075259595Z"
    }
   },
   "id": "e5620347782aaa4a"
  },
  {
   "cell_type": "code",
   "execution_count": 10,
   "outputs": [
    {
     "name": "stdout",
     "output_type": "stream",
     "text": [
      "15\n",
      "3.0\n"
     ]
    }
   ],
   "source": [
    "# sumやlenを使わない場合は，以下のように書く\n",
    "x = [1, 2, 3, 4, 5]\n",
    "goukei = 0 # 合計値を保存するための変数\n",
    "number = 0 # 個数を保存するための変数\n",
    "for i in x:\n",
    "    goukei += i\n",
    "    number += 1\n",
    "\n",
    "print(goukei)          # 合計値を出力\n",
    "print(goukei / number) # 平均値を出力"
   ],
   "metadata": {
    "collapsed": false,
    "ExecuteTime": {
     "end_time": "2023-10-25T11:22:05.585789566Z",
     "start_time": "2023-10-25T11:22:05.578595336Z"
    }
   },
   "id": "23b77382c2662d52"
  },
  {
   "cell_type": "markdown",
   "source": [
    "- AIを構築する際にPythonなどが使われる理由の1つに，リストなどの一括処理を行う命令（sumやlen）などが多いため"
   ],
   "metadata": {
    "collapsed": false
   },
   "id": "a4ee761c5dae6660"
  },
  {
   "cell_type": "markdown",
   "source": [
    "### リストの応用（スライス記法）\n",
    "- スライスとよばれる方法を用いることで，指定した範囲の要素を取り出すことができる\n",
    "- リスト変数[A:B]と書くと，インデックスA以上，B未満の範囲を取り出すことできる"
   ],
   "metadata": {
    "collapsed": false
   },
   "id": "64f10070e0d2234a"
  },
  {
   "cell_type": "code",
   "execution_count": 11,
   "outputs": [
    {
     "name": "stdout",
     "output_type": "stream",
     "text": [
      "[3, 4, 5]\n",
      "[1, 2, 3, 4, 5, 6, 7]\n"
     ]
    }
   ],
   "source": [
    "# スライス例\n",
    "a = [1, 2, 3, 4, 5, 6, 7, 8, 9, 10]\n",
    "print(a[2:5]) # a[2]〜a[4]を範囲指定\n",
    "print(a[0:7]) # a[0]〜a[6]を範囲指定"
   ],
   "metadata": {
    "collapsed": false,
    "ExecuteTime": {
     "end_time": "2023-10-25T11:22:06.856158354Z",
     "start_time": "2023-10-25T11:22:06.853018853Z"
    }
   },
   "id": "753b0e4b7eab328e"
  },
  {
   "cell_type": "markdown",
   "source": [
    "- リスト変数[A:]と書くと，インデックスA以上，最後の要素までの範囲を取り出すことできる\n",
    "- リスト変数[:B]と書くと，最初の要素から，B未満の範囲を取り出すことできる"
   ],
   "metadata": {
    "collapsed": false
   },
   "id": "4703de952e6b94d0"
  },
  {
   "cell_type": "code",
   "execution_count": 12,
   "outputs": [
    {
     "name": "stdout",
     "output_type": "stream",
     "text": [
      "[5, 6, 7, 8, 9, 10]\n",
      "[1, 2, 3, 4, 5, 6]\n"
     ]
    }
   ],
   "source": [
    "# スライス例\n",
    "a = [1, 2, 3, 4, 5, 6, 7, 8, 9, 10]\n",
    "print(a[4:]) # a[4]から最後の要素までを範囲指定\n",
    "print(a[:6]) # 最初の要素からa[5]までを範囲指定"
   ],
   "metadata": {
    "collapsed": false,
    "ExecuteTime": {
     "end_time": "2023-10-25T11:22:07.675516549Z",
     "start_time": "2023-10-25T11:22:07.667838921Z"
    }
   },
   "id": "96a6364e47effd47"
  },
  {
   "cell_type": "markdown",
   "source": [
    "- リスト変数[A:B:C]と書くと，取り出し間隔Cで，インデックスA以上から，B未満の範囲を取り出すことできる\n",
    "    - Cを2にすると，2つおきに取り出すことができる"
   ],
   "metadata": {
    "collapsed": false
   },
   "id": "809142fa7576a735"
  },
  {
   "cell_type": "code",
   "execution_count": 13,
   "outputs": [
    {
     "name": "stdout",
     "output_type": "stream",
     "text": [
      "[1, 3, 5]\n",
      "[2, 4]\n"
     ]
    }
   ],
   "source": [
    "# スライス例\n",
    "a = [1, 2, 3, 4, 5, 6, 7, 8, 9, 10]\n",
    "print(a[0:5:2]) # a[0]〜a[4]の範囲で2つおきに取り出す\n",
    "print(a[1:5:2]) # a[1]〜a[4]の範囲で2つおきに取り出す"
   ],
   "metadata": {
    "collapsed": false,
    "ExecuteTime": {
     "end_time": "2023-10-25T11:22:08.406570291Z",
     "start_time": "2023-10-25T11:22:08.404366358Z"
    }
   },
   "id": "8265646d9d156e09"
  },
  {
   "cell_type": "markdown",
   "source": [
    "### リストの応用（インデックスを負の整数を指定する）\n",
    "- リストのインデックスを負の値を指定することができる\n",
    "    - リスト変数名[-1]: リストの1番最後の要素\n",
    "    - リスト変数名[-2]: リストの最後から2番目の要素 \n",
    "    - リスト変数名[-n]（n:整数）: リストの最後からn番目の要素 \n",
    "\n",
    "```python\n",
    "x = [1, 2, 3, 4, 5, 6]\n",
    "```\n",
    "\n",
    "| x[0] または x[-6] | x[1] または x[-5] | x[2] または x[-4] | x[3] または x[-3] | x[4] または x[-2] | x[5] または x[-1] |\n",
    "|----------------|----------------|----------------|----------------|----------------|----------------|\n",
    "| 1              | 2              | 3              | x              | y              | z              |"
   ],
   "metadata": {
    "collapsed": false
   },
   "id": "b2d76e25b98e368e"
  },
  {
   "cell_type": "code",
   "execution_count": 14,
   "outputs": [
    {
     "name": "stdout",
     "output_type": "stream",
     "text": [
      "5\n",
      "4\n",
      "3\n",
      "2\n",
      "1\n"
     ]
    }
   ],
   "source": [
    "a = [1, 2, 3, 4, 5]\n",
    "print(a[-1]) # リストの1番最後の要素\n",
    "print(a[-2]) # リストの最後から2番目の要素 \n",
    "print(a[-3]) # リストの最後から3番目の要素 \n",
    "print(a[-4]) # リストの最後から4番目の要素\n",
    "print(a[-5]) # リストの最後から5番目の要素"
   ],
   "metadata": {
    "collapsed": false,
    "ExecuteTime": {
     "end_time": "2023-10-25T11:22:09.131423573Z",
     "start_time": "2023-10-25T11:22:09.124077445Z"
    }
   },
   "id": "a5cc1c822a44ed94"
  },
  {
   "cell_type": "markdown",
   "source": [
    "### リストの応用\n",
    "- スライス記法と負のインデックス表記を組み合わせることができる\n",
    "- リスト変数[:]と書くと，すべての要素を取り出すことができる\n",
    "- リスト変数[::-1]と書くと，リストの要素を逆順にした結果を取り出すことができる"
   ],
   "metadata": {
    "collapsed": false
   },
   "id": "364f1267f0de0c2a"
  },
  {
   "cell_type": "code",
   "execution_count": 15,
   "outputs": [
    {
     "name": "stdout",
     "output_type": "stream",
     "text": [
      "[1, 2, 3, 4]\n",
      "[1, 2, 3, 4, 5]\n",
      "[5, 4, 3, 2, 1]\n"
     ]
    }
   ],
   "source": [
    "n = [1, 2, 3, 4, 5]\n",
    "print(n[:-1]) # 最初の要素からn[-2]までの範囲を取り出す\n",
    "print(n[:]) # リストの全要素を取り出す\n",
    "print(n[::-1]) # リストを逆順にした結果を取り出す"
   ],
   "metadata": {
    "collapsed": false,
    "ExecuteTime": {
     "end_time": "2023-10-25T11:22:10.020201971Z",
     "start_time": "2023-10-25T11:22:10.016724561Z"
    }
   },
   "id": "5a592da3ecd0ed3"
  },
  {
   "cell_type": "code",
   "execution_count": 16,
   "outputs": [
    {
     "name": "stdout",
     "output_type": "stream",
     "text": [
      "[1, 2, 3, 4, 5, 6, 7, 8, 9, 10, 11, 12, 13, 14, 15, 16, 17, 18, 19, 20, 21, 22, 23, 24, 25, 26, 27, 28, 29, 30, 31, 32, 33, 34, 35, 36, 37, 38, 39, 40, 41, 42, 43, 44, 45, 46, 47, 48, 49, 50, 51, 52, 53, 54, 55, 56, 57, 58, 59, 60, 61, 62, 63, 64, 65, 66, 67, 68, 69, 70, 71, 72, 73, 74, 75, 76, 77, 78, 79, 80, 81, 82, 83, 84, 85, 86, 87, 88, 89, 90, 91, 92, 93, 94, 95, 96, 97, 98, 99, 100]\n",
      "合計値: 5050\n",
      "平均値: 50.5\n"
     ]
    }
   ],
   "source": [
    "# サンプルプログラム1\n",
    "# リストに1から100の数字を格納し，合計，平均を求める\n",
    "\n",
    "x = [] # 初期化: 中身がない空リストを用意\n",
    "\n",
    "# 繰り返し処理を利用して，1つずつ値を格納する\n",
    "for i in range(1, 101):\n",
    "    x.append(i) # appendでリストに値を追加する\n",
    "\n",
    "print(x)               # リスト中身を表示\n",
    "print('合計値:', sum(x))          # 1〜100の合計値を出力\n",
    "print('平均値:', sum(x) / len(x)) # 1〜100の平均値を出力"
   ],
   "metadata": {
    "collapsed": false,
    "ExecuteTime": {
     "end_time": "2023-10-25T11:22:10.405001813Z",
     "start_time": "2023-10-25T11:22:10.399491959Z"
    }
   },
   "id": "657bc3618146cca1"
  },
  {
   "cell_type": "markdown",
   "source": [
    "### ディクショナリ（辞書式リスト）\n",
    "- リストの拡張\n",
    "  - リスト: インデックス（数字の連番）で要素を管理\n",
    "  - ディクショナリ: キーとよばれる指定した値で要素を管理\n",
    "- ディクショナリは，『キー: 要素』を半角コンマ , で区切って，全体を中括弧（波括弧）{} で囲む\n",
    "  - キーのデータ型は文字列・数値を混ぜても問題ない\n",
    "  - キーが重複された場合，最後に指定したキーで指定した要素が使用される"
   ],
   "metadata": {
    "collapsed": false
   },
   "id": "4e826211ee1aeac1"
  },
  {
   "cell_type": "code",
   "execution_count": 17,
   "outputs": [
    {
     "name": "stdout",
     "output_type": "stream",
     "text": [
      "card1: {'Jack': 11, 'Queen': 12, 'King': 13, 'Ace': 1}\n",
      "card2: {11: 'J', 12: 'Q', 13: 'K', 1: 'A'}\n"
     ]
    }
   ],
   "source": [
    "# ディクショナリの初期化\n",
    "\n",
    "# 例1: キーが文字列，要素が数値のディクショナリ\n",
    "card1 = {'Jack': 11, 'Queen': 12, 'King': 13, 'Ace': 1}\n",
    "print('card1:', card1) # ディクショナリを出力\n",
    "\n",
    "# 例2: キーが数値，要素が文字列のディクショナリ\n",
    "card2 = {11: 'J', 12: 'Q', 13: 'K', 1: 'A'}\n",
    "print('card2:', card2) # ディクショナリを出力"
   ],
   "metadata": {
    "collapsed": false,
    "ExecuteTime": {
     "end_time": "2023-10-25T11:22:11.600668031Z",
     "start_time": "2023-10-25T11:22:11.599308265Z"
    }
   },
   "id": "67403929e3619060"
  },
  {
   "cell_type": "markdown",
   "source": [
    "- キーを指定することで，キーで指定した値を取り出すことができる\n",
    "  - ディクショナリ変数名[キー] と書けば良い "
   ],
   "metadata": {
    "collapsed": false
   },
   "id": "7303b0c3b8a7b3ff"
  },
  {
   "cell_type": "code",
   "execution_count": 18,
   "outputs": [
    {
     "name": "stdout",
     "output_type": "stream",
     "text": [
      "11\n",
      "12\n",
      "13\n",
      "1\n"
     ]
    }
   ],
   "source": [
    "card1 = {'Jack': 11, 'Queen': 12, 'King': 13, 'Ace': 1}\n",
    "print(card1['Jack'])\n",
    "print(card1['Queen'])\n",
    "print(card1['King'])\n",
    "print(card1['Ace'])"
   ],
   "metadata": {
    "collapsed": false,
    "ExecuteTime": {
     "end_time": "2023-10-25T11:22:12.579710921Z",
     "start_time": "2023-10-25T11:22:12.575812022Z"
    }
   },
   "id": "3b28ff58a387aa1a"
  },
  {
   "cell_type": "markdown",
   "source": [
    "- 新しいキーを指定することで，ディクショナリにそのキーを追加できる\n",
    "- ディクショナリ変数名[キー] = 値 と書くことで，要素を変更できる"
   ],
   "metadata": {
    "collapsed": false
   },
   "id": "8d8091d8191bb3eb"
  },
  {
   "cell_type": "code",
   "execution_count": 19,
   "outputs": [
    {
     "name": "stdout",
     "output_type": "stream",
     "text": [
      "{'Jack': 11, 'Queen': 12, 'King': 13, 'Ace': 1, 'Joker': 14}\n",
      "{'Jack': 11, 'Queen': 12, 'King': 13, 'Ace': 1, 'Joker': 0}\n"
     ]
    }
   ],
   "source": [
    "card1 = {'Jack': 11, 'Queen': 12, 'King': 13, 'Ace': 1}\n",
    "card1['Joker'] = 14 # 新しいキーを追加する\n",
    "print(card1)\n",
    "card1['Joker'] = 0  # キーJokerの要素を変更する\n",
    "print(card1)"
   ],
   "metadata": {
    "collapsed": false,
    "ExecuteTime": {
     "end_time": "2023-10-25T11:22:13.429086318Z",
     "start_time": "2023-10-25T11:22:13.422355517Z"
    }
   },
   "id": "61e8c2117ead8f16"
  },
  {
   "cell_type": "markdown",
   "source": [
    "- del ディクショナリ[キー]とすることで，そのキーを削除する"
   ],
   "metadata": {
    "collapsed": false
   },
   "id": "d872fd86e0f4713"
  },
  {
   "cell_type": "code",
   "execution_count": 20,
   "outputs": [
    {
     "name": "stdout",
     "output_type": "stream",
     "text": [
      "{'Jack': 11, 'Queen': 12, 'King': 13, 'Ace': 1}\n",
      "{'Jack': 11, 'Queen': 12, 'King': 13}\n"
     ]
    }
   ],
   "source": [
    "card1 = {'Jack': 11, 'Queen': 12, 'King': 13, 'Ace': 1}\n",
    "print(card1)\n",
    "del card1['Ace'] # キーAceを削除する\n",
    "print(card1)"
   ],
   "metadata": {
    "collapsed": false,
    "ExecuteTime": {
     "end_time": "2023-10-25T11:22:14.366564802Z",
     "start_time": "2023-10-25T11:22:14.364691408Z"
    }
   },
   "id": "d2ecf9e10f5dc421"
  },
  {
   "cell_type": "markdown",
   "source": [
    "### リストとディクショナリ\n",
    "- 順序を持つ複数のデータを管理したい場合: リストを使用\n",
    "- 順序を持たない複数のデータに対して名前をつけて管理したい場合: ディクショナリを使用"
   ],
   "metadata": {
    "collapsed": false
   },
   "id": "70988bfe4110ff39"
  },
  {
   "cell_type": "code",
   "execution_count": 21,
   "outputs": [
    {
     "name": "stdout",
     "output_type": "stream",
     "text": [
      "0 番目のスコアを入力してください \n",
      "1 番目のスコアを入力してください \n",
      "2 番目のスコアを入力してください \n",
      "3 番目のスコアを入力してください \n",
      "4 番目のスコアを入力してください \n",
      "5 番目のスコアを入力してください \n",
      "[100, 90, 80, 80, 90, 100]\n",
      "人数: 6\n",
      "最高点: 100\n",
      "最低点: 80\n",
      "平均点: 90.0\n"
     ]
    }
   ],
   "source": [
    "# 成績解析プログラム\n",
    "num = int(input('学生の人数を入力してください')) # numに学生人数を保存\n",
    "data = [] # 成績を保存するリスト\n",
    "\n",
    "for i in range(num):\n",
    "    print(i, '番目のスコアを入力してください ')\n",
    "    score = int(input())\n",
    "    data.append(score)\n",
    "\n",
    "print(data)\n",
    "print('人数:', num)\n",
    "print('最高点:', max(data))\n",
    "print('最低点:', min(data))\n",
    "print('平均点:', sum(data) / len(data))"
   ],
   "metadata": {
    "collapsed": false,
    "ExecuteTime": {
     "end_time": "2023-10-25T11:22:27.848652775Z",
     "start_time": "2023-10-25T11:22:15.469436339Z"
    }
   },
   "id": "c6ab48da133b50e"
  },
  {
   "cell_type": "markdown",
   "source": [
    "### 演習1\n",
    "1. 要素数0の空リストを作成し，appendを利用して，先頭から，1, 3, 5, 7, 9, 11, …, 93, 95, 97, 99を格納するリストを作成せよ\n",
    "2. この作成したリストに対して，合計値，平均値を求めるプログラムを作成せよ\n",
    "3. この作成したリストに対して，99, 97, 95, 93, …, 11, 9, 7, 5, 3, 1と逆順になるようなプログラムを作成せよ\n",
    "  - 本来の考え方: インデックス0番目の要素と99番目の要素を交換，インデックス1番目の要素と98番目の要素を交換，…"
   ],
   "metadata": {
    "collapsed": false
   },
   "id": "15619c97b828dd2c"
  },
  {
   "cell_type": "markdown",
   "source": [
    "### 演習2\n",
    "- リスト[10, 20, 30, 100, 200, 300]の分散値をプログラムで求めてください．\n",
    "\n",
    "- 分散とは，データがどの程度平均の周りにばらついているかを表す値\n",
    "- 分散値の求め方\n",
    "    1. 平均値を求める\n",
    "    2. 各要素の偏差値を求める（各要素値から平均値を引く）\n",
    "    3. 各偏差値の2乗値を求める\n",
    "    4. 3で求めた2乗値の平均値が分散値となる\n",
    "\n",
    "- 例: [1, 2, 3, 4, 5, 6]の場合\n",
    "  1. 平均値は3.5となる\n",
    "  2. 各要素値から平均値を引く\n",
    "    - [1 - 3.5, 2 - 3.5, 3 - 3.5, 4 - 3.5, 5 - 3.5, 6 - 3.5]となる\n",
    "    - つまり，[-2.5, -1.5, -0.5. 0.5, 1.5, 2.5]となる\n",
    "  3. 各偏差値の2乗値を求める\n",
    "    - [-2.5 * -2.5, -1.5 * -1.5, -0.5 * -0.5, 0.5 * 0.5, 1.5 * 1.5, 2.5 * 2.5]となる\n",
    "    - つまり，[6.25, 2.25, 0.25. 0.25, 2.25, 6.25]となる\n",
    "  4. [6.25, 2.25, 0.25. 0.25, 2.25, 6.25]の平均値が分散値となる\n",
    "    - この場合，四捨五入すると2.917となる "
   ],
   "metadata": {
    "collapsed": false
   },
   "id": "aac375919b04d48b"
  },
  {
   "cell_type": "code",
   "execution_count": null,
   "outputs": [],
   "source": [],
   "metadata": {
    "collapsed": false
   },
   "id": "9c7e440570c4e9d1"
  }
 ],
 "metadata": {
  "kernelspec": {
   "display_name": "Python 3",
   "language": "python",
   "name": "python3"
  },
  "language_info": {
   "codemirror_mode": {
    "name": "ipython",
    "version": 2
   },
   "file_extension": ".py",
   "mimetype": "text/x-python",
   "name": "python",
   "nbconvert_exporter": "python",
   "pygments_lexer": "ipython2",
   "version": "2.7.6"
  }
 },
 "nbformat": 4,
 "nbformat_minor": 5
}
